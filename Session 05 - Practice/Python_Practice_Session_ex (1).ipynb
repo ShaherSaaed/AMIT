{
  "nbformat": 4,
  "nbformat_minor": 0,
  "metadata": {
    "colab": {
      "provenance": []
    },
    "kernelspec": {
      "name": "python3",
      "display_name": "Python 3"
    },
    "language_info": {
      "name": "python"
    }
  },
  "cells": [
    {
      "cell_type": "markdown",
      "source": [
        "# **String Slicing and Formatting**"
      ],
      "metadata": {
        "id": "wofrIdttXxHJ"
      }
    },
    {
      "cell_type": "markdown",
      "source": [
        "## Task 1"
      ],
      "metadata": {
        "id": "FkuvQiHpYCOy"
      }
    },
    {
      "cell_type": "markdown",
      "source": [
        "Basic string slicing to extract characters\n",
        " * Given a string `s = \"PythonProgramming\"`, print the first 6 characters.\n",
        "\n"
      ],
      "metadata": {
        "id": "Xu8p7lMJYDA3"
      }
    },
    {
      "cell_type": "code",
      "execution_count": null,
      "metadata": {
        "id": "lEyL-1C1Vi8P"
      },
      "outputs": [],
      "source": [
        "# TODO: Write your code here\n",
        "\n",
        "s = \"PythonProgramming\"\n",
        "# Your code"
      ]
    },
    {
      "cell_type": "markdown",
      "source": [
        "## Task 2"
      ],
      "metadata": {
        "id": "03fqBZgFYOue"
      }
    },
    {
      "cell_type": "markdown",
      "source": [
        "Formatting strings with variables\n",
        " * Given `name = \"Alice\"` and `age = 30`, print: My name is Alice and I am 30 years old. using f-strings.\n",
        "\n"
      ],
      "metadata": {
        "id": "W2jv5XbtYQXg"
      }
    },
    {
      "cell_type": "code",
      "source": [
        "# TODO: Write your code here\n",
        "\n",
        "name = \"Alice\"\n",
        "age = 30\n",
        "# Your code\n"
      ],
      "metadata": {
        "id": "-tBauHxKYKpv"
      },
      "execution_count": null,
      "outputs": []
    },
    {
      "cell_type": "markdown",
      "source": [
        "## Task 3"
      ],
      "metadata": {
        "id": "CaOF3vjQYYzD"
      }
    },
    {
      "cell_type": "markdown",
      "source": [
        "Advanced slicing using steps\n",
        " * Given a string `s = \"abcdefghijklmn\"`, print every second character.\n",
        "\n"
      ],
      "metadata": {
        "id": "C2chVfxcYZbq"
      }
    },
    {
      "cell_type": "code",
      "source": [
        "# TODO: Write your code here\n",
        "\n",
        "s = \"abcdefghijklmn\"\n",
        "# Your code\n"
      ],
      "metadata": {
        "id": "d5r8jPTAYWip"
      },
      "execution_count": null,
      "outputs": []
    },
    {
      "cell_type": "markdown",
      "source": [
        "## Task 4"
      ],
      "metadata": {
        "id": "JfQalX3mYk9O"
      }
    },
    {
      "cell_type": "markdown",
      "source": [
        "Reverse string using slicing\n",
        " * Given `text = \"Python\"`, reverse it and print it.\n"
      ],
      "metadata": {
        "id": "P3PkIj3JYmEQ"
      }
    },
    {
      "cell_type": "code",
      "source": [
        "# TODO: Write your code here\n",
        "\n",
        "text = \"Python\"\n",
        "# Your code\n"
      ],
      "metadata": {
        "id": "vHNU3lD5Yf1d"
      },
      "execution_count": null,
      "outputs": []
    },
    {
      "cell_type": "markdown",
      "source": [
        "# **Data Structures in Python**"
      ],
      "metadata": {
        "id": "swVGUJ79YtDk"
      }
    },
    {
      "cell_type": "markdown",
      "source": [
        "## Task 1"
      ],
      "metadata": {
        "id": "pvNfoztpYwsB"
      }
    },
    {
      "cell_type": "markdown",
      "source": [
        "Accessing list elements\n",
        " * Given `numbers = [10, 20, 30, 40, 50]`, print the third element."
      ],
      "metadata": {
        "id": "rUSvJir9YxFc"
      }
    },
    {
      "cell_type": "code",
      "source": [
        "# TODO: Write your code here\n",
        "\n",
        "numbers = [10, 20, 30, 40, 50]\n",
        "# Your code\n"
      ],
      "metadata": {
        "id": "GNndM2Q8Yp1Y"
      },
      "execution_count": null,
      "outputs": []
    },
    {
      "cell_type": "markdown",
      "source": [
        "## Task 2"
      ],
      "metadata": {
        "id": "J-_EIMwpY2gS"
      }
    },
    {
      "cell_type": "markdown",
      "source": [
        "Create and access dictionary elements\n",
        " * Create a dictionary for a student with keys `\"name\"`, `\"age\"`, and `\"grade\"`. Print the student's name."
      ],
      "metadata": {
        "id": "0AjCzarFY236"
      }
    },
    {
      "cell_type": "code",
      "source": [
        "# TODO: Write your code here\n",
        "\n",
        "# Your code\n"
      ],
      "metadata": {
        "id": "bBEOkn7OY1YE"
      },
      "execution_count": null,
      "outputs": []
    },
    {
      "cell_type": "markdown",
      "source": [
        "## Task 3"
      ],
      "metadata": {
        "id": "V1CJxuDUY-wk"
      }
    },
    {
      "cell_type": "markdown",
      "source": [
        "Working with sets\n",
        " * Create a set with the numbers `{1, 2, 3, 4, 5}`, then add number 6 to the set."
      ],
      "metadata": {
        "id": "NZo1PQ7wY_VT"
      }
    },
    {
      "cell_type": "code",
      "source": [
        "# TODO: Write your code here\n",
        "\n",
        "# Your code\n"
      ],
      "metadata": {
        "id": "t_hOrS7RY9YJ"
      },
      "execution_count": null,
      "outputs": []
    },
    {
      "cell_type": "markdown",
      "source": [
        "## Task 4"
      ],
      "metadata": {
        "id": "aWH5Cbv5ZGtk"
      }
    },
    {
      "cell_type": "markdown",
      "source": [
        "Nested dictionaries\n",
        " * Given:\n",
        "\n",
        " ```\n",
        "  school = {\n",
        "   \"class1\": {\"name\": \"Ali\", \"age\": 15},\n",
        "   \"class2\": {\"name\": \"Sara\", \"age\": 16}\n",
        " }\n",
        " ```\n",
        "\n",
        "\n"
      ],
      "metadata": {
        "id": "N25TTdeRZIzJ"
      }
    },
    {
      "cell_type": "markdown",
      "source": [
        "Print the age of the student in class2."
      ],
      "metadata": {
        "id": "dt1ocm6FZUhi"
      }
    },
    {
      "cell_type": "code",
      "source": [
        "# TODO: Write your code here\n",
        "\n",
        "school = {\n",
        "  \"class1\": {\"name\": \"Ali\", \"age\": 15},\n",
        "  \"class2\": {\"name\": \"Sara\", \"age\": 16}\n",
        "}\n",
        "# Your code\n"
      ],
      "metadata": {
        "id": "Cj9koIIwZE0C"
      },
      "execution_count": null,
      "outputs": []
    },
    {
      "cell_type": "markdown",
      "source": [
        "# **Conditional Statements**"
      ],
      "metadata": {
        "id": "mItNFEadZbFK"
      }
    },
    {
      "cell_type": "markdown",
      "source": [
        "## Task 1"
      ],
      "metadata": {
        "id": "sfSwXTrFZcoj"
      }
    },
    {
      "cell_type": "markdown",
      "source": [
        "Simple if-statement check\n",
        " * Check if a number is greater than 10.\n"
      ],
      "metadata": {
        "id": "5SVWJYdWZgbB"
      }
    },
    {
      "cell_type": "code",
      "source": [
        "# TODO: Write your code here\n",
        "\n",
        "num = 12\n",
        "# Your code\n"
      ],
      "metadata": {
        "id": "HW1hBKRTZYQX"
      },
      "execution_count": null,
      "outputs": []
    },
    {
      "cell_type": "markdown",
      "source": [
        "## Task 2"
      ],
      "metadata": {
        "id": "fcjaR5EJZloD"
      }
    },
    {
      "cell_type": "markdown",
      "source": [
        "Multiple conditions\n",
        " * Check if a number is positive, negative, or zero.\n"
      ],
      "metadata": {
        "id": "rvDEEE-dZmAc"
      }
    },
    {
      "cell_type": "code",
      "source": [
        "# TODO: Write your code here\n",
        "\n",
        "num = -5\n",
        "# Your code\n"
      ],
      "metadata": {
        "id": "-elLCDEPZkWI"
      },
      "execution_count": null,
      "outputs": []
    },
    {
      "cell_type": "markdown",
      "source": [
        "## Task 3"
      ],
      "metadata": {
        "id": "a-LZZRJ5Zrv1"
      }
    },
    {
      "cell_type": "markdown",
      "source": [
        "Using logical operators\n",
        " * Check if a number is between 10 and 20 (inclusive).\n"
      ],
      "metadata": {
        "id": "CNCp7oOhZsDk"
      }
    },
    {
      "cell_type": "code",
      "source": [
        "# TODO: Write your code here\n",
        "\n",
        "num = 15\n",
        "# Your code\n"
      ],
      "metadata": {
        "id": "bo9vdKPGZqr8"
      },
      "execution_count": null,
      "outputs": []
    },
    {
      "cell_type": "markdown",
      "source": [
        "## Task 4"
      ],
      "metadata": {
        "id": "aYKrR_arZxUk"
      }
    },
    {
      "cell_type": "markdown",
      "source": [
        "Complex nested conditions\n",
        " * Grade a student based on score:\n",
        "  * 90+: A\n",
        "  * 80-89: B\n",
        "  * 70-79: C\n",
        "  * below 70: F"
      ],
      "metadata": {
        "id": "5p5FWkYAZxrW"
      }
    },
    {
      "cell_type": "code",
      "source": [
        "# TODO: Write your code here\n",
        "\n",
        "score = 85\n",
        "# Your code\n"
      ],
      "metadata": {
        "id": "oteIg7tnZwCG"
      },
      "execution_count": null,
      "outputs": []
    },
    {
      "cell_type": "markdown",
      "source": [
        "# **Loops**"
      ],
      "metadata": {
        "id": "jYhlu-BAZ9Gz"
      }
    },
    {
      "cell_type": "markdown",
      "source": [
        "## Task 1"
      ],
      "metadata": {
        "id": "aoQhWmpEaAhF"
      }
    },
    {
      "cell_type": "markdown",
      "source": [
        "Basic for loop\n",
        " * Print numbers from 1 to 5."
      ],
      "metadata": {
        "id": "fFk-ICpBaBEZ"
      }
    },
    {
      "cell_type": "code",
      "source": [
        "# TODO: Write your code here\n",
        "\n",
        "# Your code\n"
      ],
      "metadata": {
        "id": "CX2nMuKNZ7_Z"
      },
      "execution_count": null,
      "outputs": []
    },
    {
      "cell_type": "markdown",
      "source": [
        "## Task 2"
      ],
      "metadata": {
        "id": "dnZz4BniaG7q"
      }
    },
    {
      "cell_type": "markdown",
      "source": [
        "Loop through list\n",
        " * Print each character in the word \"Python\"."
      ],
      "metadata": {
        "id": "jNkRVRJKaIFl"
      }
    },
    {
      "cell_type": "code",
      "source": [
        "# TODO: Write your code here\n",
        "\n",
        "word = \"Python\"\n",
        "# Your code\n"
      ],
      "metadata": {
        "id": "keaW5wA_aFxY"
      },
      "execution_count": null,
      "outputs": []
    },
    {
      "cell_type": "markdown",
      "source": [
        "## Task 3"
      ],
      "metadata": {
        "id": "TLkKd6NraNkS"
      }
    },
    {
      "cell_type": "markdown",
      "source": [
        "Using `while` loop\n",
        " * Print numbers from 5 down to 1 using while loop.\n"
      ],
      "metadata": {
        "id": "QK_A7iJaaN5h"
      }
    },
    {
      "cell_type": "code",
      "source": [
        "# TODO: Write your code here\n",
        "\n",
        "# Your code\n"
      ],
      "metadata": {
        "id": "JP7U0BcOaMe5"
      },
      "execution_count": null,
      "outputs": []
    },
    {
      "cell_type": "markdown",
      "source": [
        "## Task 4"
      ],
      "metadata": {
        "id": "7ey0w8PcaTTS"
      }
    },
    {
      "cell_type": "markdown",
      "source": [
        "Nested loops\n",
        " * Print a 3x3 grid of `*` using nested loops."
      ],
      "metadata": {
        "id": "Yn2i9GfpaUNK"
      }
    },
    {
      "cell_type": "markdown",
      "source": [
        "![image.png](data:image/png;base64,iVBORw0KGgoAAAANSUhEUgAAAEcAAABTCAIAAABClY3FAAACvElEQVR4Ae2asariQBSG76OIpSCCnVWewGClTWwiBmwTFMRCxC5gGwsL2wiCWKcQizQiWNn4AKkshERSJGSWxb3DasbZdT1wJ3ePjZMT/XP+82VmyCEf5Dt+Pr6jKYKusoMVWSGrr60A3oFfW/9Xrs5jdblcqtWq4zivCD7+FkSEEGKapq7rj+pPjnmugiCo1+tvugIRIYRYlvWWq/P5rGma67pBEKiqutvtfN83DGO1Wj0pDSMMIpIkiWma0+k0DMPZbGaaZhzHi8XCMIwoihhX/QwxWF2vV9u2y+WypmmtVms0GhWLRUVRDodDkiSff/zDN4hIHMf7/b5Wq0mSNBwOdV2XZblSqSyXyzAMORkwXN1+HUXRZDLJ5XKSJB2PR44E5xSICCFku92WSqV8Pm/bNp/SLRmGK1rmdrvdbDY7nU6hUNB1/XQ6/QOrd0R+ZzUYDBRFkSRJlmXHcfjeGK48z1NV1XVd3/cbjcZms/E8r9vtrtdrDpaHUyAiURSNx+PbvLIsq9frhWE4n8/7/f7Lrmh+IMsXiAjAGkhdgWw1ICKQ+xW1l7kBY15lzkM6YXSVromoEWQlKpl0XsgqXRNRI8hKVDLpvJBVuiaiRpCVqGTSeSGrdE1Ejfx/rEAeY0FEIJ+FQVoOICIAfQuQtiuICPZu7xaup6sFSNsVRAR7t7+IMViBtF1BRLB3+3fzihACstWAiEDuV3f2M3XAmFeZyp+dLLpi10XEKLISkQo7J2TFrouIUWQlIhV2TsiKXRcRo8hKRCrsnJAVuy4iRpGViFTYOfFYgTycg4hAPuGDNJNBRLAj/fOeZNyB9A1VfJuYPWuxI82oC75NfFcUxryi50GWLxARgDWQugLZakBEIPcrai9zA94dmDkzNGF0RUsh/ABZCY+IJoisaCmEHyAr4RHRBJEVLYXwgx96j50tEj+c2AAAAABJRU5ErkJggg==)"
      ],
      "metadata": {
        "id": "7iU2CM20aeZM"
      }
    },
    {
      "cell_type": "code",
      "source": [
        "# TODO: Write your code here\n",
        "\n",
        "# Your code\n"
      ],
      "metadata": {
        "id": "ejOWhRXyaSGF"
      },
      "execution_count": null,
      "outputs": []
    },
    {
      "cell_type": "markdown",
      "source": [
        "# **Functions**"
      ],
      "metadata": {
        "id": "yo3OTeMgabhO"
      }
    },
    {
      "cell_type": "markdown",
      "source": [
        "## Task 1"
      ],
      "metadata": {
        "id": "xkc-MTkIah6F"
      }
    },
    {
      "cell_type": "markdown",
      "source": [
        "Create a simple function\n",
        " * Define a function that prints \"Hello!\".\n"
      ],
      "metadata": {
        "id": "MID19aOcaiRA"
      }
    },
    {
      "cell_type": "code",
      "source": [
        "# TODO: Write your code here\n",
        "\n",
        "# Your code\n"
      ],
      "metadata": {
        "id": "X2kJ8mEPaYJ8"
      },
      "execution_count": null,
      "outputs": []
    },
    {
      "cell_type": "markdown",
      "source": [
        "## Task 2"
      ],
      "metadata": {
        "id": "98Rg_xq1aose"
      }
    },
    {
      "cell_type": "markdown",
      "source": [
        "Function with parameters\n",
        " * Write a function that takes a number and returns its square.\n"
      ],
      "metadata": {
        "id": "6AtOZ7Yrap_N"
      }
    },
    {
      "cell_type": "code",
      "source": [
        "# TODO: Write your code here\n",
        "\n",
        "# Your code\n"
      ],
      "metadata": {
        "id": "ZUiQQmoaanO4"
      },
      "execution_count": null,
      "outputs": []
    },
    {
      "cell_type": "markdown",
      "source": [
        "## Task 3"
      ],
      "metadata": {
        "id": "hOLbodZyavN7"
      }
    },
    {
      "cell_type": "markdown",
      "source": [
        "Function with multiple parameters\n",
        " * Write a function that takes two numbers and returns their sum.\n"
      ],
      "metadata": {
        "id": "8oNvFKXUav-w"
      }
    },
    {
      "cell_type": "code",
      "source": [
        "# TODO: Write your code here\n",
        "\n",
        "# Your code\n"
      ],
      "metadata": {
        "id": "mDpP1M-Gas-6"
      },
      "execution_count": null,
      "outputs": []
    },
    {
      "cell_type": "markdown",
      "source": [
        "## Task 4"
      ],
      "metadata": {
        "id": "koFFGIdDa1Gw"
      }
    },
    {
      "cell_type": "markdown",
      "source": [
        " Function with default argument\n",
        "  * Define a function that greets a user. Default name should be \"Guest\".\n"
      ],
      "metadata": {
        "id": "ypigHTSpa1vU"
      }
    },
    {
      "cell_type": "code",
      "source": [
        "# TODO: Write your code here\n",
        "\n",
        "# Your code\n"
      ],
      "metadata": {
        "id": "Vo2ju4jCaz9L"
      },
      "execution_count": null,
      "outputs": []
    },
    {
      "cell_type": "markdown",
      "source": [
        "# **Lambda Functions**"
      ],
      "metadata": {
        "id": "lQFXwc-Xa6oE"
      }
    },
    {
      "cell_type": "markdown",
      "source": [
        "## Task 1"
      ],
      "metadata": {
        "id": "5pBPo0BKa_ur"
      }
    },
    {
      "cell_type": "markdown",
      "source": [
        "Simple lambda function\n",
        " * Create a lambda function that multiplies a number by 3.\n"
      ],
      "metadata": {
        "id": "pYxrvWIDbAh-"
      }
    },
    {
      "cell_type": "code",
      "source": [
        "# TODO: Write your code here\n",
        "\n",
        "# Your code\n"
      ],
      "metadata": {
        "id": "moKa9_Mwa5b-"
      },
      "execution_count": null,
      "outputs": []
    },
    {
      "cell_type": "markdown",
      "source": [
        "## Task 2"
      ],
      "metadata": {
        "id": "xrXOg7zNbFjn"
      }
    },
    {
      "cell_type": "markdown",
      "source": [
        "Using lambda inside `map`\n",
        "* Use map to add 5 to each number in `[1,2,3,4]`.\n",
        "\n"
      ],
      "metadata": {
        "id": "wbHG-oYhbGVu"
      }
    },
    {
      "cell_type": "code",
      "source": [
        "# TODO: Write your code here\n",
        "\n",
        "# Your code\n"
      ],
      "metadata": {
        "id": "4JwYxCjHbEms"
      },
      "execution_count": null,
      "outputs": []
    },
    {
      "cell_type": "markdown",
      "source": [
        "## Task 3"
      ],
      "metadata": {
        "id": "yRJ5z00zbM_t"
      }
    },
    {
      "cell_type": "markdown",
      "source": [
        "Lambda inside **filter**\n",
        " * Use filter to get odd numbers from `[1,2,3,4,5]`."
      ],
      "metadata": {
        "id": "3php7AB7bOWa"
      }
    },
    {
      "cell_type": "code",
      "source": [
        "# TODO: Write your code here\n",
        "\n",
        "# Your code\n"
      ],
      "metadata": {
        "id": "4sGU6HuabLr-"
      },
      "execution_count": null,
      "outputs": []
    },
    {
      "cell_type": "markdown",
      "source": [
        "## Task 4"
      ],
      "metadata": {
        "id": "pOBohliGbVeY"
      }
    },
    {
      "cell_type": "markdown",
      "source": [
        "Lambda with `sorted`\n",
        " * Sort a list of tuples by the second value using lambda.\n"
      ],
      "metadata": {
        "id": "xRmxF2H3bWSp"
      }
    },
    {
      "cell_type": "code",
      "source": [
        "# TODO: Write your code here\n",
        "\n",
        "data = [(1, 3), (2, 1), (4, 2)]\n",
        "# Your code\n"
      ],
      "metadata": {
        "id": "9DN_CsBqbUHW"
      },
      "execution_count": null,
      "outputs": []
    },
    {
      "cell_type": "code",
      "source": [],
      "metadata": {
        "id": "ha5WxZeobaf6"
      },
      "execution_count": null,
      "outputs": []
    },
    {
      "cell_type": "markdown",
      "source": [
        "# **Bonus** 🎁"
      ],
      "metadata": {
        "id": "FIH4sGfYbpmx"
      }
    },
    {
      "cell_type": "markdown",
      "source": [
        "### 🎯 Bonus Task: Password Strength Checker\n",
        "**Description:**  \n",
        "Build a simple password checker.\n",
        "\n",
        "**Requirement:**  \n",
        "Write a function that checks if a password meets the following rules:\n",
        "- At least 8 characters  \n",
        "- Contains both uppercase and lowercase letters  \n",
        "- Contains at least one digit  \n"
      ],
      "metadata": {
        "id": "jgK7X15GburJ"
      }
    },
    {
      "cell_type": "code",
      "source": [
        "# TODO: Write your code here\n",
        "\n",
        "def check_password(password):\n",
        "    # Your code here\n",
        "    pass\n",
        "\n",
        "# Example\n",
        "print(check_password(\"P@ssword1\"))  # Expected: True\n"
      ],
      "metadata": {
        "colab": {
          "base_uri": "https://localhost:8080/"
        },
        "id": "IEdQTzV7bq89",
        "outputId": "8bdf3c8f-9005-489e-d7f7-130b307bc54c"
      },
      "execution_count": null,
      "outputs": [
        {
          "output_type": "stream",
          "name": "stdout",
          "text": [
            "None\n"
          ]
        }
      ]
    },
    {
      "cell_type": "markdown",
      "source": [
        "### 🎯 Bonus Task : Palindrome Detector\n",
        "**Description:**  \n",
        "A palindrome is a word that reads the same backward.\n",
        "\n",
        "**Requirement:**  \n",
        "Write a function that checks if a word is a palindrome.\n"
      ],
      "metadata": {
        "id": "GUOa5L2xcFzP"
      }
    },
    {
      "cell_type": "code",
      "source": [
        "# TODO: Write your code here\n",
        "\n",
        "def is_palindrome(word):\n",
        "    # Your code\n",
        "    pass\n",
        "\n",
        "print(is_palindrome(\"madam\"))  # Expected: True\n"
      ],
      "metadata": {
        "colab": {
          "base_uri": "https://localhost:8080/"
        },
        "id": "0xW8nq7hcN2P",
        "outputId": "6d8f31c1-72d9-4d53-ce75-30a43458f033"
      },
      "execution_count": null,
      "outputs": [
        {
          "output_type": "stream",
          "name": "stdout",
          "text": [
            "None\n"
          ]
        }
      ]
    },
    {
      "cell_type": "markdown",
      "source": [
        "### 🎯 Bonus Task : Word Frequency Counter\n",
        "**Description:**  \n",
        "Count how many times each word appears in a string.\n",
        "\n",
        "**Requirement:**  \n",
        "Return a dictionary with each word and its count.\n"
      ],
      "metadata": {
        "id": "-uDAFJXGcR6e"
      }
    },
    {
      "cell_type": "code",
      "source": [
        "# TODO: Write your code here\n",
        "\n",
        "text = \"this is a test this is only a test\"\n",
        "# Your code here\n"
      ],
      "metadata": {
        "id": "x1cUYhflcT0C"
      },
      "execution_count": null,
      "outputs": []
    },
    {
      "cell_type": "markdown",
      "source": [
        "### 🎯 Bonus Task : FizzBuzz\n",
        "**Description:**  \n",
        "Classic logic challenge.\n",
        "\n",
        "**Requirement:**  \n",
        "Print numbers from 1 to 50. But:\n",
        "- For multiples of 3, print \"Fizz\"\n",
        "- For multiples of 5, print \"Buzz\"\n",
        "- For multiples of both 3 and 5, print \"FizzBuzz\"\n"
      ],
      "metadata": {
        "id": "IOfZEkbScZ-4"
      }
    },
    {
      "cell_type": "code",
      "source": [
        "# TODO: Write your code here\n",
        "\n",
        "# Your code here\n"
      ],
      "metadata": {
        "id": "GVe9SoX_cWv2"
      },
      "execution_count": null,
      "outputs": []
    },
    {
      "cell_type": "markdown",
      "source": [
        "### 🎯 Bonus Task : Emoji Translator\n",
        "**Description:**  \n",
        "Replace specific words with emojis.\n",
        "\n",
        "**Requirement:**  \n",
        "Replace the word \"happy\" with 😊 and \"sad\" with 😢.\n"
      ],
      "metadata": {
        "id": "FVEApBe1cidK"
      }
    },
    {
      "cell_type": "code",
      "source": [
        "# TODO: Write your code here\n",
        "\n",
        "text = \"I am happy today but yesterday I was sad\"\n",
        "# Your code\n"
      ],
      "metadata": {
        "id": "dOojze3Scc49"
      },
      "execution_count": null,
      "outputs": []
    },
    {
      "cell_type": "markdown",
      "source": [
        "### 🎯 Bonus Task : Find Missing Number\n",
        "**Description:**  \n",
        "You have a list from 1 to 10 but one number is missing.\n",
        "\n",
        "**Requirement:**  \n",
        "Find the missing number in the list `[1,2,3,4,6,7,8,9,10]`.\n"
      ],
      "metadata": {
        "id": "AnEBzqLwc-wE"
      }
    },
    {
      "cell_type": "code",
      "source": [
        "# TODO: Write your code here\n",
        "\n",
        "nums = [1,2,3,4,6,7,8,9,10]\n",
        "# Your code\n"
      ],
      "metadata": {
        "id": "X4srYKLhclLM"
      },
      "execution_count": null,
      "outputs": []
    },
    {
      "cell_type": "markdown",
      "source": [
        "### 🎯 Bonus Task : Longest Word Finder\n",
        "**Description:**  \n",
        "Find the longest word in a sentence.\n",
        "\n",
        "**Requirement:**  \n",
        "Write a function that returns the longest word from the sentence `\"Python makes coding enjoyable and efficient\"`.\n"
      ],
      "metadata": {
        "id": "ojgwK_AKdFJ7"
      }
    },
    {
      "cell_type": "code",
      "source": [
        "# TODO: Write your code here\n",
        "\n",
        "sentence = \"Python makes coding enjoyable and efficient\"\n",
        "# Your code\n"
      ],
      "metadata": {
        "id": "_Iztv4vsdE1_"
      },
      "execution_count": null,
      "outputs": []
    },
    {
      "cell_type": "code",
      "source": [],
      "metadata": {
        "id": "BUmYEwusdG3j"
      },
      "execution_count": null,
      "outputs": []
    }
  ]
}