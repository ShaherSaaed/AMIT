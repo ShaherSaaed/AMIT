{
  "nbformat": 4,
  "nbformat_minor": 0,
  "metadata": {
    "colab": {
      "provenance": []
    },
    "kernelspec": {
      "name": "python3",
      "display_name": "Python 3"
    },
    "language_info": {
      "name": "python"
    }
  },
  "cells": [
    {
      "cell_type": "markdown",
      "source": [
        "# **Tensorflow V1**"
      ],
      "metadata": {
        "id": "zIGPOZb0MPJq"
      }
    },
    {
      "cell_type": "code",
      "execution_count": 1,
      "metadata": {
        "id": "6tm2RDOhiyfe"
      },
      "outputs": [],
      "source": [
        "import tensorflow as tf"
      ]
    },
    {
      "cell_type": "markdown",
      "source": [
        "## **Try**"
      ],
      "metadata": {
        "id": "N_3isO3ZP_lS"
      }
    },
    {
      "cell_type": "markdown",
      "source": [
        "Disable eager execution to use TensorFlow v1-style sessions"
      ],
      "metadata": {
        "id": "HdVjZWWyO4gd"
      }
    },
    {
      "cell_type": "code",
      "source": [
        "tf.compat.v1.disable_eager_execution()"
      ],
      "metadata": {
        "id": "pUomD2y9LbTO"
      },
      "execution_count": 2,
      "outputs": []
    },
    {
      "cell_type": "markdown",
      "source": [
        "Define a TensorFlow constant"
      ],
      "metadata": {
        "id": "7_iub0YnO55w"
      }
    },
    {
      "cell_type": "code",
      "source": [
        "x = tf.constant(\"Tensorflow\")"
      ],
      "metadata": {
        "id": "K0fXR5RrLeHR"
      },
      "execution_count": 3,
      "outputs": []
    },
    {
      "cell_type": "markdown",
      "source": [
        "Print the Tensor object (only its properties, not its value)"
      ],
      "metadata": {
        "id": "MGu4RrT7O7NT"
      }
    },
    {
      "cell_type": "code",
      "source": [
        "print(x)"
      ],
      "metadata": {
        "colab": {
          "base_uri": "https://localhost:8080/"
        },
        "id": "SyiaTg6gNI3N",
        "outputId": "25e81243-638e-42d3-8250-87664de509ab"
      },
      "execution_count": 4,
      "outputs": [
        {
          "output_type": "stream",
          "name": "stdout",
          "text": [
            "Tensor(\"Const:0\", shape=(), dtype=string)\n"
          ]
        }
      ]
    },
    {
      "cell_type": "markdown",
      "source": [
        "Create a session in TensorFlow v1 compatibility mode"
      ],
      "metadata": {
        "id": "pEh3W9e1O9Di"
      }
    },
    {
      "cell_type": "code",
      "source": [
        "sess = tf.compat.v1.Session()"
      ],
      "metadata": {
        "id": "uIrd_VhUNKv3"
      },
      "execution_count": 5,
      "outputs": []
    },
    {
      "cell_type": "markdown",
      "source": [
        "Run the session to evaluate the tensor 'x'"
      ],
      "metadata": {
        "id": "O0qx3mg3O-h-"
      }
    },
    {
      "cell_type": "code",
      "source": [
        "output = sess.run(x)"
      ],
      "metadata": {
        "id": "wgpV8uDFOB_D"
      },
      "execution_count": 6,
      "outputs": []
    },
    {
      "cell_type": "markdown",
      "source": [
        "Print the actual value of 'x'"
      ],
      "metadata": {
        "id": "Bg2GadXgO_2H"
      }
    },
    {
      "cell_type": "code",
      "source": [
        "print(output)"
      ],
      "metadata": {
        "colab": {
          "base_uri": "https://localhost:8080/"
        },
        "id": "R1JE3vD2PAVo",
        "outputId": "086fd8e4-cc04-4fed-b491-6a6ce3cc184e"
      },
      "execution_count": 7,
      "outputs": [
        {
          "output_type": "stream",
          "name": "stdout",
          "text": [
            "b'Tensorflow'\n"
          ]
        }
      ]
    },
    {
      "cell_type": "markdown",
      "source": [
        "Close the session properly"
      ],
      "metadata": {
        "id": "yPR9KfHxPEdm"
      }
    },
    {
      "cell_type": "code",
      "source": [
        "sess.close()"
      ],
      "metadata": {
        "id": "RAkRohEpNiAm"
      },
      "execution_count": 8,
      "outputs": []
    },
    {
      "cell_type": "markdown",
      "source": [
        "## **Add 2 numbers**"
      ],
      "metadata": {
        "id": "vkySJ_QJP8K3"
      }
    },
    {
      "cell_type": "code",
      "source": [
        "x = tf.constant(4)\n",
        "y = tf.constant(10)"
      ],
      "metadata": {
        "id": "nKGkdzYlPlPe"
      },
      "execution_count": 54,
      "outputs": []
    },
    {
      "cell_type": "code",
      "source": [
        "z = tf.add(x,y)"
      ],
      "metadata": {
        "id": "aMv-cwwyPu1N"
      },
      "execution_count": 55,
      "outputs": []
    },
    {
      "cell_type": "code",
      "source": [
        "z"
      ],
      "metadata": {
        "colab": {
          "base_uri": "https://localhost:8080/"
        },
        "id": "t-UgLNeGdkny",
        "outputId": "3d89ac33-c76f-4da5-e509-a9363822cdc3"
      },
      "execution_count": 52,
      "outputs": [
        {
          "output_type": "execute_result",
          "data": {
            "text/plain": [
              "<tf.Tensor 'Add:0' shape=() dtype=int32>"
            ]
          },
          "metadata": {},
          "execution_count": 52
        }
      ]
    },
    {
      "cell_type": "code",
      "source": [
        "print(z)"
      ],
      "metadata": {
        "colab": {
          "base_uri": "https://localhost:8080/"
        },
        "id": "bPQjO6iiPxVY",
        "outputId": "b0815a7a-3034-470c-8463-70ce80645327"
      },
      "execution_count": 11,
      "outputs": [
        {
          "output_type": "stream",
          "name": "stdout",
          "text": [
            "Tensor(\"Add:0\", shape=(), dtype=int32)\n"
          ]
        }
      ]
    },
    {
      "cell_type": "code",
      "source": [
        "sess = tf.compat.v1.Session()"
      ],
      "metadata": {
        "id": "4RemT_baP1LI"
      },
      "execution_count": 56,
      "outputs": []
    },
    {
      "cell_type": "code",
      "source": [
        "output = sess.run(z)"
      ],
      "metadata": {
        "id": "21_KkcutP3A3"
      },
      "execution_count": 57,
      "outputs": []
    },
    {
      "cell_type": "code",
      "source": [
        "output"
      ],
      "metadata": {
        "colab": {
          "base_uri": "https://localhost:8080/"
        },
        "id": "81PrxsetdneJ",
        "outputId": "686f95bf-a0cb-4b83-bb7d-4b16d06e21db"
      },
      "execution_count": 58,
      "outputs": [
        {
          "output_type": "execute_result",
          "data": {
            "text/plain": [
              "np.int32(14)"
            ]
          },
          "metadata": {},
          "execution_count": 58
        }
      ]
    },
    {
      "cell_type": "code",
      "source": [
        "print(output)"
      ],
      "metadata": {
        "colab": {
          "base_uri": "https://localhost:8080/"
        },
        "id": "SgpdrOCnP41h",
        "outputId": "ab80d344-f990-4533-bafa-7d3aabfd8c59"
      },
      "execution_count": 59,
      "outputs": [
        {
          "output_type": "stream",
          "name": "stdout",
          "text": [
            "14\n"
          ]
        }
      ]
    },
    {
      "cell_type": "code",
      "source": [
        "sess.close()"
      ],
      "metadata": {
        "id": "6b6jFK1xP7Ic"
      },
      "execution_count": 15,
      "outputs": []
    },
    {
      "cell_type": "markdown",
      "source": [
        "Open a session to run the computation"
      ],
      "metadata": {
        "id": "FlkV9ewAWFfN"
      }
    },
    {
      "cell_type": "code",
      "source": [
        "with tf.compat.v1.Session() as sess:\n",
        "    output = sess.run(z)\n",
        "    print(output)"
      ],
      "metadata": {
        "colab": {
          "base_uri": "https://localhost:8080/"
        },
        "id": "e-VeMKncVQdg",
        "outputId": "da124916-f3a9-40ef-fff1-94499f131d36"
      },
      "execution_count": 16,
      "outputs": [
        {
          "output_type": "stream",
          "name": "stdout",
          "text": [
            "14\n"
          ]
        }
      ]
    },
    {
      "cell_type": "markdown",
      "source": [
        "## **Matrix Multiplication**"
      ],
      "metadata": {
        "id": "HftktbwGWH0y"
      }
    },
    {
      "cell_type": "code",
      "source": [
        "import numpy as np"
      ],
      "metadata": {
        "id": "5NPRl9vSWJEn"
      },
      "execution_count": 17,
      "outputs": []
    },
    {
      "cell_type": "code",
      "source": [
        "# Create two 1D arrays (vectors) using numpy\n",
        "var1 = np.arange(1, 13, dtype=np.int32)  # Creates an array [1, 2, ..., 12]\n",
        "var2 = np.arange(15, 27, dtype=np.int32) # Creates an array [15, 16, ..., 26]"
      ],
      "metadata": {
        "id": "cywnfESeWLBD"
      },
      "execution_count": 18,
      "outputs": []
    },
    {
      "cell_type": "code",
      "source": [
        "# Print arrays (Optional Debugging Step)\n",
        "print(var1)  # Output: [1, 2, ..., 12]\n",
        "print(var2)  # Output: [15, 16, ..., 26]"
      ],
      "metadata": {
        "colab": {
          "base_uri": "https://localhost:8080/"
        },
        "id": "9BbHaqg0WK-r",
        "outputId": "c83442f2-8e5d-4c00-dd99-1e9de43e737d"
      },
      "execution_count": 19,
      "outputs": [
        {
          "output_type": "stream",
          "name": "stdout",
          "text": [
            "[ 1  2  3  4  5  6  7  8  9 10 11 12]\n",
            "[15 16 17 18 19 20 21 22 23 24 25 26]\n"
          ]
        }
      ]
    },
    {
      "cell_type": "code",
      "source": [
        "# Reshape the numpy arrays into matrices\n",
        "# var1 is reshaped into a 3x4 matrix\n",
        "mat1 = tf.constant(var1, shape=[3, 4])"
      ],
      "metadata": {
        "id": "wObicBQmWoVB"
      },
      "execution_count": 20,
      "outputs": []
    },
    {
      "cell_type": "code",
      "source": [
        "# var2 is reshaped into a 4x3 matrix\n",
        "mat2 = tf.constant(var2, shape=[4, 3])"
      ],
      "metadata": {
        "id": "pOVtU0fPYvrX"
      },
      "execution_count": 21,
      "outputs": []
    },
    {
      "cell_type": "code",
      "source": [
        "# Perform matrix multiplication (mat1 * mat2)\n",
        "res = tf.matmul(mat1, mat2)"
      ],
      "metadata": {
        "id": "en3032lWWoSg"
      },
      "execution_count": 22,
      "outputs": []
    },
    {
      "cell_type": "code",
      "source": [
        "# Print the Tensor object (metadata, not actual value)\n",
        "print(res)  # Output: <tf.Tensor 'MatMul:0' shape=(3,3) dtype=int32>"
      ],
      "metadata": {
        "colab": {
          "base_uri": "https://localhost:8080/"
        },
        "id": "DNcC-DlMXRXR",
        "outputId": "ba96f648-775a-45d5-8dbf-444882ba84a8"
      },
      "execution_count": 23,
      "outputs": [
        {
          "output_type": "stream",
          "name": "stdout",
          "text": [
            "Tensor(\"MatMul:0\", shape=(3, 3), dtype=int32)\n"
          ]
        }
      ]
    },
    {
      "cell_type": "code",
      "source": [
        "# Open a session to execute the matrix multiplication\n",
        "with tf.compat.v1.Session() as sess:\n",
        "    # Compute the result\n",
        "    output = sess.run(res)\n",
        "\n",
        "    # Print the actual resulting matrix\n",
        "    print(output)\n",
        "\n",
        "# No need to manually close the session since 'with' statement manages it"
      ],
      "metadata": {
        "colab": {
          "base_uri": "https://localhost:8080/"
        },
        "id": "QrZgSBpHWoPj",
        "outputId": "0f0d1f2b-6f2a-419b-d228-29de19bef741"
      },
      "execution_count": 24,
      "outputs": [
        {
          "output_type": "stream",
          "name": "stdout",
          "text": [
            "[[210 220 230]\n",
            " [522 548 574]\n",
            " [834 876 918]]\n"
          ]
        }
      ]
    },
    {
      "cell_type": "markdown",
      "source": [
        "## **Task**"
      ],
      "metadata": {
        "id": "opzQlfZDXm5W"
      }
    },
    {
      "cell_type": "markdown",
      "source": [
        "add , sub , multi , divide"
      ],
      "metadata": {
        "id": "5ZNavdTYXn-5"
      }
    },
    {
      "cell_type": "code",
      "source": [
        "v1 = tf.constant([1,2,3,4])\n",
        "v2 = tf.constant([6,7,8,9])"
      ],
      "metadata": {
        "id": "wfx_Zt3-XhSB"
      },
      "execution_count": 25,
      "outputs": []
    },
    {
      "cell_type": "markdown",
      "source": [
        "Res"
      ],
      "metadata": {
        "id": "UDqkk8QCX7-d"
      }
    },
    {
      "cell_type": "code",
      "source": [
        "a = tf.add(v1,v2)\n",
        "s = tf.subtract(v1,v2)\n",
        "m = tf.multiply(v1,v2)\n",
        "d = tf.divide(v1,v2)\n",
        "\n",
        "with tf.compat.v1.Session() as sess:\n",
        "  print(sess.run(a))\n",
        "  print(sess.run(s))\n",
        "  print(sess.run(m))\n",
        "  print(sess.run(d))"
      ],
      "metadata": {
        "colab": {
          "base_uri": "https://localhost:8080/"
        },
        "id": "w0fJ9FL6X6ls",
        "outputId": "ea960770-5118-4a4d-fd0c-febdbcc3d7f6"
      },
      "execution_count": 26,
      "outputs": [
        {
          "output_type": "stream",
          "name": "stdout",
          "text": [
            "[ 7  9 11 13]\n",
            "[-5 -5 -5 -5]\n",
            "[ 6 14 24 36]\n",
            "[0.16666667 0.28571429 0.375      0.44444444]\n"
          ]
        }
      ]
    },
    {
      "cell_type": "markdown",
      "source": [
        "##  **Linear Regression using TF**"
      ],
      "metadata": {
        "id": "MQ5J5HYsY9LG"
      }
    },
    {
      "cell_type": "markdown",
      "source": [
        "y = wx +b"
      ],
      "metadata": {
        "id": "hvkROCKHZamN"
      }
    },
    {
      "cell_type": "code",
      "source": [
        "# Generate random input data\n",
        "x_data = np.random.randn(4, 9)  # Input features (4 samples, 9 features)\n",
        "w_data = np.random.randn(9, 1)  # Weights (9 features, 1 output)\n",
        "b_data = np.zeros(4)            # Bias (4 samples, 1 bias each)"
      ],
      "metadata": {
        "id": "v866o61-Y8jK"
      },
      "execution_count": 27,
      "outputs": []
    },
    {
      "cell_type": "code",
      "source": [
        "# Define TensorFlow constants for computation\n",
        "x = tf.constant(x_data, shape=[4, 9])  # Input matrix (4x9)\n",
        "w = tf.constant(w_data, shape=[9, 1])  # Weight matrix (9x1)\n",
        "b = tf.constant(b_data, shape=[4, 1])  # Bias vector (4x1)"
      ],
      "metadata": {
        "id": "i7TpTUZ4ZZ3o"
      },
      "execution_count": 28,
      "outputs": []
    },
    {
      "cell_type": "code",
      "source": [
        "# Linear regression formula: y = wx + b\n",
        "y = tf.add(tf.matmul(x, w), b)  # Matrix multiplication (4x9) * (9x1) = (4x1), then add bias"
      ],
      "metadata": {
        "id": "CK9uImEYZr59"
      },
      "execution_count": 29,
      "outputs": []
    },
    {
      "cell_type": "code",
      "source": [
        "# Print the Tensor object (metadata, not actual values)\n",
        "print(y)  # Output: <tf.Tensor 'Add_2:0' shape=(4,1) dtype=float64>"
      ],
      "metadata": {
        "colab": {
          "base_uri": "https://localhost:8080/"
        },
        "id": "3A_Z-cy3Z4Av",
        "outputId": "e0e41f2d-eab4-418b-e224-670f8a23fd1b"
      },
      "execution_count": 30,
      "outputs": [
        {
          "output_type": "stream",
          "name": "stdout",
          "text": [
            "Tensor(\"Add_2:0\", shape=(4, 1), dtype=float64)\n"
          ]
        }
      ]
    },
    {
      "cell_type": "code",
      "source": [
        "# Open a session to execute the computation\n",
        "with tf.compat.v1.Session() as sess:\n",
        "    # Compute and print the predicted values\n",
        "    print(sess.run(y))\n",
        "\n",
        "# No need to manually close the session since 'with' statement manages it"
      ],
      "metadata": {
        "colab": {
          "base_uri": "https://localhost:8080/"
        },
        "id": "iLdcUGjlaV9V",
        "outputId": "c56da2ad-8c08-42eb-9939-eba20cc75b1b"
      },
      "execution_count": 31,
      "outputs": [
        {
          "output_type": "stream",
          "name": "stdout",
          "text": [
            "[[ 2.38901774]\n",
            " [ 5.43842906]\n",
            " [ 6.83545095]\n",
            " [-3.48450277]]\n"
          ]
        }
      ]
    },
    {
      "cell_type": "markdown",
      "source": [
        "## **Variable**"
      ],
      "metadata": {
        "id": "rReT8KytctB9"
      }
    },
    {
      "cell_type": "code",
      "source": [
        "var1 = tf.Variable(12, name=\"variable1\")\n",
        "var2 = tf.Variable(13, name=\"variable2\")"
      ],
      "metadata": {
        "id": "JKdhpNY8cs69"
      },
      "execution_count": 60,
      "outputs": []
    },
    {
      "cell_type": "code",
      "source": [
        "# with tf.compat.v1.Session() as sess:\n",
        "#   sess.run(var1)"
      ],
      "metadata": {
        "id": "5sYQ14hQdE77"
      },
      "execution_count": 62,
      "outputs": []
    },
    {
      "cell_type": "markdown",
      "source": [
        "initializer"
      ],
      "metadata": {
        "id": "QJJk16PIdfOt"
      }
    },
    {
      "cell_type": "code",
      "source": [
        "init = tf.compat.v1.global_variables_initializer()"
      ],
      "metadata": {
        "id": "Gm5Cbf_Lddxa"
      },
      "execution_count": 34,
      "outputs": []
    },
    {
      "cell_type": "code",
      "source": [
        "with tf.compat.v1.Session() as sess:\n",
        "  sess.run(init)\n",
        "  print(sess.run(var1))"
      ],
      "metadata": {
        "colab": {
          "base_uri": "https://localhost:8080/"
        },
        "id": "DJMHMRm3dzjJ",
        "outputId": "d468c4e2-2269-48d7-e673-e01128118792"
      },
      "execution_count": 35,
      "outputs": [
        {
          "output_type": "stream",
          "name": "stdout",
          "text": [
            "12\n"
          ]
        }
      ]
    },
    {
      "cell_type": "markdown",
      "source": [
        "## **Linear Regression using TF (Variable)**"
      ],
      "metadata": {
        "id": "OSJqO7z6etZL"
      }
    },
    {
      "cell_type": "markdown",
      "source": [
        "**Task**"
      ],
      "metadata": {
        "id": "hUSQSg1afFsE"
      }
    },
    {
      "cell_type": "code",
      "source": [
        "# [[1,2,3]] ---->> w\n",
        "# [[3], [4], [4]] ---->> x\n",
        "# 1 ------->> b"
      ],
      "metadata": {
        "id": "h5OBhesmetRm"
      },
      "execution_count": 36,
      "outputs": []
    },
    {
      "cell_type": "code",
      "source": [
        "w = tf.Variable([[1,2,3]], shape=(1,3))\n",
        "x = tf.constant([[3], [4], [4]], shape=(3,1))\n",
        "b = tf.Variable(1)"
      ],
      "metadata": {
        "id": "T07AQQaVfNak"
      },
      "execution_count": 37,
      "outputs": []
    },
    {
      "cell_type": "code",
      "source": [
        "res = tf.add(tf.matmul(w, x), b)"
      ],
      "metadata": {
        "id": "Fr-oshqbfhwn"
      },
      "execution_count": 38,
      "outputs": []
    },
    {
      "cell_type": "code",
      "source": [
        "init = tf.compat.v1.global_variables_initializer()"
      ],
      "metadata": {
        "id": "vo16VwTIgTQh"
      },
      "execution_count": 39,
      "outputs": []
    },
    {
      "cell_type": "code",
      "source": [
        "with tf.compat.v1.Session() as sess:\n",
        "  sess.run(init)\n",
        "  print(sess.run(res))"
      ],
      "metadata": {
        "colab": {
          "base_uri": "https://localhost:8080/"
        },
        "id": "1Qa4B5wngRQy",
        "outputId": "ad637f98-ec9b-44e6-ab7f-d908878fe893"
      },
      "execution_count": 40,
      "outputs": [
        {
          "output_type": "stream",
          "name": "stdout",
          "text": [
            "[[24]]\n"
          ]
        }
      ]
    }
  ]
}