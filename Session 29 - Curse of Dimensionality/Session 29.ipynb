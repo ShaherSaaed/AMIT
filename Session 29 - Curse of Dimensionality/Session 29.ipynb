{
 "cells": [
  {
   "cell_type": "markdown",
   "metadata": {
    "id": "NGmeAe1hgwrG"
   },
   "source": [
    "## [Feature Selection](https://www.geeksforgeeks.org/machine-learning/feature-selection-techniques-in-machine-learning/)\n",
    "  1. Filter\n",
    "      * Normal\n",
    "      * Drop null\n",
    "      * Drop low variance\n",
    "      * Drop high Correlation\n",
    "      * Statistical\n",
    "        * Pearson's Correlation (Uses a threshold)\n",
    "        * [Chi-Squared Test](https://www.geeksforgeeks.org/machine-learning/chi-square-test-in-Data-Science-and-Data-Analytics/)\n",
    "  2. Wrapper\n",
    "    * Forward\n",
    "    * Backward\n",
    "    * Recursive\n",
    "  3. Embedded"
   ]
  },
  {
   "cell_type": "markdown",
   "metadata": {
    "id": "ZaikegYByg8J"
   },
   "source": [
    "## Feature Extraction / Dimensionality Reduction\n",
    "1. [Principle Component Anlysis (PCA)](https://www.geeksforgeeks.org/data-analysis/principal-component-analysis-pca/)\n",
    "2. [t-SNE](https://www.geeksforgeeks.org/machine-learning/ml-t-distributed-stochastic-neighbor-embedding-t-sne-algorithm/)"
   ]
  },
  {
   "cell_type": "markdown",
   "metadata": {
    "id": "uLyZlMc6Ezgd"
   },
   "source": [
    "## Tasks\n",
    "* Search for t-SNE"
   ]
  }
 ],
 "metadata": {
  "colab": {
   "authorship_tag": "ABX9TyNeAa6aj9fBtHc3YizBq/42",
   "provenance": []
  },
  "kernelspec": {
   "display_name": "Python 3",
   "name": "python3"
  },
  "language_info": {
   "name": "python"
  }
 },
 "nbformat": 4,
 "nbformat_minor": 0
}
