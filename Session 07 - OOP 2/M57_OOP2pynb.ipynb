{
  "nbformat": 4,
  "nbformat_minor": 0,
  "metadata": {
    "colab": {
      "provenance": []
    },
    "kernelspec": {
      "name": "python3",
      "display_name": "Python 3"
    },
    "language_info": {
      "name": "python"
    }
  },
  "cells": [
    {
      "cell_type": "code",
      "execution_count": null,
      "metadata": {
        "id": "vlJVLWprocEA"
      },
      "outputs": [],
      "source": [
        "class User:\n",
        "    def __init__(self, name, email):\n",
        "        self.name = name\n",
        "        self.email = email\n",
        "\n",
        "    def display_info(self):\n",
        "        print(f\"User: {self.name}\")\n",
        "        print(f\"Email: {self.email}\")\n",
        "\n",
        "class Admin(User):\n",
        "    def __init__(self, name, email):\n",
        "        super().__init__(name, email)\n",
        "        self.role = \"Administrator\"\n",
        "\n",
        "    def display_info(self):\n",
        "        super().display_info()\n",
        "        print(f\"Role: {self.role}\")\n"
      ]
    },
    {
      "cell_type": "code",
      "source": [
        "u1 = User(\"John\", \"john@example.com\")\n",
        "u1.display_info()"
      ],
      "metadata": {
        "colab": {
          "base_uri": "https://localhost:8080/"
        },
        "id": "KNA7w1NJT5ws",
        "outputId": "e0f9f305-92fa-4af2-a950-c673acaaad8b"
      },
      "execution_count": null,
      "outputs": [
        {
          "output_type": "stream",
          "name": "stdout",
          "text": [
            "User: John\n",
            "Email: john@example.com\n"
          ]
        }
      ]
    },
    {
      "cell_type": "code",
      "source": [
        "a1 = Admin(\"Alice\", \"alice@example.com\")\n",
        "a1.display_info()"
      ],
      "metadata": {
        "colab": {
          "base_uri": "https://localhost:8080/"
        },
        "id": "TP7W-OSQT4tq",
        "outputId": "8e5087ef-fae5-4aab-835c-3c113d67fa97"
      },
      "execution_count": null,
      "outputs": [
        {
          "output_type": "stream",
          "name": "stdout",
          "text": [
            "User: Alice\n",
            "Email: alice@example.com\n",
            "Role: Administrator\n"
          ]
        }
      ]
    },
    {
      "cell_type": "code",
      "source": [],
      "metadata": {
        "id": "PcUUUk3jkVLV"
      },
      "execution_count": null,
      "outputs": []
    },
    {
      "cell_type": "code",
      "source": [
        "class Student:\n",
        "    def __init__(self, name, grade):\n",
        "        self.name = name\n",
        "        self.grade = grade"
      ],
      "metadata": {
        "id": "N83CxFwpvCxt"
      },
      "execution_count": null,
      "outputs": []
    },
    {
      "cell_type": "code",
      "source": [
        "s = Student(\"Ali\", 85)"
      ],
      "metadata": {
        "id": "pzExBwNnvK6B"
      },
      "execution_count": null,
      "outputs": []
    },
    {
      "cell_type": "code",
      "source": [
        "\n",
        "print(s.name)   # Ali\n",
        "print(s.grade)  # 85"
      ],
      "metadata": {
        "colab": {
          "base_uri": "https://localhost:8080/"
        },
        "id": "2ngew13EvCwS",
        "outputId": "5e0686f4-0543-454a-8d61-07c3a20cca4e"
      },
      "execution_count": null,
      "outputs": [
        {
          "output_type": "stream",
          "name": "stdout",
          "text": [
            "Ali\n",
            "85\n"
          ]
        }
      ]
    },
    {
      "cell_type": "code",
      "source": [
        "s.grade = -20\n",
        "print(s.grade)"
      ],
      "metadata": {
        "colab": {
          "base_uri": "https://localhost:8080/"
        },
        "id": "sRO0_aVvvCuC",
        "outputId": "f8eec2d8-8858-4155-abba-7682684e862f"
      },
      "execution_count": null,
      "outputs": [
        {
          "output_type": "stream",
          "name": "stdout",
          "text": [
            "-20\n"
          ]
        }
      ]
    },
    {
      "cell_type": "code",
      "source": [
        "class Student:\n",
        "    def __init__(self,name,grade):\n",
        "        self.name=name\n",
        "        self._grade=grade"
      ],
      "metadata": {
        "id": "xC-ZVxFPC1Sm"
      },
      "execution_count": null,
      "outputs": []
    },
    {
      "cell_type": "code",
      "source": [
        "s = Student(\"Ali\", 85)"
      ],
      "metadata": {
        "id": "CDR6K7YeC1PO"
      },
      "execution_count": null,
      "outputs": []
    },
    {
      "cell_type": "code",
      "source": [
        "s._grade"
      ],
      "metadata": {
        "colab": {
          "base_uri": "https://localhost:8080/"
        },
        "id": "xWah0T1ZC1M8",
        "outputId": "a0be4561-f72e-4e16-a245-ba5c06e57485"
      },
      "execution_count": null,
      "outputs": [
        {
          "output_type": "execute_result",
          "data": {
            "text/plain": [
              "85"
            ]
          },
          "metadata": {},
          "execution_count": 40
        }
      ]
    },
    {
      "cell_type": "code",
      "source": [
        "s._grade = 10"
      ],
      "metadata": {
        "id": "fB0ky3GDDO7S"
      },
      "execution_count": null,
      "outputs": []
    },
    {
      "cell_type": "code",
      "source": [
        "s._grade"
      ],
      "metadata": {
        "colab": {
          "base_uri": "https://localhost:8080/"
        },
        "id": "3F20V_ZNDO4C",
        "outputId": "10ed298b-0d1e-49a4-c6cf-5f9871a02ccd"
      },
      "execution_count": null,
      "outputs": [
        {
          "output_type": "execute_result",
          "data": {
            "text/plain": [
              "10"
            ]
          },
          "metadata": {},
          "execution_count": 42
        }
      ]
    },
    {
      "cell_type": "code",
      "source": [
        "class Student:\n",
        "    def __init__(self,name,grade):\n",
        "        self.name=name\n",
        "        self.__grade=grade"
      ],
      "metadata": {
        "id": "bfgkxOEQDO11"
      },
      "execution_count": null,
      "outputs": []
    },
    {
      "cell_type": "code",
      "source": [
        "s = Student(\"Ali\", 85)"
      ],
      "metadata": {
        "id": "_TuhCbs0DOzo"
      },
      "execution_count": null,
      "outputs": []
    },
    {
      "cell_type": "code",
      "source": [
        "s.__grade = 20"
      ],
      "metadata": {
        "id": "CENfGkM6DOxf"
      },
      "execution_count": null,
      "outputs": []
    },
    {
      "cell_type": "code",
      "source": [
        "print(s.__grade)"
      ],
      "metadata": {
        "colab": {
          "base_uri": "https://localhost:8080/"
        },
        "id": "WSbv1OWvDwUn",
        "outputId": "9b4259d2-d4af-4d4e-c8aa-3af3def94a90"
      },
      "execution_count": null,
      "outputs": [
        {
          "output_type": "stream",
          "name": "stdout",
          "text": [
            "20\n"
          ]
        }
      ]
    },
    {
      "cell_type": "code",
      "source": [
        "s.__grade"
      ],
      "metadata": {
        "colab": {
          "base_uri": "https://localhost:8080/"
        },
        "id": "WBM2ytxzENw2",
        "outputId": "eda0e046-b0d4-4ebe-8c87-a88b29ee8ce3"
      },
      "execution_count": null,
      "outputs": [
        {
          "output_type": "execute_result",
          "data": {
            "text/plain": [
              "20"
            ]
          },
          "metadata": {},
          "execution_count": 18
        }
      ]
    },
    {
      "cell_type": "code",
      "source": [
        "class student:\n",
        "    def __init__(self,name,grade):\n",
        "        self.__name=name\n",
        "        self.grade=grade\n",
        "\n",
        "    def set_name(self, name):\n",
        "        self.__name = name\n",
        "\n",
        "    def get_name(self):\n",
        "      return self.__name"
      ],
      "metadata": {
        "id": "ESKt6teWvCo6"
      },
      "execution_count": null,
      "outputs": []
    },
    {
      "cell_type": "code",
      "source": [
        "s = student(\"Ali\",85)"
      ],
      "metadata": {
        "id": "LR_SuHxryk4h"
      },
      "execution_count": null,
      "outputs": []
    },
    {
      "cell_type": "code",
      "source": [
        "# s.__name"
      ],
      "metadata": {
        "id": "tKPTC36cFS49"
      },
      "execution_count": null,
      "outputs": []
    },
    {
      "cell_type": "code",
      "source": [
        "s.get_name()"
      ],
      "metadata": {
        "colab": {
          "base_uri": "https://localhost:8080/",
          "height": 36
        },
        "id": "kfVzxDUKFS1o",
        "outputId": "0c5aedd6-c92b-49d7-b1b5-f71077c8b76e"
      },
      "execution_count": null,
      "outputs": [
        {
          "output_type": "execute_result",
          "data": {
            "text/plain": [
              "'Ali'"
            ],
            "application/vnd.google.colaboratory.intrinsic+json": {
              "type": "string"
            }
          },
          "metadata": {},
          "execution_count": 23
        }
      ]
    },
    {
      "cell_type": "code",
      "source": [
        "s.set_name('omar')"
      ],
      "metadata": {
        "id": "sUe9Wp4wFSze"
      },
      "execution_count": null,
      "outputs": []
    },
    {
      "cell_type": "code",
      "source": [
        "s.get_name()"
      ],
      "metadata": {
        "colab": {
          "base_uri": "https://localhost:8080/",
          "height": 36
        },
        "id": "yMUOgMvcFSxG",
        "outputId": "33c218a2-4232-4012-c283-7a2add41e48b"
      },
      "execution_count": null,
      "outputs": [
        {
          "output_type": "execute_result",
          "data": {
            "text/plain": [
              "'omar'"
            ],
            "application/vnd.google.colaboratory.intrinsic+json": {
              "type": "string"
            }
          },
          "metadata": {},
          "execution_count": 25
        }
      ]
    },
    {
      "cell_type": "code",
      "source": [
        "s.grade = 6"
      ],
      "metadata": {
        "id": "EzciLPDxzF_G"
      },
      "execution_count": null,
      "outputs": []
    },
    {
      "cell_type": "code",
      "source": [
        "s.get_info()"
      ],
      "metadata": {
        "colab": {
          "base_uri": "https://localhost:8080/"
        },
        "id": "0KMytNVL1BnK",
        "outputId": "cbe8bc94-277f-48b1-d3df-009ae61434fb"
      },
      "execution_count": null,
      "outputs": [
        {
          "output_type": "stream",
          "name": "stdout",
          "text": [
            "my name is Ali my grade is 6\n"
          ]
        }
      ]
    },
    {
      "cell_type": "code",
      "source": [
        "class Animal:\n",
        "    def speak(self):\n",
        "        print(\"Animal makes sound\")\n",
        "\n",
        "class Dog(Animal):\n",
        "    def speak(self):\n",
        "        print(\"Dog barks\")\n",
        "\n",
        "class Cat(Animal):\n",
        "    def speak(self):\n",
        "        print(\"Cat meows\")\n",
        "\n",
        "# polymorphism\n",
        "animals = [Dog(), Cat()]\n",
        "\n",
        "for animal in animals:\n",
        "    animal.speak()"
      ],
      "metadata": {
        "colab": {
          "base_uri": "https://localhost:8080/"
        },
        "id": "1FJxNbfIGngb",
        "outputId": "04616247-dde2-4ef5-d8b8-dd6a91f9c5d9"
      },
      "execution_count": null,
      "outputs": [
        {
          "output_type": "stream",
          "name": "stdout",
          "text": [
            "Dog barks\n",
            "Cat meows\n"
          ]
        }
      ]
    },
    {
      "cell_type": "code",
      "source": [
        "class TextFile:\n",
        "    def open(self):\n",
        "        print(\"Opening a text file\")\n",
        "\n",
        "class ImageFile:\n",
        "    def open(self):\n",
        "        print(\"Opening an image file\")\n",
        "\n",
        "def open_file(file):\n",
        "    file.open()\n",
        "\n",
        "t = TextFile()\n",
        "i = ImageFile()\n",
        "\n",
        "open_file(t)\n",
        "open_file(i)"
      ],
      "metadata": {
        "colab": {
          "base_uri": "https://localhost:8080/"
        },
        "id": "MJ3_w0OeGnc-",
        "outputId": "24740689-2b2f-4825-c6af-cd8c630f14a1"
      },
      "execution_count": null,
      "outputs": [
        {
          "output_type": "stream",
          "name": "stdout",
          "text": [
            "Opening a text file\n",
            "Opening an image file\n"
          ]
        }
      ]
    },
    {
      "cell_type": "markdown",
      "source": [
        "Task 2"
      ],
      "metadata": {
        "id": "tBc1wNyTkYEN"
      }
    },
    {
      "cell_type": "code",
      "source": [
        "class Vehicle: # Parent class\n",
        "    def start_engine(self):\n",
        "        print(\"Engine started.\")\n",
        "\n",
        "    def stop_engine(self):\n",
        "        print(\"Engine stopped.\")\n",
        "\n",
        "    def fuel_type(self):\n",
        "        print(\"Fuel type: Petrol or Diesel\")"
      ],
      "metadata": {
        "id": "UOFjO7x6kfXM"
      },
      "execution_count": null,
      "outputs": []
    },
    {
      "cell_type": "code",
      "source": [
        "class Car(Vehicle): # Child class - no extra methods\n",
        "    pass"
      ],
      "metadata": {
        "id": "C82HHxLWkgr8"
      },
      "execution_count": null,
      "outputs": []
    },
    {
      "cell_type": "code",
      "source": [
        "class Bike(Vehicle): # Child class - with 2 extra methods\n",
        "    def kick_start(self):\n",
        "        print(\"Bike kick-started.\")\n",
        "\n",
        "    def ring_bell(self):\n",
        "        print(\"Bike bell rings!\")"
      ],
      "metadata": {
        "id": "uapwdgjLkh6C"
      },
      "execution_count": null,
      "outputs": []
    },
    {
      "cell_type": "code",
      "source": [
        "my_car = Car()\n",
        "\n",
        "my_car.start_engine()\n",
        "my_car.stop_engine()\n",
        "my_car.fuel_type()"
      ],
      "metadata": {
        "colab": {
          "base_uri": "https://localhost:8080/"
        },
        "id": "ZkXFxDKkknk1",
        "outputId": "b9ef776d-7940-4d28-acad-2eea6bab1cc3"
      },
      "execution_count": null,
      "outputs": [
        {
          "output_type": "stream",
          "name": "stdout",
          "text": [
            "Engine started.\n",
            "Engine stopped.\n",
            "Fuel type: Petrol or Diesel\n"
          ]
        }
      ]
    },
    {
      "cell_type": "code",
      "source": [
        "my_bike = Bike()\n",
        "\n",
        "my_bike.start_engine()\n",
        "my_bike.stop_engine()\n",
        "my_bike.fuel_type()\n",
        "my_bike.kick_start()\n",
        "my_bike.ring_bell()"
      ],
      "metadata": {
        "colab": {
          "base_uri": "https://localhost:8080/"
        },
        "id": "HzrtqtaNkX0k",
        "outputId": "2598692b-8609-4e8d-caa9-c607112e97a8"
      },
      "execution_count": null,
      "outputs": [
        {
          "output_type": "stream",
          "name": "stdout",
          "text": [
            "Engine started.\n",
            "Engine stopped.\n",
            "Fuel type: Petrol or Diesel\n",
            "Bike kick-started.\n",
            "Bike bell rings!\n"
          ]
        }
      ]
    },
    {
      "cell_type": "markdown",
      "source": [
        "Task 2"
      ],
      "metadata": {
        "id": "I__949U2lBSN"
      }
    },
    {
      "cell_type": "code",
      "source": [
        "# Parent class\n",
        "class Person:\n",
        "    def __init__(self, name, age):\n",
        "        self.name = name\n",
        "        self.age = age\n",
        "\n",
        "    def show_person_info(self):\n",
        "        print(f\"Name: {self.name}\")\n",
        "        print(f\"Age: {self.age}\")"
      ],
      "metadata": {
        "id": "uqafoDiIlAyM"
      },
      "execution_count": null,
      "outputs": []
    },
    {
      "cell_type": "code",
      "source": [
        "# Child class\n",
        "class Employee(Person):\n",
        "    def __init__(self, name, age, job_title):\n",
        "        super().__init__(name, age)\n",
        "        self.job_title = job_title\n",
        "\n",
        "    def show_employee_info(self):\n",
        "        print(f\"Job Title: {self.job_title}\")"
      ],
      "metadata": {
        "id": "LNG3406YlFNy"
      },
      "execution_count": null,
      "outputs": []
    },
    {
      "cell_type": "code",
      "source": [
        "# Grandchild class\n",
        "class Manager(Employee):\n",
        "    def __init__(self, name, age, job_title, department):\n",
        "        super().__init__(name, age, job_title)\n",
        "        self.department = department\n",
        "\n",
        "    def show_manager_info(self):\n",
        "        print(f\"Department: {self.department}\")"
      ],
      "metadata": {
        "id": "P2skL5mrlGxK"
      },
      "execution_count": null,
      "outputs": []
    },
    {
      "cell_type": "code",
      "source": [
        "mgr = Manager(\"Ahmed\", 35, \"Team Lead\", \"IT\")"
      ],
      "metadata": {
        "id": "_AMhhqnDlILt"
      },
      "execution_count": null,
      "outputs": []
    },
    {
      "cell_type": "code",
      "source": [
        "mgr.show_person_info()\n",
        "mgr.show_employee_info()\n",
        "mgr.show_manager_info()"
      ],
      "metadata": {
        "colab": {
          "base_uri": "https://localhost:8080/"
        },
        "id": "ZPMmk-cmkqd5",
        "outputId": "0a4decc6-9814-4f34-bd55-6e0d42d20ca5"
      },
      "execution_count": null,
      "outputs": [
        {
          "output_type": "stream",
          "name": "stdout",
          "text": [
            "Name: Ahmed\n",
            "Age: 35\n",
            "Job Title: Team Lead\n",
            "Department: IT\n"
          ]
        }
      ]
    },
    {
      "cell_type": "code",
      "source": [],
      "metadata": {
        "id": "nLH8SoS8lKnu"
      },
      "execution_count": null,
      "outputs": []
    }
  ]
}