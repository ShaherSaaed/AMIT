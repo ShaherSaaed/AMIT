{
  "nbformat": 4,
  "nbformat_minor": 0,
  "metadata": {
    "colab": {
      "provenance": []
    },
    "kernelspec": {
      "name": "python3",
      "display_name": "Python 3"
    },
    "language_info": {
      "name": "python"
    }
  },
  "cells": [
    {
      "cell_type": "markdown",
      "source": [
        "## Task 1.1 – Create a `Book` class and print details\n",
        "\n",
        "### 🔧 Concepts Used:\n",
        "- Class & `__init__` method\n",
        "- Data types (str, int)\n",
        "- Simple function\n",
        "\n",
        "### 🎯 Objective:\n",
        "Create a class with attributes `title`, `author`, and `year`.\n",
        "Add a method to print this info.\n"
      ],
      "metadata": {
        "id": "6MDMzixgvmA4"
      }
    },
    {
      "cell_type": "markdown",
      "source": [
        "## Task 1.2 – Loop through multiple `Book` objects\n",
        "\n",
        "### 🔧 Concepts Used:\n",
        "- List of objects\n",
        "- `for` loop\n",
        "- Calling class method in a loop\n",
        "\n",
        "### 🎯 Objective:\n",
        "Create 3 books and loop over them to print details.\n",
        " * like ; Book(\"1984\", \"George Orwell\", 1949)\n"
      ],
      "metadata": {
        "id": "u8eZUOi6vqqK"
      }
    },
    {
      "cell_type": "code",
      "source": [],
      "metadata": {
        "id": "pOThN1EvvuMR"
      },
      "execution_count": null,
      "outputs": []
    },
    {
      "cell_type": "markdown",
      "source": [
        "## Task 1.3 – Wrap object creation inside a function\n",
        "\n",
        "### 🔧 Concepts Used:\n",
        "- Function that returns an object\n",
        "- Input/output\n",
        "- Class usage\n",
        "\n",
        "### 🎯 Objective:\n",
        "Ask user for book info, create a `Book` object, and print it.\n"
      ],
      "metadata": {
        "id": "bbMVegtUv_Sl"
      }
    },
    {
      "cell_type": "markdown",
      "source": [
        "## Task 2.1 – Basic Inheritance with `super()`\n",
        "\n",
        "### 🔧 Concepts Used:\n",
        "- Inheritance\n",
        "- `super()` constructor\n",
        "- Class methods\n",
        "\n",
        "### 🎯 Objective:\n",
        "Create a parent class `Animal`, and child `Dog` that adds `breed`.\n",
        "Print info using child class.\n"
      ],
      "metadata": {
        "id": "2Gr5fhjXwNT4"
      }
    },
    {
      "cell_type": "markdown",
      "source": [
        "## Task 2.2 – Control a `Counter` class with a `while` loop\n",
        "\n",
        "### 🔧 Concepts Used:\n",
        "- `while` loop\n",
        "- Object method calls\n",
        "- User input\n",
        "\n",
        "### 🎯 Objective:\n",
        "Build a class with `increment`, `decrement`, and `show` methods. Loop to let user interact.\n"
      ],
      "metadata": {
        "id": "MpvddJmuwRr-"
      }
    },
    {
      "cell_type": "markdown",
      "source": [
        "## Task 2.3 – Filter `Product` objects based on condition\n",
        "\n",
        "### 🔧 Concepts Used:\n",
        "- List of objects\n",
        "- `for` loop\n",
        "- Condition inside loop\n",
        "\n",
        "### 🎯 Objective:\n",
        "Create a list of `Product` objects. Print only those with price > 100.\n"
      ],
      "metadata": {
        "id": "EdAH7aRowlm3"
      }
    },
    {
      "cell_type": "markdown",
      "source": [
        "## Task 3.1 – Use encapsulation to protect balance\n",
        "\n",
        "### 🔧 Concepts Used:\n",
        "- Private attribute (`__balance`)\n",
        "- Getter and Setter\n",
        "- Control access to variable\n",
        "\n",
        "### 🎯 Objective:\n",
        "Prevent direct access to balance. Use `get_balance()` and `set_balance()`.\n"
      ],
      "metadata": {
        "id": "j4JhY7idwspn"
      }
    },
    {
      "cell_type": "markdown",
      "source": [
        "## Task 3.2 – Use polymorphism via method override\n",
        "\n",
        "### 🔧 Concepts Used:\n",
        "- Parent & Child class\n",
        "- Method overriding\n",
        "\n",
        "### 🎯 Objective:\n",
        "Override a method `move()` in multiple child classes and call them dynamically.\n"
      ],
      "metadata": {
        "id": "UdWj9xfOwxVO"
      }
    },
    {
      "cell_type": "markdown",
      "source": [
        "## Task 3.3 – Full OOP simulation with encapsulation, inheritance, while loop\n",
        "\n",
        "### 🔧 Concepts Used:\n",
        "- Inheritance\n",
        "- Encapsulation\n",
        "- While loop for interaction\n",
        "- Functionality: Deposit, Withdraw, View\n",
        "\n",
        "### 🎯 Objective:\n",
        "Simulate a simple bank system with SavingsAccount and normal account behavior.\n"
      ],
      "metadata": {
        "id": "hH8QPZgQw0z0"
      }
    },
    {
      "cell_type": "code",
      "source": [],
      "metadata": {
        "id": "WgMnuEWHxYes"
      },
      "execution_count": null,
      "outputs": []
    }
  ]
}