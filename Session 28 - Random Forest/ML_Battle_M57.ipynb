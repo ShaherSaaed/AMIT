{
  "nbformat": 4,
  "nbformat_minor": 0,
  "metadata": {
    "colab": {
      "provenance": [],
      "collapsed_sections": [
        "yaBbsS9Wqi1f",
        "f8uKle_ErXiL",
        "lQ4-gJWjrZTE"
      ]
    },
    "kernelspec": {
      "name": "python3",
      "display_name": "Python 3"
    },
    "language_info": {
      "name": "python"
    }
  },
  "cells": [
    {
      "cell_type": "markdown",
      "source": [
        "# **Portuguese Bank Marketing** 🏦"
      ],
      "metadata": {
        "id": "yaBbsS9Wqi1f"
      }
    },
    {
      "cell_type": "markdown",
      "source": [
        "## 📊 Dataset Overview\n",
        "\n",
        "This dataset contains information about **direct marketing campaigns** (phone calls) conducted by a Portuguese banking institution. The goal of the campaign was to promote **term deposit subscriptions** — a financial product that boosts bank revenue.\n",
        "\n",
        "The target variable is `y`, which indicates whether the client **subscribed to a term deposit**:\n",
        "- `yes`: client subscribed\n",
        "- `no`: client did not subscribe\n",
        "\n",
        "---\n",
        "\n",
        "## 📁 Dataset Shape\n",
        "- **Rows**: 32,950  \n",
        "- **Columns**: 16\n",
        "\n",
        "---\n",
        "\n",
        "## 🔍 Feature Description\n",
        "\n",
        "| Column        | Description |\n",
        "|---------------|-------------|\n",
        "| `age`         | Age of the client (numeric) |\n",
        "| `job`         | Type of job (admin, technician, retired, etc.) |\n",
        "| `marital`     | Marital status (married, single, divorced) |\n",
        "| `education`   | Education level (basic, high school, university) |\n",
        "| `default`     | Has credit in default? (yes, no, unknown) |\n",
        "| `housing`     | Has a housing loan? (yes or no) |\n",
        "| `loan`        | Has a personal loan? (yes or no) |\n",
        "| `contact`     | Communication type (cellular or telephone) |\n",
        "| `month`       | Last contact month (e.g., may, jun) |\n",
        "| `day_of_week` | Last contact day of the week (e.g., mon, tue) |\n",
        "| `duration`    | Duration of the last contact in seconds — ⚠️ *should not be used in training* (leaks info) |\n",
        "| `campaign`    | Number of contacts performed during this campaign |\n",
        "| `pdays`       | Days since the client was last contacted (-1 means never contacted before) |\n",
        "| `previous`    | Number of contacts before this campaign |\n",
        "| `poutcome`    | Outcome of the previous marketing campaign |\n",
        "| `y`           | **Target**: Has the client subscribed to a term deposit? (yes/no) |\n",
        "\n",
        "---\n",
        "\n",
        "## 💡 Notes for Students\n",
        "\n",
        "- The dataset has **categorical features** that need **encoding**\n",
        "- Some features may contain **unknown or missing values**\n",
        "- The target variable is **imbalanced** (~11% said \"yes\")\n",
        "- `duration` is highly predictive but should be excluded during training to avoid data leakage\n",
        "- Great dataset to practice:\n",
        "  - Exploratory Data Analysis (EDA)\n",
        "  - Data cleaning & encoding\n",
        "  - Imbalanced classification techniques\n",
        "  - Logistic Regression, Decision Trees, SVM, KNN\n"
      ],
      "metadata": {
        "id": "oCycXoioqxkl"
      }
    },
    {
      "cell_type": "markdown",
      "source": [
        "# **🏆 💥 ML Battle: Predict Term Deposit Subscriptions! 💥**"
      ],
      "metadata": {
        "id": "f8uKle_ErXiL"
      }
    },
    {
      "cell_type": "markdown",
      "source": [
        "## 🧠 Machine Learning Challenge: Bank Term Deposit Prediction\n",
        "\n",
        "You're hired as a data scientist at a Portuguese bank that's losing revenue because clients aren't depositing money as often as before.\n",
        "\n",
        "Your mission? 🕵️‍♀️  \n",
        "Build the **most accurate model** to **predict which clients will subscribe** to a term deposit — and help the bank target the right people in its next campaign.\n",
        "\n",
        "---\n",
        "\n",
        "### 🏆 Competition Rules\n",
        "\n",
        "- Your goal is to maximize **accuracy on the test set**.\n",
        "- Do **not** use the `duration` feature during training (you’ll be disqualified for leakage ⚠️).\n",
        "- You must split your data into **train/test sets** and optionally use **cross-validation**.\n",
        "- Use any classification model you want (Logistic Regression, Decision Tree, Random Forest, etc.)\n",
        "- Preprocess the data (encoding, scaling, handling imbalance) as you see fit.\n",
        "\n",
        "---\n",
        "\n",
        "### ⚙️ Requirements\n",
        "\n",
        "- ✅ Clean the data\n",
        "- ✅ Encode categorical variables\n",
        "- ✅ Handle imbalance in target variable `y`\n",
        "- ✅ Evaluate your model with accuracy, confusion matrix, and classification report\n",
        "\n",
        "---\n",
        "\n",
        "### 🎯 Scoring\n",
        "\n",
        "- Submit your accuracy score.\n",
        "- We’ll rank the results **live**.\n",
        "- Top 3 students will get bragging rights... and maybe chocolate 🍫😉\n",
        "\n",
        "---\n",
        "\n",
        "### 📛 Disqualification Alert\n",
        "- Using `duration` for training = **disqualified**\n",
        "- Copying code = ❌\n"
      ],
      "metadata": {
        "id": "lQ4-gJWjrZTE"
      }
    },
    {
      "cell_type": "code",
      "source": [],
      "metadata": {
        "id": "Uzxx7qIWrQD8"
      },
      "execution_count": null,
      "outputs": []
    },
    {
      "cell_type": "code",
      "execution_count": null,
      "metadata": {
        "id": "hjkXoAiYqbez"
      },
      "outputs": [],
      "source": []
    }
  ]
}