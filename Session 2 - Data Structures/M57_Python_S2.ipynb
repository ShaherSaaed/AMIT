{
  "nbformat": 4,
  "nbformat_minor": 0,
  "metadata": {
    "colab": {
      "provenance": []
    },
    "kernelspec": {
      "name": "python3",
      "display_name": "Python 3"
    },
    "language_info": {
      "name": "python"
    }
  },
  "cells": [
    {
      "cell_type": "markdown",
      "source": [
        "# **Intro**"
      ],
      "metadata": {
        "id": "dzgTDvB2AgMA"
      }
    },
    {
      "cell_type": "code",
      "execution_count": null,
      "metadata": {
        "colab": {
          "base_uri": "https://localhost:8080/"
        },
        "id": "iNwEBNBUx4Ob",
        "outputId": "0e0f2d55-8a31-4101-8992-8a740ae12908"
      },
      "outputs": [
        {
          "output_type": "stream",
          "name": "stdout",
          "text": [
            "hello, world\n"
          ]
        }
      ],
      "source": [
        "print('hello, world')"
      ]
    },
    {
      "cell_type": "code",
      "source": [
        "x = 10"
      ],
      "metadata": {
        "id": "ea3oelOPzKgk"
      },
      "execution_count": null,
      "outputs": []
    },
    {
      "cell_type": "code",
      "source": [
        "print(x)"
      ],
      "metadata": {
        "colab": {
          "base_uri": "https://localhost:8080/"
        },
        "id": "XtKRJWC32VNY",
        "outputId": "b5c9d163-2fd5-4ecb-8565-6d48dcff9b5f"
      },
      "execution_count": null,
      "outputs": [
        {
          "output_type": "stream",
          "name": "stdout",
          "text": [
            "10\n"
          ]
        }
      ]
    },
    {
      "cell_type": "code",
      "source": [
        "x = 20"
      ],
      "metadata": {
        "id": "AzT-1-oW2Wx0"
      },
      "execution_count": null,
      "outputs": []
    },
    {
      "cell_type": "code",
      "source": [
        "print(x)"
      ],
      "metadata": {
        "colab": {
          "base_uri": "https://localhost:8080/"
        },
        "id": "xiSbXPwq2gWm",
        "outputId": "441575f1-4846-4f56-d686-670c5e52fcf7"
      },
      "execution_count": null,
      "outputs": [
        {
          "output_type": "stream",
          "name": "stdout",
          "text": [
            "20\n"
          ]
        }
      ]
    },
    {
      "cell_type": "code",
      "source": [
        "X = 30"
      ],
      "metadata": {
        "id": "xsuUd_pN225M"
      },
      "execution_count": null,
      "outputs": []
    },
    {
      "cell_type": "code",
      "source": [
        "print(x)"
      ],
      "metadata": {
        "colab": {
          "base_uri": "https://localhost:8080/"
        },
        "id": "RqCFKGW-23h2",
        "outputId": "54292c67-f513-4032-b8b1-3566cce56d34"
      },
      "execution_count": null,
      "outputs": [
        {
          "output_type": "stream",
          "name": "stdout",
          "text": [
            "30\n"
          ]
        }
      ]
    },
    {
      "cell_type": "code",
      "source": [
        "a = 15"
      ],
      "metadata": {
        "id": "hX4XerBi24OB"
      },
      "execution_count": null,
      "outputs": []
    },
    {
      "cell_type": "code",
      "source": [
        "Ahmed_sayed = 50"
      ],
      "metadata": {
        "id": "unsx7vyT29nW"
      },
      "execution_count": null,
      "outputs": []
    },
    {
      "cell_type": "code",
      "source": [
        "Ahmed_sayed = 50"
      ],
      "metadata": {
        "id": "XQrmIblslXek"
      },
      "execution_count": null,
      "outputs": []
    },
    {
      "cell_type": "code",
      "source": [
        "print(Ahmed_sayed)"
      ],
      "metadata": {
        "colab": {
          "base_uri": "https://localhost:8080/"
        },
        "id": "0s5Mr9cT3JHy",
        "outputId": "cafd84cd-28d9-4f6c-e114-499150787f88"
      },
      "execution_count": null,
      "outputs": [
        {
          "output_type": "stream",
          "name": "stdout",
          "text": [
            "50\n"
          ]
        }
      ]
    },
    {
      "cell_type": "code",
      "source": [
        "help('keywords')"
      ],
      "metadata": {
        "colab": {
          "base_uri": "https://localhost:8080/"
        },
        "id": "tFEtPr_83J9u",
        "outputId": "dc6bd965-e3ea-410d-cfaf-c016f2e87415"
      },
      "execution_count": null,
      "outputs": [
        {
          "output_type": "stream",
          "name": "stdout",
          "text": [
            "\n",
            "Here is a list of the Python keywords.  Enter any keyword to get more help.\n",
            "\n",
            "False               class               from                or\n",
            "None                continue            global              pass\n",
            "True                def                 if                  raise\n",
            "and                 del                 import              return\n",
            "as                  elif                in                  try\n",
            "assert              else                is                  while\n",
            "async               except              lambda              with\n",
            "await               finally             nonlocal            yield\n",
            "break               for                 not                 \n",
            "\n"
          ]
        }
      ]
    },
    {
      "cell_type": "code",
      "source": [],
      "metadata": {
        "id": "z8__7_xhlxY_"
      },
      "execution_count": null,
      "outputs": []
    },
    {
      "cell_type": "code",
      "source": [],
      "metadata": {
        "id": "RzUNhDhmlxXD"
      },
      "execution_count": null,
      "outputs": []
    },
    {
      "cell_type": "code",
      "source": [
        "# Ahmed Sayed is a std\n",
        "ahmed_sayed = 90 # Ahmed Sayed is a std\n",
        "# Ahmed Sayed is a std"
      ],
      "metadata": {
        "id": "L_ukKboG3qNY"
      },
      "execution_count": null,
      "outputs": []
    },
    {
      "cell_type": "markdown",
      "source": [
        "# **Data Types**\n",
        "\n"
      ],
      "metadata": {
        "id": "8DkUYT82AR0F"
      }
    },
    {
      "cell_type": "code",
      "source": [
        "# Integers , Floats, Bolleans, Strings"
      ],
      "metadata": {
        "id": "_KBKbdXl3_Q0"
      },
      "execution_count": null,
      "outputs": []
    },
    {
      "cell_type": "markdown",
      "source": [
        "Integers (num)"
      ],
      "metadata": {
        "id": "Tra5kuqSAwNz"
      }
    },
    {
      "cell_type": "code",
      "source": [
        "Age = 25\n",
        "Year = 1900\n",
        "Balance = -300"
      ],
      "metadata": {
        "id": "RZCHYGKh-8Yr"
      },
      "execution_count": null,
      "outputs": []
    },
    {
      "cell_type": "code",
      "source": [
        "print(Age)"
      ],
      "metadata": {
        "colab": {
          "base_uri": "https://localhost:8080/"
        },
        "id": "N90Di0epA_Ww",
        "outputId": "b1851229-5cbf-446e-876c-74fe4c0a810d"
      },
      "execution_count": null,
      "outputs": [
        {
          "output_type": "stream",
          "name": "stdout",
          "text": [
            "25\n"
          ]
        }
      ]
    },
    {
      "cell_type": "markdown",
      "source": [
        "Floats (num)"
      ],
      "metadata": {
        "id": "q0CFURqUBFuU"
      }
    },
    {
      "cell_type": "code",
      "source": [
        "temperature = 32.9\n",
        "price = 19.99\n",
        "distance = 5.75"
      ],
      "metadata": {
        "id": "yDml-flcBAOM"
      },
      "execution_count": null,
      "outputs": []
    },
    {
      "cell_type": "code",
      "source": [
        "print(price)"
      ],
      "metadata": {
        "colab": {
          "base_uri": "https://localhost:8080/"
        },
        "id": "AbpKXNO5Cs0G",
        "outputId": "e837dad8-4b14-49f9-89ed-64b2614e7f5c"
      },
      "execution_count": null,
      "outputs": [
        {
          "output_type": "stream",
          "name": "stdout",
          "text": [
            "19.99\n"
          ]
        }
      ]
    },
    {
      "cell_type": "markdown",
      "source": [
        "Strings (Text)"
      ],
      "metadata": {
        "id": "5DN8jK5ABdwC"
      }
    },
    {
      "cell_type": "code",
      "source": [
        "name = 'Ali'\n",
        "greeting = 'Hello World'"
      ],
      "metadata": {
        "id": "Hri2Xa5eBdrH"
      },
      "execution_count": null,
      "outputs": []
    },
    {
      "cell_type": "code",
      "source": [
        "print(greeting)"
      ],
      "metadata": {
        "colab": {
          "base_uri": "https://localhost:8080/"
        },
        "id": "Gv7V0t6oCapU",
        "outputId": "15cb1589-bb3b-4d64-f970-f21bbce10f34"
      },
      "execution_count": null,
      "outputs": [
        {
          "output_type": "stream",
          "name": "stdout",
          "text": [
            "Hello World\n"
          ]
        }
      ]
    },
    {
      "cell_type": "markdown",
      "source": [
        "Booleans"
      ],
      "metadata": {
        "id": "uBOq9TZbC3y6"
      }
    },
    {
      "cell_type": "code",
      "source": [
        "is_student = True\n",
        "has_access = False"
      ],
      "metadata": {
        "id": "L4XYiCouCbZ4"
      },
      "execution_count": null,
      "outputs": []
    },
    {
      "cell_type": "code",
      "source": [
        "print(is_student)"
      ],
      "metadata": {
        "colab": {
          "base_uri": "https://localhost:8080/"
        },
        "id": "0k1W524UDV27",
        "outputId": "4186fc8d-3838-4869-c789-306134686960"
      },
      "execution_count": null,
      "outputs": [
        {
          "output_type": "stream",
          "name": "stdout",
          "text": [
            "True\n"
          ]
        }
      ]
    },
    {
      "cell_type": "markdown",
      "source": [
        "## **Operators**"
      ],
      "metadata": {
        "id": "NReePwPWDg8l"
      }
    },
    {
      "cell_type": "markdown",
      "source": [
        "Operators are symbols or keywords\n",
        " * apply operations on **Variables** and **Values**"
      ],
      "metadata": {
        "id": "duJ9kYqQFdP5"
      }
    },
    {
      "cell_type": "markdown",
      "source": [
        "## **1. Arithmetic Operators**"
      ],
      "metadata": {
        "id": "e3hApwnNF7Rh"
      }
    },
    {
      "cell_type": "code",
      "source": [
        "x = 10\n",
        "y = 5"
      ],
      "metadata": {
        "id": "u_nINZ2gDg4K"
      },
      "execution_count": null,
      "outputs": []
    },
    {
      "cell_type": "code",
      "source": [
        "print(x + y) # Addition"
      ],
      "metadata": {
        "colab": {
          "base_uri": "https://localhost:8080/"
        },
        "id": "77wNHALtGDwi",
        "outputId": "94ffb60f-6b47-469a-b898-bbeeafe43b97"
      },
      "execution_count": null,
      "outputs": [
        {
          "output_type": "stream",
          "name": "stdout",
          "text": [
            "15\n"
          ]
        }
      ]
    },
    {
      "cell_type": "code",
      "source": [
        "print(x - y) # Sub"
      ],
      "metadata": {
        "colab": {
          "base_uri": "https://localhost:8080/"
        },
        "id": "P5f0V7kuGIpV",
        "outputId": "96aa7273-063f-47fb-b56b-196b9f7e2baf"
      },
      "execution_count": null,
      "outputs": [
        {
          "output_type": "stream",
          "name": "stdout",
          "text": [
            "5\n"
          ]
        }
      ]
    },
    {
      "cell_type": "code",
      "source": [
        "print(x * y) # Multi"
      ],
      "metadata": {
        "colab": {
          "base_uri": "https://localhost:8080/"
        },
        "id": "bmAWCxIHGTuR",
        "outputId": "bba19d5f-a8b5-4285-daa7-161b6ee7e458"
      },
      "execution_count": null,
      "outputs": [
        {
          "output_type": "stream",
          "name": "stdout",
          "text": [
            "50\n"
          ]
        }
      ]
    },
    {
      "cell_type": "code",
      "source": [
        "print(x / y) # Div"
      ],
      "metadata": {
        "colab": {
          "base_uri": "https://localhost:8080/"
        },
        "id": "lmhuebrpGWz0",
        "outputId": "ea3873bd-56d1-479d-dc1b-7e6efd619525"
      },
      "execution_count": null,
      "outputs": [
        {
          "output_type": "stream",
          "name": "stdout",
          "text": [
            "2.0\n"
          ]
        }
      ]
    },
    {
      "cell_type": "markdown",
      "source": [
        "## **2. Comparison Operators**"
      ],
      "metadata": {
        "id": "J0WDjTBjGxg1"
      }
    },
    {
      "cell_type": "code",
      "source": [
        "a = 5\n",
        "b = 3"
      ],
      "metadata": {
        "id": "JTFtqZm2GZqw"
      },
      "execution_count": null,
      "outputs": []
    },
    {
      "cell_type": "code",
      "source": [
        "a == b"
      ],
      "metadata": {
        "colab": {
          "base_uri": "https://localhost:8080/"
        },
        "id": "BGjvChSVG-Cj",
        "outputId": "421521ca-da30-4b1d-be7f-e1c2ebe0d136"
      },
      "execution_count": null,
      "outputs": [
        {
          "output_type": "execute_result",
          "data": {
            "text/plain": [
              "False"
            ]
          },
          "metadata": {},
          "execution_count": 13
        }
      ]
    },
    {
      "cell_type": "code",
      "source": [
        "a != b"
      ],
      "metadata": {
        "colab": {
          "base_uri": "https://localhost:8080/"
        },
        "id": "E9-uTw7RHNAg",
        "outputId": "16d14a02-126c-4627-c1f4-0ca8d990dc4d"
      },
      "execution_count": null,
      "outputs": [
        {
          "output_type": "execute_result",
          "data": {
            "text/plain": [
              "True"
            ]
          },
          "metadata": {},
          "execution_count": 61
        }
      ]
    },
    {
      "cell_type": "code",
      "source": [
        "a < b"
      ],
      "metadata": {
        "colab": {
          "base_uri": "https://localhost:8080/"
        },
        "id": "sljIhyBSHU5P",
        "outputId": "50137ba9-6ed7-4803-a4e7-d857bf7ac916"
      },
      "execution_count": null,
      "outputs": [
        {
          "output_type": "execute_result",
          "data": {
            "text/plain": [
              "False"
            ]
          },
          "metadata": {},
          "execution_count": 62
        }
      ]
    },
    {
      "cell_type": "code",
      "source": [
        "a > b"
      ],
      "metadata": {
        "colab": {
          "base_uri": "https://localhost:8080/"
        },
        "id": "1EPy2tdSHZ42",
        "outputId": "0f38cbce-85fa-49ff-caee-be240768b495"
      },
      "execution_count": null,
      "outputs": [
        {
          "output_type": "execute_result",
          "data": {
            "text/plain": [
              "True"
            ]
          },
          "metadata": {},
          "execution_count": 63
        }
      ]
    },
    {
      "cell_type": "code",
      "source": [
        "a > 3"
      ],
      "metadata": {
        "colab": {
          "base_uri": "https://localhost:8080/"
        },
        "id": "NQKx6mIYHaxi",
        "outputId": "103aed66-7f47-4cd4-8a81-88e8950bb92e"
      },
      "execution_count": null,
      "outputs": [
        {
          "output_type": "execute_result",
          "data": {
            "text/plain": [
              "True"
            ]
          },
          "metadata": {},
          "execution_count": 64
        }
      ]
    },
    {
      "cell_type": "markdown",
      "source": [
        "## **3. Logical Operators**"
      ],
      "metadata": {
        "id": "rExTXXP0HoVt"
      }
    },
    {
      "cell_type": "code",
      "source": [
        "a = True\n",
        "b = False"
      ],
      "metadata": {
        "id": "EjJPFEr4HhKZ"
      },
      "execution_count": null,
      "outputs": []
    },
    {
      "cell_type": "code",
      "source": [
        "print(a and b) # 2 True"
      ],
      "metadata": {
        "colab": {
          "base_uri": "https://localhost:8080/"
        },
        "id": "c-51CHHIHoEh",
        "outputId": "b9cb5dd2-5cf5-4c88-b691-e94e433c0d18"
      },
      "execution_count": null,
      "outputs": [
        {
          "output_type": "stream",
          "name": "stdout",
          "text": [
            "False\n"
          ]
        }
      ]
    },
    {
      "cell_type": "code",
      "source": [
        "print(a or b) # 1 True"
      ],
      "metadata": {
        "colab": {
          "base_uri": "https://localhost:8080/"
        },
        "id": "OAUXeS2GHnbU",
        "outputId": "cb734bf0-3be7-4743-d109-f1dc55a09aa2"
      },
      "execution_count": null,
      "outputs": [
        {
          "output_type": "stream",
          "name": "stdout",
          "text": [
            "True\n"
          ]
        }
      ]
    },
    {
      "cell_type": "code",
      "source": [
        "print(not a)"
      ],
      "metadata": {
        "colab": {
          "base_uri": "https://localhost:8080/"
        },
        "id": "ZiDG5qxzINXE",
        "outputId": "afe7ae6c-4ab6-42de-e359-1d0500a32b0b"
      },
      "execution_count": null,
      "outputs": [
        {
          "output_type": "stream",
          "name": "stdout",
          "text": [
            "False\n"
          ]
        }
      ]
    },
    {
      "cell_type": "markdown",
      "source": [
        "## **4. Bitwise Operators (Task)** ⭐"
      ],
      "metadata": {
        "id": "CsxfGEYCI3p_"
      }
    },
    {
      "cell_type": "markdown",
      "source": [
        "Example"
      ],
      "metadata": {
        "id": "f9H4j0YII_Bm"
      }
    },
    {
      "cell_type": "code",
      "source": [],
      "metadata": {
        "id": "zoMscFIoJRS-"
      },
      "execution_count": null,
      "outputs": []
    },
    {
      "cell_type": "markdown",
      "source": [
        "# **String Methods**"
      ],
      "metadata": {
        "id": "BGoDWHEoJQ0P"
      }
    },
    {
      "cell_type": "code",
      "source": [
        "text = 'Hello, World!'"
      ],
      "metadata": {
        "id": "elxpP2RPJAVX"
      },
      "execution_count": null,
      "outputs": []
    },
    {
      "cell_type": "code",
      "source": [
        "print(text.swapcase())"
      ],
      "metadata": {
        "colab": {
          "base_uri": "https://localhost:8080/"
        },
        "id": "YZxTCntJJQjJ",
        "outputId": "e2a7a52e-0779-410a-d963-2c1e86891c61"
      },
      "execution_count": null,
      "outputs": [
        {
          "output_type": "stream",
          "name": "stdout",
          "text": [
            "hELLO, wORLD!\n"
          ]
        }
      ]
    },
    {
      "cell_type": "markdown",
      "source": [
        "Remove leading and trailing Whitespace"
      ],
      "metadata": {
        "id": "0Fq8ew8YKA04"
      }
    },
    {
      "cell_type": "code",
      "source": [
        "text = ' Hello, World! '"
      ],
      "metadata": {
        "id": "3kvq1SHOJ6E-"
      },
      "execution_count": null,
      "outputs": []
    },
    {
      "cell_type": "code",
      "source": [
        "print(text.strip())"
      ],
      "metadata": {
        "colab": {
          "base_uri": "https://localhost:8080/"
        },
        "id": "5jM9gRt4KCZv",
        "outputId": "19d53540-d94c-4b9d-c66e-0ce5d6a456a4"
      },
      "execution_count": null,
      "outputs": [
        {
          "output_type": "stream",
          "name": "stdout",
          "text": [
            "Hello, World!\n"
          ]
        }
      ]
    },
    {
      "cell_type": "markdown",
      "source": [
        "Replace `Python` >>> `coding`"
      ],
      "metadata": {
        "id": "bZ_4z697KWb5"
      }
    },
    {
      "cell_type": "code",
      "source": [
        "text = 'I love Python'"
      ],
      "metadata": {
        "id": "yGuqwGqgKWWF"
      },
      "execution_count": null,
      "outputs": []
    },
    {
      "cell_type": "code",
      "source": [
        "print(text.replace('Python', 'coding'))"
      ],
      "metadata": {
        "colab": {
          "base_uri": "https://localhost:8080/"
        },
        "id": "wUuARDwhKipQ",
        "outputId": "2d208d0d-e2df-4f18-c673-a489a9e5e480"
      },
      "execution_count": null,
      "outputs": [
        {
          "output_type": "stream",
          "name": "stdout",
          "text": [
            "I love coding\n"
          ]
        }
      ]
    },
    {
      "cell_type": "markdown",
      "source": [
        "Lower , Upper"
      ],
      "metadata": {
        "id": "XuTcD7PmKiXC"
      }
    },
    {
      "cell_type": "code",
      "source": [
        "text = 'Hello, World!'"
      ],
      "metadata": {
        "id": "B3PH5jrgKiLh"
      },
      "execution_count": null,
      "outputs": []
    },
    {
      "cell_type": "code",
      "source": [
        "print(text.lower())"
      ],
      "metadata": {
        "colab": {
          "base_uri": "https://localhost:8080/"
        },
        "id": "q8_g7MTdKsUp",
        "outputId": "7b82fb6e-d028-4557-a1af-e1f1bacec77d"
      },
      "execution_count": null,
      "outputs": [
        {
          "output_type": "stream",
          "name": "stdout",
          "text": [
            "hello, world!\n"
          ]
        }
      ]
    },
    {
      "cell_type": "code",
      "source": [
        "print(text.upper())"
      ],
      "metadata": {
        "colab": {
          "base_uri": "https://localhost:8080/"
        },
        "id": "CTLFv1iUMjvu",
        "outputId": "01959a61-326d-42c1-f787-368aef10c054"
      },
      "execution_count": null,
      "outputs": [
        {
          "output_type": "stream",
          "name": "stdout",
          "text": [
            "HELLO, WORLD!\n"
          ]
        }
      ]
    },
    {
      "cell_type": "markdown",
      "source": [
        "Count 'a'"
      ],
      "metadata": {
        "id": "s3pA2TgFM1E_"
      }
    },
    {
      "cell_type": "code",
      "source": [
        "text = 'banana'"
      ],
      "metadata": {
        "id": "_ncT5iAiM1AU"
      },
      "execution_count": null,
      "outputs": []
    },
    {
      "cell_type": "code",
      "source": [
        "print(text.count('n'))"
      ],
      "metadata": {
        "colab": {
          "base_uri": "https://localhost:8080/"
        },
        "id": "HCXREiqkMmcw",
        "outputId": "c7811f1f-da1d-44d7-f340-86156db22bbf"
      },
      "execution_count": null,
      "outputs": [
        {
          "output_type": "stream",
          "name": "stdout",
          "text": [
            "2\n"
          ]
        }
      ]
    },
    {
      "cell_type": "markdown",
      "source": [
        "# **String Slicing and Formatting**"
      ],
      "metadata": {
        "id": "Dm-tHYwENTgD"
      }
    },
    {
      "cell_type": "markdown",
      "source": [
        "## **String Slicing**"
      ],
      "metadata": {
        "id": "wyRK0mjQOovN"
      }
    },
    {
      "cell_type": "code",
      "source": [
        "text = 'Hello Amit'"
      ],
      "metadata": {
        "id": "T9PzfXbcNBoC"
      },
      "execution_count": null,
      "outputs": []
    },
    {
      "cell_type": "code",
      "source": [
        "text[0:5]"
      ],
      "metadata": {
        "colab": {
          "base_uri": "https://localhost:8080/",
          "height": 35
        },
        "id": "FGG3pKOfNS0E",
        "outputId": "1dae11b9-afbc-4189-9def-2a90d1216ced"
      },
      "execution_count": null,
      "outputs": [
        {
          "output_type": "execute_result",
          "data": {
            "text/plain": [
              "'Hello'"
            ],
            "application/vnd.google.colaboratory.intrinsic+json": {
              "type": "string"
            }
          },
          "metadata": {},
          "execution_count": 118
        }
      ]
    },
    {
      "cell_type": "code",
      "source": [
        "text[:5]"
      ],
      "metadata": {
        "colab": {
          "base_uri": "https://localhost:8080/",
          "height": 35
        },
        "id": "dKtZL51jQtPf",
        "outputId": "fe2b454c-fa77-4ae4-d2dd-a7795a043b0f"
      },
      "execution_count": null,
      "outputs": [
        {
          "output_type": "execute_result",
          "data": {
            "text/plain": [
              "'Hello'"
            ],
            "application/vnd.google.colaboratory.intrinsic+json": {
              "type": "string"
            }
          },
          "metadata": {},
          "execution_count": 119
        }
      ]
    },
    {
      "cell_type": "code",
      "source": [
        "text[6:] # def (rest)"
      ],
      "metadata": {
        "colab": {
          "base_uri": "https://localhost:8080/",
          "height": 35
        },
        "id": "m3xasx0JQ1qv",
        "outputId": "3327299a-16c4-4862-e89a-47cdd42011a0"
      },
      "execution_count": null,
      "outputs": [
        {
          "output_type": "execute_result",
          "data": {
            "text/plain": [
              "'Amit'"
            ],
            "application/vnd.google.colaboratory.intrinsic+json": {
              "type": "string"
            }
          },
          "metadata": {},
          "execution_count": 122
        }
      ]
    },
    {
      "cell_type": "markdown",
      "source": [
        "text`[start : End : Step]`"
      ],
      "metadata": {
        "id": "_sq5hNfhRkpl"
      }
    },
    {
      "cell_type": "code",
      "source": [
        "text[0:8]"
      ],
      "metadata": {
        "colab": {
          "base_uri": "https://localhost:8080/",
          "height": 35
        },
        "id": "KOgapi8iQ9i9",
        "outputId": "bb52bb06-31e2-4229-99a0-f8c8737fdc2e"
      },
      "execution_count": null,
      "outputs": [
        {
          "output_type": "execute_result",
          "data": {
            "text/plain": [
              "'Hello Am'"
            ],
            "application/vnd.google.colaboratory.intrinsic+json": {
              "type": "string"
            }
          },
          "metadata": {},
          "execution_count": 126
        }
      ]
    },
    {
      "cell_type": "code",
      "source": [
        "text[0:8:2] # def 1 step"
      ],
      "metadata": {
        "colab": {
          "base_uri": "https://localhost:8080/",
          "height": 35
        },
        "id": "q-N0ri5dR1HD",
        "outputId": "f9ecac23-b942-4138-e67f-faff7fbb13d8"
      },
      "execution_count": null,
      "outputs": [
        {
          "output_type": "execute_result",
          "data": {
            "text/plain": [
              "'HloA'"
            ],
            "application/vnd.google.colaboratory.intrinsic+json": {
              "type": "string"
            }
          },
          "metadata": {},
          "execution_count": 127
        }
      ]
    },
    {
      "cell_type": "code",
      "source": [
        "text[::3]"
      ],
      "metadata": {
        "colab": {
          "base_uri": "https://localhost:8080/",
          "height": 35
        },
        "id": "r43lfqCFSUz6",
        "outputId": "9b747d04-1c4f-4269-8390-dc371c0c1d61"
      },
      "execution_count": null,
      "outputs": [
        {
          "output_type": "execute_result",
          "data": {
            "text/plain": [
              "'HlAt'"
            ],
            "application/vnd.google.colaboratory.intrinsic+json": {
              "type": "string"
            }
          },
          "metadata": {},
          "execution_count": 129
        }
      ]
    },
    {
      "cell_type": "code",
      "source": [
        "text[-1:-5]"
      ],
      "metadata": {
        "colab": {
          "base_uri": "https://localhost:8080/",
          "height": 36
        },
        "id": "Jy1inQK5SX54",
        "outputId": "d0518f02-f531-460b-9b14-443e0e2294c1"
      },
      "execution_count": null,
      "outputs": [
        {
          "output_type": "execute_result",
          "data": {
            "text/plain": [
              "''"
            ],
            "application/vnd.google.colaboratory.intrinsic+json": {
              "type": "string"
            }
          },
          "metadata": {},
          "execution_count": 19
        }
      ]
    },
    {
      "cell_type": "code",
      "source": [
        "text[-10:5]"
      ],
      "metadata": {
        "colab": {
          "base_uri": "https://localhost:8080/",
          "height": 36
        },
        "id": "4foV7MtoSiVw",
        "outputId": "01c60cf9-c427-4104-b795-1dbf53b78f90"
      },
      "execution_count": null,
      "outputs": [
        {
          "output_type": "execute_result",
          "data": {
            "text/plain": [
              "'Hello'"
            ],
            "application/vnd.google.colaboratory.intrinsic+json": {
              "type": "string"
            }
          },
          "metadata": {},
          "execution_count": 21
        }
      ]
    },
    {
      "cell_type": "code",
      "source": [
        "text[-5:-1]"
      ],
      "metadata": {
        "colab": {
          "base_uri": "https://localhost:8080/",
          "height": 35
        },
        "id": "il1nw--4S1yc",
        "outputId": "feb446d4-6be8-4787-8d8b-f3ea5c1dcdbc"
      },
      "execution_count": null,
      "outputs": [
        {
          "output_type": "execute_result",
          "data": {
            "text/plain": [
              "' Ami'"
            ],
            "application/vnd.google.colaboratory.intrinsic+json": {
              "type": "string"
            }
          },
          "metadata": {},
          "execution_count": 132
        }
      ]
    },
    {
      "cell_type": "code",
      "source": [
        "text[-4:]"
      ],
      "metadata": {
        "colab": {
          "base_uri": "https://localhost:8080/",
          "height": 35
        },
        "id": "jCLO23COTAfU",
        "outputId": "86fdbda0-8ae0-453b-e3a9-a4ba237a0b45"
      },
      "execution_count": null,
      "outputs": [
        {
          "output_type": "execute_result",
          "data": {
            "text/plain": [
              "'Amit'"
            ],
            "application/vnd.google.colaboratory.intrinsic+json": {
              "type": "string"
            }
          },
          "metadata": {},
          "execution_count": 133
        }
      ]
    },
    {
      "cell_type": "markdown",
      "source": [
        "## **String Formatting**"
      ],
      "metadata": {
        "id": "Fq0BmJ1OThGp"
      }
    },
    {
      "cell_type": "code",
      "source": [
        "name = 'Mohamed'\n",
        "age = 22"
      ],
      "metadata": {
        "id": "nrAFdJi1TEM5"
      },
      "execution_count": null,
      "outputs": []
    },
    {
      "cell_type": "code",
      "source": [
        "# My name is Mohamed and im 22 years old"
      ],
      "metadata": {
        "id": "KDJrWzMrTpcO"
      },
      "execution_count": null,
      "outputs": []
    },
    {
      "cell_type": "code",
      "source": [
        "print(f'my name is {name} and im {age} years old')"
      ],
      "metadata": {
        "colab": {
          "base_uri": "https://localhost:8080/"
        },
        "id": "jN8xpfWP1XXo",
        "outputId": "08e8605a-b85e-4227-e2a1-697d7d8713f7"
      },
      "execution_count": null,
      "outputs": [
        {
          "output_type": "stream",
          "name": "stdout",
          "text": [
            "my name is Mohamed and im 22 years old\n"
          ]
        }
      ]
    },
    {
      "cell_type": "code",
      "source": [
        "print('My name is {} and im {} years old'.format(name, age))"
      ],
      "metadata": {
        "colab": {
          "base_uri": "https://localhost:8080/"
        },
        "id": "BU6J-4H7Twp_",
        "outputId": "0623bd34-1a0c-4555-dbac-1e9dbaec447a"
      },
      "execution_count": null,
      "outputs": [
        {
          "output_type": "stream",
          "name": "stdout",
          "text": [
            "My name is Mohamed and im 22 years old\n"
          ]
        }
      ]
    },
    {
      "cell_type": "code",
      "source": [
        "print(f'My name is {name} and im {age} years old')"
      ],
      "metadata": {
        "colab": {
          "base_uri": "https://localhost:8080/"
        },
        "id": "rxFwFKZDUMKk",
        "outputId": "979a0046-f8bd-45a7-f9fd-bf4adcd78805"
      },
      "execution_count": null,
      "outputs": [
        {
          "output_type": "stream",
          "name": "stdout",
          "text": [
            "My name is Mohamed and im 22 years old\n"
          ]
        }
      ]
    },
    {
      "cell_type": "code",
      "source": [],
      "metadata": {
        "id": "N4j4EsYz6Kw3"
      },
      "execution_count": null,
      "outputs": []
    },
    {
      "cell_type": "code",
      "source": [],
      "metadata": {
        "id": "-ixG9Y5l6LUg"
      },
      "execution_count": null,
      "outputs": []
    },
    {
      "cell_type": "markdown",
      "source": [
        "# **Data Structures in Python** ⭐"
      ],
      "metadata": {
        "id": "LVhGxcdmDhST"
      }
    },
    {
      "cell_type": "markdown",
      "source": [
        "Lists, Tuples, Dictionaries, Sets"
      ],
      "metadata": {
        "id": "jRskWdEwDoIb"
      }
    },
    {
      "cell_type": "markdown",
      "source": [
        "## **Lists** [ ]"
      ],
      "metadata": {
        "id": "CDupYW-eDtUm"
      }
    },
    {
      "cell_type": "code",
      "source": [
        "my_list = ['apple', 42, True, 'apple', 42]"
      ],
      "metadata": {
        "id": "M5aHQYVtDgl-"
      },
      "execution_count": null,
      "outputs": []
    },
    {
      "cell_type": "code",
      "source": [
        "print(my_list)"
      ],
      "metadata": {
        "colab": {
          "base_uri": "https://localhost:8080/"
        },
        "id": "uubIlweOEA0k",
        "outputId": "eaff07bf-2d33-4fed-fb59-488a90e3d3be"
      },
      "execution_count": null,
      "outputs": [
        {
          "output_type": "stream",
          "name": "stdout",
          "text": [
            "['apple', 42, True, 'apple', 42]\n"
          ]
        }
      ]
    },
    {
      "cell_type": "markdown",
      "source": [
        "Lists are **ordered**\n",
        "\n",
        "list`[start : End : Step]`"
      ],
      "metadata": {
        "id": "XBicIoecEgkk"
      }
    },
    {
      "cell_type": "code",
      "source": [
        "my_list = ['apple', 42, True, 'apple', 42]"
      ],
      "metadata": {
        "id": "_TqbBGn6Ed0y"
      },
      "execution_count": null,
      "outputs": []
    },
    {
      "cell_type": "code",
      "source": [
        "my_list[1]"
      ],
      "metadata": {
        "colab": {
          "base_uri": "https://localhost:8080/"
        },
        "id": "_bu0cBMaEyy5",
        "outputId": "c8a6653a-e78c-4a0e-8d07-171734a25b58"
      },
      "execution_count": null,
      "outputs": [
        {
          "output_type": "execute_result",
          "data": {
            "text/plain": [
              "42"
            ]
          },
          "metadata": {},
          "execution_count": 48
        }
      ]
    },
    {
      "cell_type": "code",
      "source": [
        "my_list[0]"
      ],
      "metadata": {
        "colab": {
          "base_uri": "https://localhost:8080/",
          "height": 35
        },
        "id": "LxMEgyEaFdbK",
        "outputId": "2b1427ec-3da1-4c2e-b38f-fe4764898c69"
      },
      "execution_count": null,
      "outputs": [
        {
          "output_type": "execute_result",
          "data": {
            "text/plain": [
              "'apple'"
            ],
            "application/vnd.google.colaboratory.intrinsic+json": {
              "type": "string"
            }
          },
          "metadata": {},
          "execution_count": 49
        }
      ]
    },
    {
      "cell_type": "code",
      "source": [
        "my_list[0:3] # [apple, 42, True]"
      ],
      "metadata": {
        "colab": {
          "base_uri": "https://localhost:8080/"
        },
        "id": "B9d_5J-dFhRV",
        "outputId": "d69a69af-75be-476b-cf0c-a5f68b3c1990"
      },
      "execution_count": null,
      "outputs": [
        {
          "output_type": "execute_result",
          "data": {
            "text/plain": [
              "['apple', 42, True]"
            ]
          },
          "metadata": {},
          "execution_count": 50
        }
      ]
    },
    {
      "cell_type": "markdown",
      "source": [
        "Tasks"
      ],
      "metadata": {
        "id": "J8DcXEVJF8Ml"
      }
    },
    {
      "cell_type": "code",
      "source": [
        "my_list = ['apple', 42, True, 'apple', 42]"
      ],
      "metadata": {
        "id": "igZ8NmI5F31R"
      },
      "execution_count": null,
      "outputs": []
    },
    {
      "cell_type": "code",
      "source": [
        "# [42, True]\n",
        "my_list[1:3]"
      ],
      "metadata": {
        "colab": {
          "base_uri": "https://localhost:8080/"
        },
        "id": "j3K3oRQ8F-_W",
        "outputId": "52210484-f55e-4ec3-e541-09edc5a8cd1f"
      },
      "execution_count": null,
      "outputs": [
        {
          "output_type": "execute_result",
          "data": {
            "text/plain": [
              "[42, True]"
            ]
          },
          "metadata": {},
          "execution_count": 52
        }
      ]
    },
    {
      "cell_type": "code",
      "source": [
        "# [42, True, apple]\n",
        "my_list[1:4]"
      ],
      "metadata": {
        "colab": {
          "base_uri": "https://localhost:8080/"
        },
        "id": "IZFb2SXlGBDJ",
        "outputId": "760c7a9a-bbb4-4aa6-9929-4aa6ff7ea75a"
      },
      "execution_count": null,
      "outputs": [
        {
          "output_type": "execute_result",
          "data": {
            "text/plain": [
              "[42, True, 'apple']"
            ]
          },
          "metadata": {},
          "execution_count": 53
        }
      ]
    },
    {
      "cell_type": "code",
      "source": [
        "# [apple, True, 42]\n",
        "my_list[::2]"
      ],
      "metadata": {
        "colab": {
          "base_uri": "https://localhost:8080/"
        },
        "id": "jT0nlR5FGEMd",
        "outputId": "eec53388-bbbf-45e9-8e1d-dd723030c56e"
      },
      "execution_count": null,
      "outputs": [
        {
          "output_type": "execute_result",
          "data": {
            "text/plain": [
              "['apple', True, 42]"
            ]
          },
          "metadata": {},
          "execution_count": 54
        }
      ]
    },
    {
      "cell_type": "code",
      "source": [
        "my_list[-2:-5:-1]"
      ],
      "metadata": {
        "colab": {
          "base_uri": "https://localhost:8080/"
        },
        "id": "_lF6Mz1ZImCX",
        "outputId": "065ee796-15a9-4fbb-fb41-6186410bee1d"
      },
      "execution_count": null,
      "outputs": [
        {
          "output_type": "execute_result",
          "data": {
            "text/plain": [
              "['apple', True, 42]"
            ]
          },
          "metadata": {},
          "execution_count": 55
        }
      ]
    },
    {
      "cell_type": "markdown",
      "source": [
        "Lists are **mutable**"
      ],
      "metadata": {
        "id": "t4phlHcDIOk5"
      }
    },
    {
      "cell_type": "code",
      "source": [
        "my_list = ['apple', 42, True, 'apple', 42]"
      ],
      "metadata": {
        "id": "zE-xhXtwIF2H"
      },
      "execution_count": null,
      "outputs": []
    },
    {
      "cell_type": "code",
      "source": [
        "my_list[1]"
      ],
      "metadata": {
        "colab": {
          "base_uri": "https://localhost:8080/"
        },
        "id": "gx_9go1BI5nl",
        "outputId": "922ae1e8-bd54-4f80-d211-a5e3a2a30856"
      },
      "execution_count": null,
      "outputs": [
        {
          "output_type": "execute_result",
          "data": {
            "text/plain": [
              "42"
            ]
          },
          "metadata": {},
          "execution_count": 57
        }
      ]
    },
    {
      "cell_type": "code",
      "source": [
        "my_list[1] = 100"
      ],
      "metadata": {
        "id": "yT0fg3BFJDnq"
      },
      "execution_count": null,
      "outputs": []
    },
    {
      "cell_type": "code",
      "source": [
        "my_list"
      ],
      "metadata": {
        "colab": {
          "base_uri": "https://localhost:8080/"
        },
        "id": "IeOp2BnqJFZl",
        "outputId": "99788f9a-4514-44e6-9023-de64b803fcbf"
      },
      "execution_count": null,
      "outputs": [
        {
          "output_type": "execute_result",
          "data": {
            "text/plain": [
              "['apple', 100, True, 'apple', 42]"
            ]
          },
          "metadata": {},
          "execution_count": 59
        }
      ]
    },
    {
      "cell_type": "code",
      "source": [
        "my_list[3]"
      ],
      "metadata": {
        "colab": {
          "base_uri": "https://localhost:8080/",
          "height": 35
        },
        "id": "1G7vMAXpJPbt",
        "outputId": "d883dc32-2911-4215-8906-77d768f2a3bb"
      },
      "execution_count": null,
      "outputs": [
        {
          "output_type": "execute_result",
          "data": {
            "text/plain": [
              "'apple'"
            ],
            "application/vnd.google.colaboratory.intrinsic+json": {
              "type": "string"
            }
          },
          "metadata": {},
          "execution_count": 60
        }
      ]
    },
    {
      "cell_type": "code",
      "source": [
        "my_list[3] = 'banana'"
      ],
      "metadata": {
        "id": "_mmUFbp1JRIl"
      },
      "execution_count": null,
      "outputs": []
    },
    {
      "cell_type": "code",
      "source": [
        "my_list"
      ],
      "metadata": {
        "colab": {
          "base_uri": "https://localhost:8080/"
        },
        "id": "hLHsLM9CJTyS",
        "outputId": "4ff9bcb3-2d69-4bcd-8ff7-c352ed6da840"
      },
      "execution_count": null,
      "outputs": [
        {
          "output_type": "execute_result",
          "data": {
            "text/plain": [
              "['apple', 100, True, 'banana', 42]"
            ]
          },
          "metadata": {},
          "execution_count": 62
        }
      ]
    },
    {
      "cell_type": "code",
      "source": [
        "my_list[2] = False"
      ],
      "metadata": {
        "id": "F_Kim9yOJWjR"
      },
      "execution_count": null,
      "outputs": []
    },
    {
      "cell_type": "code",
      "source": [
        "my_list"
      ],
      "metadata": {
        "colab": {
          "base_uri": "https://localhost:8080/"
        },
        "id": "1KugwNLEJjlA",
        "outputId": "2c9bbfb0-3f75-40d8-a892-78fff45d7d8c"
      },
      "execution_count": null,
      "outputs": [
        {
          "output_type": "execute_result",
          "data": {
            "text/plain": [
              "['apple', 100, False, 'banana', 42]"
            ]
          },
          "metadata": {},
          "execution_count": 64
        }
      ]
    },
    {
      "cell_type": "markdown",
      "source": [
        "List items do **not have** to ba **unique** & lists can contain **different data types**"
      ],
      "metadata": {
        "id": "dpXggmqaJnq0"
      }
    },
    {
      "cell_type": "code",
      "source": [
        "my_list = ['apple', 42, True, 'apple', 42]"
      ],
      "metadata": {
        "id": "Xpu_8DpxJkKw"
      },
      "execution_count": 1,
      "outputs": []
    },
    {
      "cell_type": "code",
      "source": [
        "my_list[0][0:3]"
      ],
      "metadata": {
        "colab": {
          "base_uri": "https://localhost:8080/",
          "height": 36
        },
        "id": "VBiREaYt-cgM",
        "outputId": "281d9817-440e-4350-e474-6762bee76c56"
      },
      "execution_count": 4,
      "outputs": [
        {
          "output_type": "execute_result",
          "data": {
            "text/plain": [
              "'app'"
            ],
            "application/vnd.google.colaboratory.intrinsic+json": {
              "type": "string"
            }
          },
          "metadata": {},
          "execution_count": 4
        }
      ]
    },
    {
      "cell_type": "code",
      "source": [
        "# apple >>> string\n",
        "# 42 >>> int\n",
        "# True >>> bool"
      ],
      "metadata": {
        "id": "0hF-uyqNJ8y0"
      },
      "execution_count": null,
      "outputs": []
    },
    {
      "cell_type": "markdown",
      "source": [
        "### Lists Methods"
      ],
      "metadata": {
        "id": "0Xm5nLT7KQBa"
      }
    },
    {
      "cell_type": "code",
      "source": [
        "my_list = ['apple', 42, True]"
      ],
      "metadata": {
        "id": "0Zt6a9N5KSZr"
      },
      "execution_count": null,
      "outputs": []
    },
    {
      "cell_type": "code",
      "source": [
        "# add 'banana'\n",
        "# output : ['apple', 42, True, 'banana']\n",
        "my_list.append('banana')\n",
        "my_list"
      ],
      "metadata": {
        "colab": {
          "base_uri": "https://localhost:8080/"
        },
        "id": "GXVnBpWFKa5w",
        "outputId": "589d2a4c-e015-4cf0-db7f-2518966b4b03"
      },
      "execution_count": null,
      "outputs": [
        {
          "output_type": "execute_result",
          "data": {
            "text/plain": [
              "['apple', 42, True, 'banana']"
            ]
          },
          "metadata": {},
          "execution_count": 68
        }
      ]
    },
    {
      "cell_type": "code",
      "source": [
        "# remove 42\n",
        "# output : ['apple', True, 'banana']\n",
        "my_list.remove(42)\n",
        "my_list"
      ],
      "metadata": {
        "colab": {
          "base_uri": "https://localhost:8080/"
        },
        "id": "pXSsB1jhKh1I",
        "outputId": "9dca4651-13fe-4e1d-cd22-3c3b478d5be0"
      },
      "execution_count": null,
      "outputs": [
        {
          "output_type": "execute_result",
          "data": {
            "text/plain": [
              "['apple', True, 'banana']"
            ]
          },
          "metadata": {},
          "execution_count": 69
        }
      ]
    },
    {
      "cell_type": "code",
      "source": [
        "lst = [5,2,9,1,7]\n",
        "\n",
        "# [1,2,5,7,9]\n",
        "# [9,7,5,2,1]"
      ],
      "metadata": {
        "id": "Fo0rkL5dKmjv"
      },
      "execution_count": null,
      "outputs": []
    },
    {
      "cell_type": "code",
      "source": [
        "lst.sort()"
      ],
      "metadata": {
        "id": "kNXv4YDJOGi8"
      },
      "execution_count": null,
      "outputs": []
    },
    {
      "cell_type": "code",
      "source": [
        "print(lst)"
      ],
      "metadata": {
        "colab": {
          "base_uri": "https://localhost:8080/"
        },
        "id": "vhnoD6A1Na_I",
        "outputId": "301288b9-7224-46f6-c650-ef32adfa5775"
      },
      "execution_count": null,
      "outputs": [
        {
          "output_type": "stream",
          "name": "stdout",
          "text": [
            "[1, 2, 5, 7, 9]\n"
          ]
        }
      ]
    },
    {
      "cell_type": "code",
      "source": [
        "lst.sort(reverse=True)"
      ],
      "metadata": {
        "id": "o1X-Rq29OIcj"
      },
      "execution_count": null,
      "outputs": []
    },
    {
      "cell_type": "code",
      "source": [
        "print(lst)"
      ],
      "metadata": {
        "colab": {
          "base_uri": "https://localhost:8080/"
        },
        "id": "QPO03rHBOfib",
        "outputId": "14c8e0fc-5fea-48d1-8bef-97f7b6d94211"
      },
      "execution_count": null,
      "outputs": [
        {
          "output_type": "stream",
          "name": "stdout",
          "text": [
            "[9, 7, 5, 2, 1]\n"
          ]
        }
      ]
    },
    {
      "cell_type": "code",
      "source": [
        "my_list = ['apple', 42, True, 'apple', 42,'apple','apple'] # count 'apple'"
      ],
      "metadata": {
        "id": "U1fS2gvVKvjH"
      },
      "execution_count": null,
      "outputs": []
    },
    {
      "cell_type": "code",
      "source": [
        "my_list.count('apple')"
      ],
      "metadata": {
        "colab": {
          "base_uri": "https://localhost:8080/"
        },
        "id": "eww1ymAvPx5F",
        "outputId": "c096024a-1bbb-49be-8f93-347f84011604"
      },
      "execution_count": null,
      "outputs": [
        {
          "output_type": "execute_result",
          "data": {
            "text/plain": [
              "4"
            ]
          },
          "metadata": {},
          "execution_count": 80
        }
      ]
    },
    {
      "cell_type": "markdown",
      "source": [
        "## **Tuples** ( )"
      ],
      "metadata": {
        "id": "PiThfU2uQP5o"
      }
    },
    {
      "cell_type": "code",
      "source": [
        "my_tuple = ('apple', 42, True)"
      ],
      "metadata": {
        "id": "Jb4EJ_91QPil"
      },
      "execution_count": null,
      "outputs": []
    },
    {
      "cell_type": "markdown",
      "source": [
        "Tuples Are **Ordered**"
      ],
      "metadata": {
        "id": "hQjEbODJQf9_"
      }
    },
    {
      "cell_type": "code",
      "source": [
        "my_tuple[0]"
      ],
      "metadata": {
        "colab": {
          "base_uri": "https://localhost:8080/",
          "height": 35
        },
        "id": "B4CALm1CQc2E",
        "outputId": "1e7ab6b0-bd76-4cb9-cd07-f864eef883ff"
      },
      "execution_count": null,
      "outputs": [
        {
          "output_type": "execute_result",
          "data": {
            "text/plain": [
              "'apple'"
            ],
            "application/vnd.google.colaboratory.intrinsic+json": {
              "type": "string"
            }
          },
          "metadata": {},
          "execution_count": 82
        }
      ]
    },
    {
      "cell_type": "code",
      "source": [
        "my_tuple[1]"
      ],
      "metadata": {
        "colab": {
          "base_uri": "https://localhost:8080/"
        },
        "id": "6O32L6egQjIo",
        "outputId": "92e42a4a-99ef-46f7-ec14-348ac400226a"
      },
      "execution_count": null,
      "outputs": [
        {
          "output_type": "execute_result",
          "data": {
            "text/plain": [
              "42"
            ]
          },
          "metadata": {},
          "execution_count": 83
        }
      ]
    },
    {
      "cell_type": "markdown",
      "source": [
        "Tuple items are **not required** to be **unique**"
      ],
      "metadata": {
        "id": "EPpECMzWQwC9"
      }
    },
    {
      "cell_type": "code",
      "source": [
        "my_tuple = ('apple', 42, True, 'apple')"
      ],
      "metadata": {
        "id": "HB64nEbpQtMd"
      },
      "execution_count": null,
      "outputs": []
    },
    {
      "cell_type": "code",
      "source": [
        "my_tuple"
      ],
      "metadata": {
        "colab": {
          "base_uri": "https://localhost:8080/"
        },
        "id": "1wQ09BEUQ3kr",
        "outputId": "e168e1da-365f-4ee0-ee7e-e04168ce673a"
      },
      "execution_count": null,
      "outputs": [
        {
          "output_type": "execute_result",
          "data": {
            "text/plain": [
              "('apple', 42, True, 'apple')"
            ]
          },
          "metadata": {},
          "execution_count": 85
        }
      ]
    },
    {
      "cell_type": "markdown",
      "source": [
        "Tuple can have **different data types**"
      ],
      "metadata": {
        "id": "5udOv2spQ4-C"
      }
    },
    {
      "cell_type": "code",
      "source": [
        "my_tuple = ('apple', 42, True)"
      ],
      "metadata": {
        "id": "vqodOJPWQ3xQ"
      },
      "execution_count": null,
      "outputs": []
    },
    {
      "cell_type": "markdown",
      "source": [
        "Tuples Are **Immutable**"
      ],
      "metadata": {
        "id": "uvj_xhSYRF1f"
      }
    },
    {
      "cell_type": "code",
      "source": [
        "my_lst = [1, 'apple', 'True']"
      ],
      "metadata": {
        "id": "pxoIaLUzECyE"
      },
      "execution_count": 6,
      "outputs": []
    },
    {
      "cell_type": "code",
      "source": [
        "my_tuple = ('apple', 42, True)"
      ],
      "metadata": {
        "id": "r03dsTklRFul"
      },
      "execution_count": 5,
      "outputs": []
    },
    {
      "cell_type": "code",
      "source": [
        "# my_tuple[0] = my_lst"
      ],
      "metadata": {
        "id": "FNwJMvsYEB7c"
      },
      "execution_count": 9,
      "outputs": []
    },
    {
      "cell_type": "code",
      "source": [
        "# my_tuple[0] = 'orange' TypeError: 'tuple' object does not support item assignment"
      ],
      "metadata": {
        "id": "BQG24j58RD5V"
      },
      "execution_count": null,
      "outputs": []
    },
    {
      "cell_type": "code",
      "source": [
        "tuple1 = ('apple', 'banana')\n",
        "tuple2 = ('cherry', 'date')"
      ],
      "metadata": {
        "id": "uoOFZyDiRLVm"
      },
      "execution_count": null,
      "outputs": []
    },
    {
      "cell_type": "code",
      "source": [
        "res = tuple1 + tuple2"
      ],
      "metadata": {
        "id": "ny3xWXq8RjbU"
      },
      "execution_count": null,
      "outputs": []
    },
    {
      "cell_type": "code",
      "source": [
        "res"
      ],
      "metadata": {
        "colab": {
          "base_uri": "https://localhost:8080/"
        },
        "id": "-VJ0k5dFRl_Q",
        "outputId": "47d12e82-b859-4970-ba51-f3e0d30abb47"
      },
      "execution_count": null,
      "outputs": [
        {
          "output_type": "execute_result",
          "data": {
            "text/plain": [
              "('apple', 'banana', 'cherry', 'date')"
            ]
          },
          "metadata": {},
          "execution_count": 93
        }
      ]
    },
    {
      "cell_type": "code",
      "source": [
        "print('apple' in res)"
      ],
      "metadata": {
        "colab": {
          "base_uri": "https://localhost:8080/"
        },
        "id": "IQUm1h_aRnyo",
        "outputId": "6c097333-e031-4b52-cec9-3ff7fc68f320"
      },
      "execution_count": null,
      "outputs": [
        {
          "output_type": "stream",
          "name": "stdout",
          "text": [
            "True\n"
          ]
        }
      ]
    },
    {
      "cell_type": "markdown",
      "source": [
        "**Task** ⭐\n",
        "* What is **Tuple Unpacking?** Explan with exm"
      ],
      "metadata": {
        "id": "vLq9CcaOSYHZ"
      }
    },
    {
      "cell_type": "code",
      "source": [],
      "metadata": {
        "id": "x7bXmJ7ySULe"
      },
      "execution_count": null,
      "outputs": []
    },
    {
      "cell_type": "markdown",
      "source": [
        "## **Dictionaries** { }"
      ],
      "metadata": {
        "id": "cJh3__GKSrlY"
      }
    },
    {
      "cell_type": "code",
      "source": [
        "my_dict = {'name' : 'Omar', 'age' : 30, \"city\" : 'Cairo'}"
      ],
      "metadata": {
        "id": "6rX9VUFvSrgC"
      },
      "execution_count": 11,
      "outputs": []
    },
    {
      "cell_type": "code",
      "source": [
        "my_dict"
      ],
      "metadata": {
        "colab": {
          "base_uri": "https://localhost:8080/"
        },
        "id": "oYf6RrGhTc2-",
        "outputId": "0061e40b-1044-4779-c2cd-43b65b64e61b"
      },
      "execution_count": null,
      "outputs": [
        {
          "output_type": "execute_result",
          "data": {
            "text/plain": [
              "{'name': 'Omar', 'age': 30, 'city': 'Cairo'}"
            ]
          },
          "metadata": {},
          "execution_count": 98
        }
      ]
    },
    {
      "cell_type": "code",
      "source": [
        "my_dict['name']"
      ],
      "metadata": {
        "colab": {
          "base_uri": "https://localhost:8080/",
          "height": 35
        },
        "id": "XpA_xVJTTeaH",
        "outputId": "2ce3196f-5002-4b83-e06d-57cc8f3f6bce"
      },
      "execution_count": null,
      "outputs": [
        {
          "output_type": "execute_result",
          "data": {
            "text/plain": [
              "'Omar'"
            ],
            "application/vnd.google.colaboratory.intrinsic+json": {
              "type": "string"
            }
          },
          "metadata": {},
          "execution_count": 99
        }
      ]
    },
    {
      "cell_type": "code",
      "source": [
        "my_dict['age']"
      ],
      "metadata": {
        "colab": {
          "base_uri": "https://localhost:8080/"
        },
        "id": "rLBPMfP2TpYw",
        "outputId": "868b258e-f4e1-4eeb-e26e-dee64456cb3c"
      },
      "execution_count": null,
      "outputs": [
        {
          "output_type": "execute_result",
          "data": {
            "text/plain": [
              "30"
            ]
          },
          "metadata": {},
          "execution_count": 100
        }
      ]
    },
    {
      "cell_type": "code",
      "source": [
        "my_dict['city']"
      ],
      "metadata": {
        "colab": {
          "base_uri": "https://localhost:8080/",
          "height": 35
        },
        "id": "4Y9PhPJOTroI",
        "outputId": "e268f1d3-141d-4fae-a43a-d3673a6478db"
      },
      "execution_count": null,
      "outputs": [
        {
          "output_type": "execute_result",
          "data": {
            "text/plain": [
              "'Cairo'"
            ],
            "application/vnd.google.colaboratory.intrinsic+json": {
              "type": "string"
            }
          },
          "metadata": {},
          "execution_count": 101
        }
      ]
    },
    {
      "cell_type": "code",
      "source": [
        "# my_dict['Omar'] Error"
      ],
      "metadata": {
        "id": "9zAkvM4TTwCr"
      },
      "execution_count": 13,
      "outputs": []
    },
    {
      "cell_type": "markdown",
      "source": [
        "Dict **Keys** Need To Be **immutable**"
      ],
      "metadata": {
        "id": "2Y1OrgwVUiNj"
      }
    },
    {
      "cell_type": "code",
      "source": [
        "my_dict = {'name' : 'Omar', 'age' : 30, \"city\" : 'Cairo'}"
      ],
      "metadata": {
        "id": "RDM6KFpjUijw"
      },
      "execution_count": 14,
      "outputs": []
    },
    {
      "cell_type": "code",
      "source": [
        "my_dict['age']"
      ],
      "metadata": {
        "colab": {
          "base_uri": "https://localhost:8080/"
        },
        "id": "S7yWFoVzUtOC",
        "outputId": "3e5cf041-8ed9-4779-80eb-6ee4d0136fa2"
      },
      "execution_count": 15,
      "outputs": [
        {
          "output_type": "execute_result",
          "data": {
            "text/plain": [
              "30"
            ]
          },
          "metadata": {},
          "execution_count": 15
        }
      ]
    },
    {
      "cell_type": "code",
      "source": [
        "my_dict['age'] = 33"
      ],
      "metadata": {
        "id": "jVWP0CEzUvC8"
      },
      "execution_count": 16,
      "outputs": []
    },
    {
      "cell_type": "code",
      "source": [
        "my_dict"
      ],
      "metadata": {
        "colab": {
          "base_uri": "https://localhost:8080/"
        },
        "id": "3Ngg2d1kUwHi",
        "outputId": "34a85d2c-344a-4089-965b-cc138d921057"
      },
      "execution_count": 17,
      "outputs": [
        {
          "output_type": "execute_result",
          "data": {
            "text/plain": [
              "{'name': 'Omar', 'age': 33, 'city': 'Cairo'}"
            ]
          },
          "metadata": {},
          "execution_count": 17
        }
      ]
    },
    {
      "cell_type": "code",
      "source": [
        "my_dict['city'] = 'Alex'"
      ],
      "metadata": {
        "id": "hnJnbL6dU1sX"
      },
      "execution_count": null,
      "outputs": []
    },
    {
      "cell_type": "code",
      "source": [
        "my_dict"
      ],
      "metadata": {
        "colab": {
          "base_uri": "https://localhost:8080/"
        },
        "id": "rXY19PIwU4eo",
        "outputId": "7084f2cd-406d-428e-b58b-722a5ad45fcd"
      },
      "execution_count": null,
      "outputs": [
        {
          "output_type": "execute_result",
          "data": {
            "text/plain": [
              "{'name': 'Omar', 'age': 33, 'city': 'Alex'}"
            ]
          },
          "metadata": {},
          "execution_count": 109
        }
      ]
    },
    {
      "cell_type": "code",
      "source": [
        "# my_dict.keys()[0] = 'full_name' TypeError: 'dict_keys' object does not support item assignment"
      ],
      "metadata": {
        "id": "GEwoL8tlVd-O"
      },
      "execution_count": 20,
      "outputs": []
    },
    {
      "cell_type": "code",
      "source": [
        "my_dict = {'name' : 'Omar', 'age' : 30, \"city\" : 'Cairo'}"
      ],
      "metadata": {
        "id": "deUYw4V5WCUk"
      },
      "execution_count": null,
      "outputs": []
    },
    {
      "cell_type": "markdown",
      "source": [
        "step 1"
      ],
      "metadata": {
        "id": "JFMHpB9zaLWs"
      }
    },
    {
      "cell_type": "code",
      "source": [
        "value = my_dict.pop('name')"
      ],
      "metadata": {
        "id": "I8lzC2L2WLKH"
      },
      "execution_count": null,
      "outputs": []
    },
    {
      "cell_type": "code",
      "source": [
        "my_dict"
      ],
      "metadata": {
        "colab": {
          "base_uri": "https://localhost:8080/"
        },
        "id": "7OM8vsyGWUQ5",
        "outputId": "701b5419-cdb8-4a6e-de57-bb3cd56a7d98"
      },
      "execution_count": null,
      "outputs": [
        {
          "output_type": "execute_result",
          "data": {
            "text/plain": [
              "{'age': 30, 'city': 'Cairo'}"
            ]
          },
          "metadata": {},
          "execution_count": 119
        }
      ]
    },
    {
      "cell_type": "code",
      "source": [
        "value"
      ],
      "metadata": {
        "colab": {
          "base_uri": "https://localhost:8080/",
          "height": 35
        },
        "id": "7ES_5nASWihB",
        "outputId": "8d1ecd23-370a-477c-903e-e20b483c8d6b"
      },
      "execution_count": null,
      "outputs": [
        {
          "output_type": "execute_result",
          "data": {
            "text/plain": [
              "'Omar'"
            ],
            "application/vnd.google.colaboratory.intrinsic+json": {
              "type": "string"
            }
          },
          "metadata": {},
          "execution_count": 120
        }
      ]
    },
    {
      "cell_type": "markdown",
      "source": [
        "step 2"
      ],
      "metadata": {
        "id": "JinpgASaaNMo"
      }
    },
    {
      "cell_type": "code",
      "source": [
        "new_dict = {'full_name' : value, **my_dict}"
      ],
      "metadata": {
        "id": "mUODLINTW2g6"
      },
      "execution_count": null,
      "outputs": []
    },
    {
      "cell_type": "code",
      "source": [
        "new_dict"
      ],
      "metadata": {
        "colab": {
          "base_uri": "https://localhost:8080/"
        },
        "id": "Mu9ExFF4W-fF",
        "outputId": "f095d470-929e-44a4-9c93-6c9606d90fd6"
      },
      "execution_count": null,
      "outputs": [
        {
          "output_type": "execute_result",
          "data": {
            "text/plain": [
              "{'full_name': 'Omar', 'age': 30, 'city': 'Cairo'}"
            ]
          },
          "metadata": {},
          "execution_count": 130
        }
      ]
    },
    {
      "cell_type": "code",
      "source": [
        "my_dict = {'name' : 'Omar', 'age' : 30, \"city\" : 'Cairo'}"
      ],
      "metadata": {
        "id": "8__wvplEX6jS"
      },
      "execution_count": null,
      "outputs": []
    },
    {
      "cell_type": "code",
      "source": [
        "# my_dict['full_name'] = my_dict['name']\n",
        "# del my_dict['name']\n",
        "\n",
        "# print(my_dict)"
      ],
      "metadata": {
        "colab": {
          "base_uri": "https://localhost:8080/"
        },
        "id": "Ox7fKQbaYCLg",
        "outputId": "77da5954-090f-4f5b-c854-c85cf6860fb0"
      },
      "execution_count": null,
      "outputs": [
        {
          "output_type": "stream",
          "name": "stdout",
          "text": [
            "{'age': 30, 'city': 'Cairo', 'full_name': 'Omar'}\n"
          ]
        }
      ]
    },
    {
      "cell_type": "markdown",
      "source": [
        "Dict **Values** can have **any data types**"
      ],
      "metadata": {
        "id": "CV2ddDYjaw58"
      }
    },
    {
      "cell_type": "code",
      "source": [
        "my_dict = {'name' : 'Ahmed', 'age' : 20, 'is_std' : True, 'courses' : ['Math', 'science']}"
      ],
      "metadata": {
        "id": "uV3_cPriaoCF"
      },
      "execution_count": null,
      "outputs": []
    },
    {
      "cell_type": "code",
      "source": [
        "my_dict"
      ],
      "metadata": {
        "colab": {
          "base_uri": "https://localhost:8080/"
        },
        "id": "FSr6Zbfka8OS",
        "outputId": "c229c4e8-870e-4e4d-e9cb-a87a9121f8a5"
      },
      "execution_count": null,
      "outputs": [
        {
          "output_type": "execute_result",
          "data": {
            "text/plain": [
              "{'name': 'Ahmed', 'age': 20, 'is_std': True, 'courses': ['Math', 'science']}"
            ]
          },
          "metadata": {},
          "execution_count": 135
        }
      ]
    },
    {
      "cell_type": "markdown",
      "source": [
        "Dict **Keys** Need to Be **Unique**"
      ],
      "metadata": {
        "id": "6ZHGwG0Aa-fr"
      }
    },
    {
      "cell_type": "code",
      "source": [
        "my_dict = {'name' : 'Ali', 'name':'omar', 'name':'sara'}"
      ],
      "metadata": {
        "id": "LDSybYFoa-aV"
      },
      "execution_count": 25,
      "outputs": []
    },
    {
      "cell_type": "code",
      "source": [
        "my_dict"
      ],
      "metadata": {
        "colab": {
          "base_uri": "https://localhost:8080/"
        },
        "id": "qvqWzoLUbGU8",
        "outputId": "02caedc8-a73a-4bea-898f-fd7c3ed81828"
      },
      "execution_count": 26,
      "outputs": [
        {
          "output_type": "execute_result",
          "data": {
            "text/plain": [
              "{'name': 'sara'}"
            ]
          },
          "metadata": {},
          "execution_count": 26
        }
      ]
    },
    {
      "cell_type": "markdown",
      "source": [
        "Dict is **NOT ORDERED** >> You **Access Its Elements** With **Keys**"
      ],
      "metadata": {
        "id": "RO8f6160bUSD"
      }
    },
    {
      "cell_type": "code",
      "source": [
        "my_dict = {'name' : 'Mohamed', 'age' : 22, 'City' : 'Alex'}"
      ],
      "metadata": {
        "id": "50tum_ZGbUNI"
      },
      "execution_count": null,
      "outputs": []
    },
    {
      "cell_type": "code",
      "source": [
        "# my_dict[1] KeyError"
      ],
      "metadata": {
        "id": "Mc3SBolLbZsF"
      },
      "execution_count": null,
      "outputs": []
    },
    {
      "cell_type": "code",
      "source": [
        "my_dict['age']"
      ],
      "metadata": {
        "colab": {
          "base_uri": "https://localhost:8080/"
        },
        "id": "FT3ky7lnbccp",
        "outputId": "16cc08ee-d2c1-4e9a-ce8d-b4c123b62c4e"
      },
      "execution_count": null,
      "outputs": [
        {
          "output_type": "execute_result",
          "data": {
            "text/plain": [
              "22"
            ]
          },
          "metadata": {},
          "execution_count": 143
        }
      ]
    },
    {
      "cell_type": "markdown",
      "source": [
        "### Dictionaries Methods **Task ⭐**"
      ],
      "metadata": {
        "id": "9pNWlLPKbnOW"
      }
    },
    {
      "cell_type": "markdown",
      "source": [
        "update"
      ],
      "metadata": {
        "id": "ZAaVYSyRc0fh"
      }
    },
    {
      "cell_type": "code",
      "source": [
        "my_dict = {'name' : 'Ahmed',\n",
        "           'age' : 20, # 22\n",
        "           'is_std' : True,# False\n",
        "           'courses' : ['Math', 'science']}"
      ],
      "metadata": {
        "id": "0iX5DCk6bnBC"
      },
      "execution_count": null,
      "outputs": []
    },
    {
      "cell_type": "markdown",
      "source": [
        "## **Sets** Task"
      ],
      "metadata": {
        "id": "P_dHFre2b6zP"
      }
    },
    {
      "cell_type": "markdown",
      "source": [
        "1. syn ?\n",
        "2. Ordered ?\n",
        "3. Unique ?\n",
        "4. immutable ?\n",
        "\n",
        "with exm"
      ],
      "metadata": {
        "id": "WP2TYwtTcB4f"
      }
    },
    {
      "cell_type": "code",
      "source": [],
      "metadata": {
        "id": "7YUPSH1wJeHe"
      },
      "execution_count": null,
      "outputs": []
    },
    {
      "cell_type": "markdown",
      "source": [
        "## **Sets**"
      ],
      "metadata": {
        "id": "3yRwrQ1OUKeh"
      }
    },
    {
      "cell_type": "code",
      "source": [
        "my_set = {'apple', 42, True}"
      ],
      "metadata": {
        "id": "cJPIfpqmUKYt"
      },
      "execution_count": null,
      "outputs": []
    },
    {
      "cell_type": "code",
      "source": [
        "my_set"
      ],
      "metadata": {
        "colab": {
          "base_uri": "https://localhost:8080/"
        },
        "id": "T_amV6B5UaTe",
        "outputId": "f82c8614-af76-4973-eca2-baa04709b0db"
      },
      "execution_count": null,
      "outputs": [
        {
          "output_type": "execute_result",
          "data": {
            "text/plain": [
              "{42, True, 'apple'}"
            ]
          },
          "metadata": {},
          "execution_count": 128
        }
      ]
    },
    {
      "cell_type": "markdown",
      "source": [
        "Set Items Are **NOT Ordered** and **NOT Indexed**"
      ],
      "metadata": {
        "id": "zk1cE1aqUf02"
      }
    },
    {
      "cell_type": "code",
      "source": [
        "my_set = {'apple', 42, True}"
      ],
      "metadata": {
        "id": "5E6tG784Ufts"
      },
      "execution_count": null,
      "outputs": []
    },
    {
      "cell_type": "code",
      "source": [
        "# my_set[0] Error"
      ],
      "metadata": {
        "id": "0Rm24o_6U1YY"
      },
      "execution_count": null,
      "outputs": []
    },
    {
      "cell_type": "code",
      "source": [
        "# my_set[1:2] Error"
      ],
      "metadata": {
        "id": "fMADVbMnU3eM"
      },
      "execution_count": null,
      "outputs": []
    },
    {
      "cell_type": "markdown",
      "source": [
        "Set Items **Are Unique**"
      ],
      "metadata": {
        "id": "YCZ0iWOvVN0J"
      }
    },
    {
      "cell_type": "code",
      "source": [
        "my_set = {'apple', 42, True, 'apple'}"
      ],
      "metadata": {
        "id": "STRWeBPrVNod"
      },
      "execution_count": 27,
      "outputs": []
    },
    {
      "cell_type": "code",
      "source": [
        "my_set"
      ],
      "metadata": {
        "colab": {
          "base_uri": "https://localhost:8080/"
        },
        "id": "QcqubOY_VUue",
        "outputId": "3966c707-4f62-411d-a2a1-ea5e5f102732"
      },
      "execution_count": 28,
      "outputs": [
        {
          "output_type": "execute_result",
          "data": {
            "text/plain": [
              "{42, True, 'apple'}"
            ]
          },
          "metadata": {},
          "execution_count": 28
        }
      ]
    },
    {
      "cell_type": "markdown",
      "source": [
        "Set Has **Only immutable Data Types** (Numbers, Strings, Tuples)"
      ],
      "metadata": {
        "id": "5ITTszu2VdQi"
      }
    },
    {
      "cell_type": "code",
      "source": [
        "set1 = {1, 'apple', (2,3)}"
      ],
      "metadata": {
        "id": "bNhrjt5BVcjF"
      },
      "execution_count": null,
      "outputs": []
    },
    {
      "cell_type": "code",
      "source": [
        "set1"
      ],
      "metadata": {
        "colab": {
          "base_uri": "https://localhost:8080/"
        },
        "id": "mR5-suC2WtmM",
        "outputId": "e02885f2-c766-4599-eb21-4f26d29ddc69"
      },
      "execution_count": null,
      "outputs": [
        {
          "output_type": "execute_result",
          "data": {
            "text/plain": [
              "{(2, 3), 1, 'apple'}"
            ]
          },
          "metadata": {},
          "execution_count": 19
        }
      ]
    },
    {
      "cell_type": "code",
      "source": [
        "# set2 = {'apple', [1,2]} Error"
      ],
      "metadata": {
        "id": "XIYsbXfoWu2f"
      },
      "execution_count": null,
      "outputs": []
    },
    {
      "cell_type": "markdown",
      "source": [
        "### Sets Methods"
      ],
      "metadata": {
        "id": "jtVquGZnXmwO"
      }
    },
    {
      "cell_type": "code",
      "source": [
        "my_set = {1,2}"
      ],
      "metadata": {
        "id": "QjEoT2IsWy1H"
      },
      "execution_count": null,
      "outputs": []
    },
    {
      "cell_type": "code",
      "source": [
        "my_set.update({3,4})"
      ],
      "metadata": {
        "id": "L_0XQd6XX2tD"
      },
      "execution_count": null,
      "outputs": []
    },
    {
      "cell_type": "code",
      "source": [
        "my_set"
      ],
      "metadata": {
        "colab": {
          "base_uri": "https://localhost:8080/"
        },
        "id": "-TLBBES8X6Xs",
        "outputId": "d8b68af1-5b3a-484e-a5dd-96fe1ea8b554"
      },
      "execution_count": null,
      "outputs": [
        {
          "output_type": "execute_result",
          "data": {
            "text/plain": [
              "{1, 2, 3, 4}"
            ]
          },
          "metadata": {},
          "execution_count": 142
        }
      ]
    },
    {
      "cell_type": "code",
      "source": [
        "my_set.remove(4)"
      ],
      "metadata": {
        "id": "CH_49cVrX8Zk"
      },
      "execution_count": null,
      "outputs": []
    },
    {
      "cell_type": "code",
      "source": [
        "my_set"
      ],
      "metadata": {
        "colab": {
          "base_uri": "https://localhost:8080/"
        },
        "id": "pulSIjkEYDo6",
        "outputId": "d94f59c2-4428-4a9d-b67f-054c71399892"
      },
      "execution_count": null,
      "outputs": [
        {
          "output_type": "execute_result",
          "data": {
            "text/plain": [
              "{1, 2, 3}"
            ]
          },
          "metadata": {},
          "execution_count": 144
        }
      ]
    },
    {
      "cell_type": "markdown",
      "source": [
        "# **Assessment** ⭐\n",
        "\n"
      ],
      "metadata": {
        "id": "w9-l9tX8ceMD"
      }
    },
    {
      "cell_type": "markdown",
      "source": [
        "**Comparison of Python Data Structures**\n",
        " * Syntax\n",
        " * Ordered\n",
        " * Mutable\n",
        " * Duplicates\n",
        " * Performance\n",
        " * Example Use"
      ],
      "metadata": {
        "id": "KR3Y9qXycgMb"
      }
    }
  ]
}