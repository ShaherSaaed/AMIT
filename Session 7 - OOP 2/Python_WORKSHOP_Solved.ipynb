{
  "nbformat": 4,
  "nbformat_minor": 0,
  "metadata": {
    "colab": {
      "provenance": []
    },
    "kernelspec": {
      "name": "python3",
      "display_name": "Python 3"
    },
    "language_info": {
      "name": "python"
    }
  },
  "cells": [
    {
      "cell_type": "markdown",
      "source": [
        "## Task 1.1 – Create a `Book` class and print details\n",
        "\n",
        "### 🔧 Concepts Used:\n",
        "- Class & `__init__` method\n",
        "- Data types (str, int)\n",
        "- Simple function\n",
        "\n",
        "### 🎯 Objective:\n",
        "Create a class with attributes `title`, `author`, and `year`.\n",
        "Add a method to print this info.\n"
      ],
      "metadata": {
        "id": "6MDMzixgvmA4"
      }
    },
    {
      "cell_type": "code",
      "execution_count": 1,
      "metadata": {
        "colab": {
          "base_uri": "https://localhost:8080/"
        },
        "id": "aL6Mov6Tu6GM",
        "outputId": "ba0242e8-7df1-4cc3-ab50-9d32ed18c4fa"
      },
      "outputs": [
        {
          "output_type": "stream",
          "name": "stdout",
          "text": [
            "'1984' by George Orwell (1949)\n"
          ]
        }
      ],
      "source": [
        "class Book:\n",
        "    def __init__(self, title, author, year):\n",
        "        self.title = title\n",
        "        self.author = author\n",
        "        self.year = year\n",
        "\n",
        "    def print_info(self):\n",
        "        print(f\"'{self.title}' by {self.author} ({self.year})\")\n",
        "\n",
        "b = Book(\"1984\", \"George Orwell\", 1949)\n",
        "b.print_info()"
      ]
    },
    {
      "cell_type": "markdown",
      "source": [
        "## Task 1.2 – Loop through multiple `Book` objects\n",
        "\n",
        "### 🔧 Concepts Used:\n",
        "- List of objects\n",
        "- `for` loop\n",
        "- Calling class method in a loop\n",
        "\n",
        "### 🎯 Objective:\n",
        "Create 3 books and loop over them to print details.\n",
        " * like ; Book(\"1984\", \"George Orwell\", 1949)\n"
      ],
      "metadata": {
        "id": "u8eZUOi6vqqK"
      }
    },
    {
      "cell_type": "code",
      "source": [
        "books = [\n",
        "    Book(\"1984\", \"George Orwell\", 1949),\n",
        "    Book(\"To Kill a Mockingbird\", \"Harper Lee\", 1960),\n",
        "    Book(\"The Great Gatsby\", \"F. Scott Fitzgerald\", 1925)\n",
        "]\n",
        "\n",
        "for book in books:\n",
        "    book.print_info()\n"
      ],
      "metadata": {
        "colab": {
          "base_uri": "https://localhost:8080/"
        },
        "id": "CoON4qnKvo7y",
        "outputId": "dd8d97e2-96b3-401c-bf4b-900ad8426772"
      },
      "execution_count": 2,
      "outputs": [
        {
          "output_type": "stream",
          "name": "stdout",
          "text": [
            "'1984' by George Orwell (1949)\n",
            "'To Kill a Mockingbird' by Harper Lee (1960)\n",
            "'The Great Gatsby' by F. Scott Fitzgerald (1925)\n"
          ]
        }
      ]
    },
    {
      "cell_type": "code",
      "source": [],
      "metadata": {
        "id": "pOThN1EvvuMR"
      },
      "execution_count": null,
      "outputs": []
    },
    {
      "cell_type": "markdown",
      "source": [
        "## Task 1.3 – Wrap object creation inside a function\n",
        "\n",
        "### 🔧 Concepts Used:\n",
        "- Function that returns an object\n",
        "- Input/output\n",
        "- Class usage\n",
        "\n",
        "### 🎯 Objective:\n",
        "Ask user for book info, create a `Book` object, and print it.\n"
      ],
      "metadata": {
        "id": "bbMVegtUv_Sl"
      }
    },
    {
      "cell_type": "code",
      "source": [
        "def create_book():\n",
        "    title = input(\"Enter title: \")\n",
        "    author = input(\"Enter author: \")\n",
        "    year = int(input(\"Enter year: \"))\n",
        "    return Book(title, author, year)\n",
        "\n",
        "my_book = create_book()\n",
        "my_book.print_info()\n"
      ],
      "metadata": {
        "colab": {
          "base_uri": "https://localhost:8080/"
        },
        "id": "NaglqTm6wAH_",
        "outputId": "9e56fbf3-ef8b-4d62-c8f5-00baa3d8e392"
      },
      "execution_count": 4,
      "outputs": [
        {
          "output_type": "stream",
          "name": "stdout",
          "text": [
            "Enter title: j\n",
            "Enter author: j\n",
            "Enter year: 09889\n",
            "'j' by j (9889)\n"
          ]
        }
      ]
    },
    {
      "cell_type": "markdown",
      "source": [
        "## Task 2.1 – Basic Inheritance with `super()`\n",
        "\n",
        "### 🔧 Concepts Used:\n",
        "- Inheritance\n",
        "- `super()` constructor\n",
        "- Class methods\n",
        "\n",
        "### 🎯 Objective:\n",
        "Create a parent class `Animal`, and child `Dog` that adds `breed`.\n",
        "Print info using child class.\n"
      ],
      "metadata": {
        "id": "2Gr5fhjXwNT4"
      }
    },
    {
      "cell_type": "code",
      "source": [
        "class Animal:\n",
        "    def __init__(self, name):\n",
        "        self.name = name\n",
        "\n",
        "class Dog(Animal):\n",
        "    def __init__(self, name, breed):\n",
        "        super().__init__(name)\n",
        "        self.breed = breed\n",
        "\n",
        "    def speak(self):\n",
        "        print(f\"{self.name} is a {self.breed} and says Woof!\")\n",
        "\n",
        "d = Dog(\"Rex\", \"German Shepherd\")\n",
        "d.speak()\n"
      ],
      "metadata": {
        "colab": {
          "base_uri": "https://localhost:8080/"
        },
        "id": "EV8Hb6buwI9k",
        "outputId": "db703451-171c-4674-a0a2-1c0d8b2291ef"
      },
      "execution_count": 5,
      "outputs": [
        {
          "output_type": "stream",
          "name": "stdout",
          "text": [
            "Rex is a German Shepherd and says Woof!\n"
          ]
        }
      ]
    },
    {
      "cell_type": "markdown",
      "source": [
        "## Task 2.2 – Control a `Counter` class with a `while` loop\n",
        "\n",
        "### 🔧 Concepts Used:\n",
        "- `while` loop\n",
        "- Object method calls\n",
        "- User input\n",
        "\n",
        "### 🎯 Objective:\n",
        "Build a class with `increment`, `decrement`, and `show` methods. Loop to let user interact.\n"
      ],
      "metadata": {
        "id": "MpvddJmuwRr-"
      }
    },
    {
      "cell_type": "code",
      "source": [
        "class Counter:\n",
        "    def __init__(self):\n",
        "        self.value = 0\n",
        "\n",
        "    def increment(self):\n",
        "        self.value += 1\n",
        "\n",
        "    def decrement(self):\n",
        "        self.value -= 1\n",
        "\n",
        "    def show(self):\n",
        "        print(\"Value:\", self.value)\n",
        "\n",
        "c = Counter()\n",
        "\n",
        "while True:\n",
        "    print(\"\\n1. Increment\\n2. Decrement\\n3. Show\\n4. Exit\")\n",
        "    choice = input(\"Enter choice: \")\n",
        "    if choice == \"1\":\n",
        "        c.increment()\n",
        "    elif choice == \"2\":\n",
        "        c.decrement()\n",
        "    elif choice == \"3\":\n",
        "        c.show()\n",
        "    elif choice == \"4\":\n",
        "        break\n",
        "    else:\n",
        "        print(\"Invalid input\")\n"
      ],
      "metadata": {
        "colab": {
          "base_uri": "https://localhost:8080/"
        },
        "id": "8L6ZypGZwP_x",
        "outputId": "ac302408-7a97-415d-8af7-a644a8ded3c2"
      },
      "execution_count": 6,
      "outputs": [
        {
          "name": "stdout",
          "output_type": "stream",
          "text": [
            "\n",
            "1. Increment\n",
            "2. Decrement\n",
            "3. Show\n",
            "4. Exit\n",
            "Enter choice: 1\n",
            "\n",
            "1. Increment\n",
            "2. Decrement\n",
            "3. Show\n",
            "4. Exit\n",
            "Enter choice: jh\n",
            "Invalid input\n",
            "\n",
            "1. Increment\n",
            "2. Decrement\n",
            "3. Show\n",
            "4. Exit\n",
            "Enter choice: exit\n",
            "Invalid input\n",
            "\n",
            "1. Increment\n",
            "2. Decrement\n",
            "3. Show\n",
            "4. Exit\n",
            "Enter choice: Exit\n",
            "Invalid input\n",
            "\n",
            "1. Increment\n",
            "2. Decrement\n",
            "3. Show\n",
            "4. Exit\n",
            "Enter choice: Exit\n",
            "Invalid input\n",
            "\n",
            "1. Increment\n",
            "2. Decrement\n",
            "3. Show\n",
            "4. Exit\n",
            "Enter choice: 4\n"
          ]
        }
      ]
    },
    {
      "cell_type": "markdown",
      "source": [
        "## Task 2.3 – Filter `Product` objects based on condition\n",
        "\n",
        "### 🔧 Concepts Used:\n",
        "- List of objects\n",
        "- `for` loop\n",
        "- Condition inside loop\n",
        "\n",
        "### 🎯 Objective:\n",
        "Create a list of `Product` objects. Print only those with price > 100.\n"
      ],
      "metadata": {
        "id": "EdAH7aRowlm3"
      }
    },
    {
      "cell_type": "code",
      "source": [
        "class Product:\n",
        "    def __init__(self, name, price):\n",
        "        self.name = name\n",
        "        self.price = price\n",
        "\n",
        "    def show(self):\n",
        "        print(f\"{self.name} - ${self.price}\")\n",
        "\n",
        "products = [\n",
        "    Product(\"Mouse\", 50),\n",
        "    Product(\"Keyboard\", 120),\n",
        "    Product(\"Monitor\", 800)\n",
        "]\n",
        "\n",
        "for item in products:\n",
        "    if item.price > 100:\n",
        "        item.show()\n"
      ],
      "metadata": {
        "colab": {
          "base_uri": "https://localhost:8080/"
        },
        "id": "8EnTS6UqwUGM",
        "outputId": "a37e93ed-6a42-4194-bbdd-ec49d1085ae9"
      },
      "execution_count": 7,
      "outputs": [
        {
          "output_type": "stream",
          "name": "stdout",
          "text": [
            "Keyboard - $120\n",
            "Monitor - $800\n"
          ]
        }
      ]
    },
    {
      "cell_type": "markdown",
      "source": [
        "## Task 3.1 – Use encapsulation to protect balance\n",
        "\n",
        "### 🔧 Concepts Used:\n",
        "- Private attribute (`__balance`)\n",
        "- Getter and Setter\n",
        "- Control access to variable\n",
        "\n",
        "### 🎯 Objective:\n",
        "Prevent direct access to balance. Use `get_balance()` and `set_balance()`.\n"
      ],
      "metadata": {
        "id": "j4JhY7idwspn"
      }
    },
    {
      "cell_type": "code",
      "source": [
        "class Wallet:\n",
        "    def __init__(self, owner, balance):\n",
        "        self.owner = owner\n",
        "        self.__balance = balance\n",
        "\n",
        "    def get_balance(self):\n",
        "        return self.__balance\n",
        "\n",
        "    def set_balance(self, amount):\n",
        "        if amount >= 0:\n",
        "            self.__balance = amount\n",
        "        else:\n",
        "            print(\"Invalid amount!\")\n",
        "\n",
        "w = Wallet(\"Omar\", 100)\n",
        "print(\"Balance:\", w.get_balance())\n",
        "w.set_balance(200)\n",
        "print(\"Updated Balance:\", w.get_balance())\n",
        "w.set_balance(-50)  # Should not update\n"
      ],
      "metadata": {
        "colab": {
          "base_uri": "https://localhost:8080/"
        },
        "id": "oNu_vH0ZwpbJ",
        "outputId": "483918f3-1fb5-4200-ccb4-a4041cda4d82"
      },
      "execution_count": 8,
      "outputs": [
        {
          "output_type": "stream",
          "name": "stdout",
          "text": [
            "Balance: 100\n",
            "Updated Balance: 200\n",
            "Invalid amount!\n"
          ]
        }
      ]
    },
    {
      "cell_type": "markdown",
      "source": [
        "## Task 3.2 – Use polymorphism via method override\n",
        "\n",
        "### 🔧 Concepts Used:\n",
        "- Parent & Child class\n",
        "- Method overriding\n",
        "\n",
        "### 🎯 Objective:\n",
        "Override a method `move()` in multiple child classes and call them dynamically.\n"
      ],
      "metadata": {
        "id": "UdWj9xfOwxVO"
      }
    },
    {
      "cell_type": "code",
      "source": [
        "class Vehicle:\n",
        "    def move(self):\n",
        "        print(\"Moving...\")\n",
        "\n",
        "class Car(Vehicle):\n",
        "    def move(self):\n",
        "        print(\"Car is driving\")\n",
        "\n",
        "class Plane(Vehicle):\n",
        "    def move(self):\n",
        "        print(\"Plane is flying\")\n",
        "\n",
        "vehicles = [Car(), Plane()]\n",
        "for v in vehicles:\n",
        "    v.move()\n"
      ],
      "metadata": {
        "colab": {
          "base_uri": "https://localhost:8080/"
        },
        "id": "XKpnu_JcwvMA",
        "outputId": "7ecc858f-2dbc-417c-c042-41029cff557e"
      },
      "execution_count": 9,
      "outputs": [
        {
          "output_type": "stream",
          "name": "stdout",
          "text": [
            "Car is driving\n",
            "Plane is flying\n"
          ]
        }
      ]
    },
    {
      "cell_type": "markdown",
      "source": [
        "## Task 3.3 – Full OOP simulation with encapsulation, inheritance, while loop\n",
        "\n",
        "### 🔧 Concepts Used:\n",
        "- Inheritance\n",
        "- Encapsulation\n",
        "- While loop for interaction\n",
        "- Functionality: Deposit, Withdraw, View\n",
        "\n",
        "### 🎯 Objective:\n",
        "Simulate a simple bank system with SavingsAccount and normal account behavior.\n"
      ],
      "metadata": {
        "id": "hH8QPZgQw0z0"
      }
    },
    {
      "cell_type": "code",
      "source": [
        "class Account:\n",
        "    def __init__(self, owner, balance):\n",
        "        self.owner = owner\n",
        "        self.__balance = balance\n",
        "\n",
        "    def get_balance(self):\n",
        "        return self.__balance\n",
        "\n",
        "    def deposit(self, amount):\n",
        "        self.__balance += amount\n",
        "\n",
        "    def withdraw(self, amount):\n",
        "        if amount <= self.__balance:\n",
        "            self.__balance -= amount\n",
        "        else:\n",
        "            print(\"Insufficient funds\")\n",
        "\n",
        "class SavingsAccount(Account):\n",
        "    def withdraw(self, amount):\n",
        "        print(\"No withdrawals allowed in savings account\")\n",
        "\n",
        "# Choose account type\n",
        "acc = Account(\"Ali\", 500)\n",
        "\n",
        "while True:\n",
        "    print(\"\\n1. Deposit\\n2. Withdraw\\n3. Show Balance\\n4. Exit\")\n",
        "    op = input(\"Choose operation: \")\n",
        "    if op == \"1\":\n",
        "        amt = float(input(\"Enter amount: \"))\n",
        "        acc.deposit(amt)\n",
        "    elif op == \"2\":\n",
        "        amt = float(input(\"Enter amount: \"))\n",
        "        acc.withdraw(amt)\n",
        "    elif op == \"3\":\n",
        "        print(\"Balance:\", acc.get_balance())\n",
        "    elif op == \"4\":\n",
        "        break\n",
        "    else:\n",
        "        print(\"Invalid input\")"
      ],
      "metadata": {
        "colab": {
          "base_uri": "https://localhost:8080/"
        },
        "id": "xv98Jx4AwzE2",
        "outputId": "f0387f96-0841-4e06-b03d-28573f652934"
      },
      "execution_count": 10,
      "outputs": [
        {
          "name": "stdout",
          "output_type": "stream",
          "text": [
            "\n",
            "1. Deposit\n",
            "2. Withdraw\n",
            "3. Show Balance\n",
            "4. Exit\n",
            "Choose operation: 1\n",
            "Enter amount: 2\n",
            "\n",
            "1. Deposit\n",
            "2. Withdraw\n",
            "3. Show Balance\n",
            "4. Exit\n",
            "Choose operation: 4\n"
          ]
        }
      ]
    },
    {
      "cell_type": "code",
      "source": [],
      "metadata": {
        "id": "ZOVH2s2ow3W6"
      },
      "execution_count": null,
      "outputs": []
    }
  ]
}