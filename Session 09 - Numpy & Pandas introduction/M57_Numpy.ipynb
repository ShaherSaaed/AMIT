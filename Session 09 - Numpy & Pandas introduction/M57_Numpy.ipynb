{
  "nbformat": 4,
  "nbformat_minor": 0,
  "metadata": {
    "colab": {
      "provenance": []
    },
    "kernelspec": {
      "name": "python3",
      "display_name": "Python 3"
    },
    "language_info": {
      "name": "python"
    }
  },
  "cells": [
    {
      "cell_type": "markdown",
      "source": [
        "# **Install Numpy**"
      ],
      "metadata": {
        "id": "qEP0O4GSuTW8"
      }
    },
    {
      "cell_type": "code",
      "execution_count": null,
      "metadata": {
        "colab": {
          "base_uri": "https://localhost:8080/"
        },
        "id": "vUkakdkbtqLH",
        "outputId": "0b3d449f-c114-46dc-bd48-07621ba8826b"
      },
      "outputs": [
        {
          "output_type": "stream",
          "name": "stdout",
          "text": [
            "Requirement already satisfied: numpy in /usr/local/lib/python3.11/dist-packages (2.0.2)\n"
          ]
        }
      ],
      "source": [
        "!pip install numpy"
      ]
    },
    {
      "cell_type": "markdown",
      "source": [
        "NumPy is usually imported under the np alias."
      ],
      "metadata": {
        "id": "fCP6SJ6Gue8m"
      }
    },
    {
      "cell_type": "code",
      "source": [
        "import numpy as np"
      ],
      "metadata": {
        "id": "Gh2lUH5KuYpH"
      },
      "execution_count": null,
      "outputs": []
    },
    {
      "cell_type": "markdown",
      "source": [
        "# **Checking NumPy Version**"
      ],
      "metadata": {
        "id": "vlLKSaReuid-"
      }
    },
    {
      "cell_type": "markdown",
      "source": [
        "The **version string** is stored under **__version__ attribute**."
      ],
      "metadata": {
        "id": "96PN9D5Yulxm"
      }
    },
    {
      "cell_type": "code",
      "source": [
        "np.__version__"
      ],
      "metadata": {
        "colab": {
          "base_uri": "https://localhost:8080/",
          "height": 36
        },
        "id": "ztCJkyyUuglZ",
        "outputId": "101e5bf5-5e11-4e2b-ec08-59a71b5a1444"
      },
      "execution_count": null,
      "outputs": [
        {
          "output_type": "execute_result",
          "data": {
            "text/plain": [
              "'2.0.2'"
            ],
            "application/vnd.google.colaboratory.intrinsic+json": {
              "type": "string"
            }
          },
          "metadata": {},
          "execution_count": 3
        }
      ]
    },
    {
      "cell_type": "markdown",
      "source": [
        "# **NumPy Creating Arrays**"
      ],
      "metadata": {
        "id": "9muGJcpwuxum"
      }
    },
    {
      "cell_type": "markdown",
      "source": [
        ">NumPy is used to work with arrays.\n",
        ">> The **array object** in NumPy is called **ndarray**.\n",
        "\n",
        ">We can create a **NumPy ndarray** object by using the **array() function**."
      ],
      "metadata": {
        "id": "1WmNWpftuz6w"
      }
    },
    {
      "cell_type": "code",
      "source": [
        "x = [1,2,3]\n",
        "y = [4,5,6]\n",
        "\n",
        "res = x + y\n",
        "res"
      ],
      "metadata": {
        "colab": {
          "base_uri": "https://localhost:8080/"
        },
        "id": "p_jp7rgnCV8Z",
        "outputId": "791a398a-45d2-4690-bbb2-5b0d23143ebf"
      },
      "execution_count": null,
      "outputs": [
        {
          "output_type": "execute_result",
          "data": {
            "text/plain": [
              "[1, 2, 3, 4, 5, 6]"
            ]
          },
          "metadata": {},
          "execution_count": 42
        }
      ]
    },
    {
      "cell_type": "code",
      "source": [
        "arr = np.array([12,20,30,40,50,60])"
      ],
      "metadata": {
        "id": "LiN6_bY2u3IE"
      },
      "execution_count": null,
      "outputs": []
    },
    {
      "cell_type": "code",
      "source": [
        "print(arr)"
      ],
      "metadata": {
        "colab": {
          "base_uri": "https://localhost:8080/"
        },
        "id": "WZNkv1pgu4Sy",
        "outputId": "0fdb134e-07c6-4d1b-9fbd-074d054ec76a"
      },
      "execution_count": null,
      "outputs": [
        {
          "output_type": "stream",
          "name": "stdout",
          "text": [
            "[12 20 30 40 50 60]\n"
          ]
        }
      ]
    },
    {
      "cell_type": "code",
      "source": [
        "type(arr)"
      ],
      "metadata": {
        "colab": {
          "base_uri": "https://localhost:8080/"
        },
        "id": "m7srhfOBuofY",
        "outputId": "5e845cb4-3f60-4071-ef1b-e54bab7d26d3"
      },
      "execution_count": null,
      "outputs": [
        {
          "output_type": "execute_result",
          "data": {
            "text/plain": [
              "numpy.ndarray"
            ]
          },
          "metadata": {},
          "execution_count": 6
        }
      ]
    },
    {
      "cell_type": "markdown",
      "source": [
        "**To create an ndarray**"
      ],
      "metadata": {
        "id": "cKur7khnvX-R"
      }
    },
    {
      "cell_type": "markdown",
      "source": [
        ">We can **pass** a **list**, **tuple** or any **array-like object** into the ```array()``` method, and it will be **converted into an ndarray**"
      ],
      "metadata": {
        "id": "jtzWvksNvaep"
      }
    },
    {
      "cell_type": "code",
      "source": [
        "arr = np.array((10,20,30,40,50,60))"
      ],
      "metadata": {
        "id": "zS3X5ueZu6bV"
      },
      "execution_count": null,
      "outputs": []
    },
    {
      "cell_type": "code",
      "source": [
        "arr"
      ],
      "metadata": {
        "colab": {
          "base_uri": "https://localhost:8080/"
        },
        "id": "rsQ5enEpveuP",
        "outputId": "7abc7bf8-226e-4b12-87c4-ec854e9d5204"
      },
      "execution_count": null,
      "outputs": [
        {
          "output_type": "execute_result",
          "data": {
            "text/plain": [
              "array([10, 20, 30, 40, 50, 60])"
            ]
          },
          "metadata": {},
          "execution_count": 8
        }
      ]
    },
    {
      "cell_type": "markdown",
      "source": [
        "**Create an aray within specified range**"
      ],
      "metadata": {
        "id": "7FxU-lSbvh5z"
      }
    },
    {
      "cell_type": "markdown",
      "source": [
        "```np.arange()``` method can be used to replace ```np.array(range())``` method"
      ],
      "metadata": {
        "id": "QsLMkblxvkUO"
      }
    },
    {
      "cell_type": "code",
      "source": [
        "arr = np.arange(0, 21, 3)"
      ],
      "metadata": {
        "id": "mYo6LIuCvm-N"
      },
      "execution_count": null,
      "outputs": []
    },
    {
      "cell_type": "code",
      "source": [
        "print(arr)\n",
        "print(type(arr))"
      ],
      "metadata": {
        "colab": {
          "base_uri": "https://localhost:8080/"
        },
        "id": "fE1H8MzEvfjC",
        "outputId": "3b97e2b2-5175-4638-8264-8157fd6f7760"
      },
      "execution_count": null,
      "outputs": [
        {
          "output_type": "stream",
          "name": "stdout",
          "text": [
            "[ 0  3  6  9 12 15 18]\n",
            "<class 'numpy.ndarray'>\n"
          ]
        }
      ]
    },
    {
      "cell_type": "markdown",
      "source": [
        "**Create an array of evenly spaced numbers within specified range**"
      ],
      "metadata": {
        "id": "kBYOzPQ1v2WU"
      }
    },
    {
      "cell_type": "markdown",
      "source": [
        "```np.linspace(start, stop, num_of_elements, endpoint=True, retstep=False)``` has 5 parameters:\n",
        "- ```start```: start number (inclusive)\n",
        "- ```stop```: end number (inclusive unless ```endpoint``` set to ```False```)\n",
        "- ```num_of_elements```: number of elements contained in the array\n",
        "- ```endpoint```: boolean value representing whether the ```stop``` number is inclusive or not\n",
        "- ```retstep```: boolean value representing whether to return the step size"
      ],
      "metadata": {
        "id": "5u_jVvqgv4_S"
      }
    },
    {
      "cell_type": "code",
      "source": [
        "arr, step_size = np.linspace(0,10, 5,endpoint=False, retstep=True)"
      ],
      "metadata": {
        "id": "CnOp2OPmv8QW"
      },
      "execution_count": null,
      "outputs": []
    },
    {
      "cell_type": "code",
      "source": [
        "print(arr)"
      ],
      "metadata": {
        "colab": {
          "base_uri": "https://localhost:8080/"
        },
        "id": "SWYygQh1v_GL",
        "outputId": "e74d00b7-8843-4119-a552-611f98ba6b47"
      },
      "execution_count": null,
      "outputs": [
        {
          "output_type": "stream",
          "name": "stdout",
          "text": [
            "[0. 2. 4. 6. 8.]\n"
          ]
        }
      ]
    },
    {
      "cell_type": "code",
      "source": [
        "print(arr.size)"
      ],
      "metadata": {
        "colab": {
          "base_uri": "https://localhost:8080/"
        },
        "id": "iY8YBFwuwAN4",
        "outputId": "7d8aeed9-227a-4469-e73a-6aac1ca702e3"
      },
      "execution_count": null,
      "outputs": [
        {
          "output_type": "stream",
          "name": "stdout",
          "text": [
            "17\n"
          ]
        }
      ]
    },
    {
      "cell_type": "markdown",
      "source": [
        "**Create an array of random values of given shape**"
      ],
      "metadata": {
        "id": "OcBxo11_wGCu"
      }
    },
    {
      "cell_type": "markdown",
      "source": [
        "```np.random.rand()``` method returns values in the range [0,1)"
      ],
      "metadata": {
        "id": "fhkisvWrwI-p"
      }
    },
    {
      "cell_type": "code",
      "source": [
        "arr = np.random.rand(3,4)\n",
        "print(arr)"
      ],
      "metadata": {
        "colab": {
          "base_uri": "https://localhost:8080/"
        },
        "id": "61kVzPLQv9wn",
        "outputId": "be0e3987-80b9-4a85-f614-9d73517c1b82"
      },
      "execution_count": null,
      "outputs": [
        {
          "output_type": "stream",
          "name": "stdout",
          "text": [
            "[[0.20071098 0.38442116 0.68047047 0.19503633]\n",
            " [0.20008912 0.09440452 0.36564311 0.48160244]\n",
            " [0.44008946 0.05649488 0.81847564 0.26543135]]\n"
          ]
        }
      ]
    },
    {
      "cell_type": "markdown",
      "source": [
        "**Create an array of zeros of given shape**"
      ],
      "metadata": {
        "id": "A9ugs59MwNqP"
      }
    },
    {
      "cell_type": "markdown",
      "source": [
        "- ```np.zeros()```: create array of all zeros in given shape\n",
        "- ```np.zeros_like()```: create array of all zeros with the same shape and data type as the given input array"
      ],
      "metadata": {
        "id": "bqal5_tiwQVt"
      }
    },
    {
      "cell_type": "code",
      "source": [
        "zeros = np.zeros((2,3))\n",
        "print(zeros)"
      ],
      "metadata": {
        "colab": {
          "base_uri": "https://localhost:8080/"
        },
        "id": "5krbajknwLgz",
        "outputId": "11478170-3d5a-4e92-a903-ea0d175c7278"
      },
      "execution_count": null,
      "outputs": [
        {
          "output_type": "stream",
          "name": "stdout",
          "text": [
            "[[0. 0. 0.]\n",
            " [0. 0. 0.]]\n"
          ]
        }
      ]
    },
    {
      "cell_type": "code",
      "source": [
        "arr = [[1,2,3], [4,5,6]]\n",
        "ones = np.zeros_like(arr)\n",
        "print(ones)"
      ],
      "metadata": {
        "colab": {
          "base_uri": "https://localhost:8080/"
        },
        "id": "QLd5-vrVwfU1",
        "outputId": "cc9ed168-8f79-429c-8397-c5da68b0f6a9"
      },
      "execution_count": null,
      "outputs": [
        {
          "output_type": "stream",
          "name": "stdout",
          "text": [
            "[[0 0 0]\n",
            " [0 0 0]]\n"
          ]
        }
      ]
    },
    {
      "cell_type": "markdown",
      "source": [
        "**Create an array of ones of given shape**"
      ],
      "metadata": {
        "id": "1aBJR0X8wVG8"
      }
    },
    {
      "cell_type": "markdown",
      "source": [
        "- ```np.ones()```: create array of all ones in given shape\n",
        "- ```np.ones_like()```: create array of all ones with the same shape and data type as the given input array"
      ],
      "metadata": {
        "id": "6Bw0Wgh6wXTR"
      }
    },
    {
      "cell_type": "code",
      "source": [
        "ones = np.ones((3,2))\n",
        "print(ones)"
      ],
      "metadata": {
        "colab": {
          "base_uri": "https://localhost:8080/"
        },
        "id": "CXR1m4WLwSaD",
        "outputId": "13d3aaa4-7de3-49d7-f451-a5e4e9337f31"
      },
      "execution_count": null,
      "outputs": [
        {
          "output_type": "stream",
          "name": "stdout",
          "text": [
            "[[1. 1.]\n",
            " [1. 1.]\n",
            " [1. 1.]]\n"
          ]
        }
      ]
    },
    {
      "cell_type": "code",
      "source": [
        "arr = [[1,2,3], [4,5,6]]\n",
        "ones = np.ones_like(arr)\n",
        "print(ones)"
      ],
      "metadata": {
        "colab": {
          "base_uri": "https://localhost:8080/"
        },
        "id": "F0-ifzmCwZvA",
        "outputId": "20229fa4-91cc-414b-c806-86c0964b4fcd"
      },
      "execution_count": null,
      "outputs": [
        {
          "output_type": "stream",
          "name": "stdout",
          "text": [
            "[[1 1 1]\n",
            " [1 1 1]]\n"
          ]
        }
      ]
    },
    {
      "cell_type": "markdown",
      "source": [
        "**Create an empty array of given shape**"
      ],
      "metadata": {
        "id": "VkTvJAqGwlUG"
      }
    },
    {
      "cell_type": "markdown",
      "source": [
        "- ```np.empty()```: create array of empty values in given shape\n",
        "- ```np.empty_like()```: create array of empty values with the same shape and data type as the given input array\n",
        "\n",
        "Notice that the initial values are not necessarily set to zeroes.\n",
        "\n",
        "They are just some garbage values in random memory addresses."
      ],
      "metadata": {
        "id": "BP2lsOYrwonP"
      }
    },
    {
      "cell_type": "code",
      "source": [
        "empty = np.empty((2,2))\n",
        "print(empty)\n",
        "print(empty.dtype)"
      ],
      "metadata": {
        "colab": {
          "base_uri": "https://localhost:8080/"
        },
        "id": "TrUle9Nxwcib",
        "outputId": "9aaca402-84a9-461c-e526-496bedc6f558"
      },
      "execution_count": null,
      "outputs": [
        {
          "output_type": "stream",
          "name": "stdout",
          "text": [
            "[[3.31962216e-315 0.00000000e+000]\n",
            " [5.49470885e-096 5.99073709e+140]]\n",
            "float64\n"
          ]
        }
      ]
    },
    {
      "cell_type": "markdown",
      "source": [
        "**Create an array of constant values of given shape**"
      ],
      "metadata": {
        "id": "gDvQbSGgwt41"
      }
    },
    {
      "cell_type": "markdown",
      "source": [
        "- ```np.full()```: create array of constant values in given shape\n",
        "- ```np.full_like()```: create array of constant values with the same shape and data type as the given input array"
      ],
      "metadata": {
        "id": "tKo861r4wyYU"
      }
    },
    {
      "cell_type": "code",
      "source": [
        "full = np.full((4,4), 4)\n",
        "print(full)"
      ],
      "metadata": {
        "colab": {
          "base_uri": "https://localhost:8080/"
        },
        "id": "VWCL9Yw3wrQv",
        "outputId": "42787185-3fff-4b2e-ac5e-3d6a2bb5d61f"
      },
      "execution_count": null,
      "outputs": [
        {
          "output_type": "stream",
          "name": "stdout",
          "text": [
            "[[4 4 4 4]\n",
            " [4 4 4 4]\n",
            " [4 4 4 4]\n",
            " [4 4 4 4]]\n"
          ]
        }
      ]
    },
    {
      "cell_type": "code",
      "source": [
        "arr = np.array([[1,2], [3,4]], dtype=np.float64)\n",
        "full = np.full_like(arr, 5)\n",
        "print(full)"
      ],
      "metadata": {
        "colab": {
          "base_uri": "https://localhost:8080/"
        },
        "id": "UAbE1prGw0Ds",
        "outputId": "5a9ee4ce-eee9-41f4-98c8-7b8bbc52756b"
      },
      "execution_count": null,
      "outputs": [
        {
          "output_type": "stream",
          "name": "stdout",
          "text": [
            "[[5. 5.]\n",
            " [5. 5.]]\n"
          ]
        }
      ]
    },
    {
      "cell_type": "markdown",
      "source": [
        "**Create an identity matrix of given size**"
      ],
      "metadata": {
        "id": "AZTDxtYew8aF"
      }
    },
    {
      "cell_type": "markdown",
      "source": [
        "- ```np.eye(size)```: create an identity matrix of given size\n",
        "    - ```size```: the size of the identity matrix\n",
        "- ```np.identity()```: same as ```np.eye()``` but does not carry parameters"
      ],
      "metadata": {
        "id": "B4hFzJIJw_T4"
      }
    },
    {
      "cell_type": "code",
      "source": [
        "identity_matrix = np.eye(4)\n",
        "print(identity_matrix)"
      ],
      "metadata": {
        "colab": {
          "base_uri": "https://localhost:8080/"
        },
        "id": "MF0ws423w5xU",
        "outputId": "f57b4014-816b-49a7-d871-9926b1bbc1ba"
      },
      "execution_count": null,
      "outputs": [
        {
          "output_type": "stream",
          "name": "stdout",
          "text": [
            "[[1. 0. 0. 0.]\n",
            " [0. 1. 0. 0.]\n",
            " [0. 0. 1. 0.]\n",
            " [0. 0. 0. 1.]]\n"
          ]
        }
      ]
    },
    {
      "cell_type": "code",
      "source": [
        "identity_matrix = np.identity(5)\n",
        "print(identity_matrix)"
      ],
      "metadata": {
        "colab": {
          "base_uri": "https://localhost:8080/"
        },
        "id": "DBbNDOPDxHnV",
        "outputId": "1ac96d40-0bd0-40c0-c4a7-8ffc5db62b6c"
      },
      "execution_count": null,
      "outputs": [
        {
          "output_type": "stream",
          "name": "stdout",
          "text": [
            "[[1. 0. 0. 0. 0.]\n",
            " [0. 1. 0. 0. 0.]\n",
            " [0. 0. 1. 0. 0.]\n",
            " [0. 0. 0. 1. 0.]\n",
            " [0. 0. 0. 0. 1.]]\n"
          ]
        }
      ]
    },
    {
      "cell_type": "markdown",
      "source": [
        "**Create an array with given values on the diagonal**"
      ],
      "metadata": {
        "id": "x9pcrmbCxd3b"
      }
    },
    {
      "cell_type": "code",
      "source": [
        "arr = np.random.rand(5,5)\n",
        "print(arr)"
      ],
      "metadata": {
        "colab": {
          "base_uri": "https://localhost:8080/"
        },
        "id": "BBozwRu_xO-x",
        "outputId": "0b6a0dc6-63f8-4ad1-bd87-1bb31beae06c"
      },
      "execution_count": null,
      "outputs": [
        {
          "output_type": "stream",
          "name": "stdout",
          "text": [
            "[[0.62411029 0.80413866 0.24254926 0.87682865 0.97012432]\n",
            " [0.75734152 0.87405483 0.60074848 0.4255561  0.06517794]\n",
            " [0.24368606 0.27322506 0.53962396 0.30806304 0.85833336]\n",
            " [0.83956454 0.30966316 0.0397135  0.88248541 0.64162389]\n",
            " [0.54455263 0.07177938 0.23183757 0.63120223 0.35793335]]\n"
          ]
        }
      ]
    },
    {
      "cell_type": "markdown",
      "source": [
        "Extract values on the diagonal"
      ],
      "metadata": {
        "id": "mGHVR37DxiOT"
      }
    },
    {
      "cell_type": "code",
      "source": [
        "print('Values on the diagonal: ' + str(np.diag(arr)))"
      ],
      "metadata": {
        "colab": {
          "base_uri": "https://localhost:8080/"
        },
        "id": "vSywfA_TxgY9",
        "outputId": "2dfbfc26-b927-4f21-8dc9-72aad49334ce"
      },
      "execution_count": null,
      "outputs": [
        {
          "output_type": "stream",
          "name": "stdout",
          "text": [
            "Values on the diagonal: [0.62411029 0.87405483 0.53962396 0.88248541 0.35793335]\n"
          ]
        }
      ]
    },
    {
      "cell_type": "markdown",
      "source": [
        "Not necessarily to be a square matrix"
      ],
      "metadata": {
        "id": "x5mlPD5Ox2f5"
      }
    },
    {
      "cell_type": "code",
      "source": [
        "arr = np.random.rand(5,3)\n",
        "print(arr)\n",
        "# Extract values on the diagonal\n",
        "print('Values on the diagonal: ' + str(np.diag(arr)))"
      ],
      "metadata": {
        "colab": {
          "base_uri": "https://localhost:8080/"
        },
        "id": "GFBSIHNOxlO6",
        "outputId": "6ece5901-c75e-407c-c8df-1a10a5671b36"
      },
      "execution_count": null,
      "outputs": [
        {
          "output_type": "stream",
          "name": "stdout",
          "text": [
            "[[0.83307107 0.73008282 0.57601957]\n",
            " [0.46997894 0.74687668 0.53483032]\n",
            " [0.85489517 0.72681809 0.07527104]\n",
            " [0.65113436 0.385261   0.20050177]\n",
            " [0.8599504  0.01462649 0.01696049]]\n",
            "Values on the diagonal: [0.83307107 0.74687668 0.07527104]\n"
          ]
        }
      ]
    },
    {
      "cell_type": "markdown",
      "source": [
        "Create a matrix given values on the diagonal"
      ],
      "metadata": {
        "id": "pm6lLfiqx81a"
      }
    },
    {
      "cell_type": "markdown",
      "source": [
        "> All non-diagonal values set to zeros"
      ],
      "metadata": {
        "id": "K7jSfsxBx-7n"
      }
    },
    {
      "cell_type": "code",
      "source": [
        "arr = np.diag([1,2,3,4,5,6])\n",
        "print(arr)"
      ],
      "metadata": {
        "colab": {
          "base_uri": "https://localhost:8080/"
        },
        "id": "cdBZ5FTlx5L2",
        "outputId": "2ab0b4e1-1f52-4216-de03-d1e3c919d800"
      },
      "execution_count": null,
      "outputs": [
        {
          "output_type": "stream",
          "name": "stdout",
          "text": [
            "[[1 0 0 0 0 0]\n",
            " [0 2 0 0 0 0]\n",
            " [0 0 3 0 0 0]\n",
            " [0 0 0 4 0 0]\n",
            " [0 0 0 0 5 0]\n",
            " [0 0 0 0 0 6]]\n"
          ]
        }
      ]
    },
    {
      "cell_type": "markdown",
      "source": [
        "# **Dimensions in Arrays**"
      ],
      "metadata": {
        "id": "IU85L_8fyEIg"
      }
    },
    {
      "cell_type": "markdown",
      "source": [
        "A **dimension** in arrays is **one level** of **array depth** (nested arrays).\n",
        "\n",
        "**Nested array:** are arrays that **have arrays as their elements.**"
      ],
      "metadata": {
        "id": "VmvhnhRPyJD_"
      }
    },
    {
      "cell_type": "markdown",
      "source": [
        "## **0-D Arrays**"
      ],
      "metadata": {
        "id": "erJ_BzTJyLOl"
      }
    },
    {
      "cell_type": "markdown",
      "source": [
        ">**0-D arrays**, **,or Scalars**: are the **elements** in an array.\n",
        ">>**Each value in an array is a 0-D array.**"
      ],
      "metadata": {
        "id": "DuR59ajfyM2U"
      }
    },
    {
      "cell_type": "code",
      "source": [
        "# create 0-D array with value '10'\n",
        "\n",
        "arr=np.array('10')\n",
        "print(arr)"
      ],
      "metadata": {
        "colab": {
          "base_uri": "https://localhost:8080/"
        },
        "id": "K1O2uERYyB7E",
        "outputId": "a4054d3f-3aae-4494-c34c-78bfb10758d4"
      },
      "execution_count": null,
      "outputs": [
        {
          "output_type": "stream",
          "name": "stdout",
          "text": [
            "10\n"
          ]
        }
      ]
    },
    {
      "cell_type": "markdown",
      "source": [
        "## **1-D Arrays**"
      ],
      "metadata": {
        "id": "4OnyRAAsyR9l"
      }
    },
    {
      "cell_type": "markdown",
      "source": [
        ">An **array** that has **0-D arrays** as its **elements** is called **uni-dimensional** or **1-D array**.\n",
        "\n",
        ">These are the **most common** and **basic** arrays."
      ],
      "metadata": {
        "id": "nd8YehHXyXpd"
      }
    },
    {
      "cell_type": "code",
      "source": [
        "arr = np.array([1, 2, 3, 4, 5])\n",
        "\n",
        "print(arr)"
      ],
      "metadata": {
        "colab": {
          "base_uri": "https://localhost:8080/"
        },
        "id": "7B6qgou-yYL_",
        "outputId": "17cc4282-1977-4b67-e024-3b0a36e41dbb"
      },
      "execution_count": null,
      "outputs": [
        {
          "output_type": "stream",
          "name": "stdout",
          "text": [
            "[1 2 3 4 5]\n"
          ]
        }
      ]
    },
    {
      "cell_type": "markdown",
      "source": [
        "## **2-D Arrays**"
      ],
      "metadata": {
        "id": "WWTUG63xyefp"
      }
    },
    {
      "cell_type": "markdown",
      "source": [
        ">An **array** that has **1-D arrays** as its **elements** is called a **2-D array**.\n",
        "\n",
        ">These are often **used** to **represent matrix** or **2nd order tensors**.\n",
        "\n"
      ],
      "metadata": {
        "id": "p6FsVzb2yhz_"
      }
    },
    {
      "cell_type": "markdown",
      "source": [
        "**NumPy** has a whole **sub module** dedicated towards **matrix operations** called numpy.mat"
      ],
      "metadata": {
        "id": "JM_-J9Kbykp8"
      }
    },
    {
      "cell_type": "code",
      "source": [
        "arr = np.array([[10,20,30],[40,50,60]])\n",
        "print(arr)"
      ],
      "metadata": {
        "colab": {
          "base_uri": "https://localhost:8080/"
        },
        "id": "m1OrK0CGyOwk",
        "outputId": "f38a36fc-dbd0-416e-ddfe-6169e0eb7020"
      },
      "execution_count": null,
      "outputs": [
        {
          "output_type": "stream",
          "name": "stdout",
          "text": [
            "[[10 20 30]\n",
            " [40 50 60]]\n"
          ]
        }
      ]
    },
    {
      "cell_type": "markdown",
      "source": [
        "## **3-D arrays**"
      ],
      "metadata": {
        "id": "h8ZHiBiCyu8K"
      }
    },
    {
      "cell_type": "markdown",
      "source": [
        ">An **array** that has **2-D arrays** (**matrices**) as its **elements** is called **3-D array.**\n",
        "\n",
        ">These are often used to **represent** a **3rd order tensor.**"
      ],
      "metadata": {
        "id": "l6gC0M2HyxiV"
      }
    },
    {
      "cell_type": "code",
      "source": [
        "arr = np.array([[[10,20,30],[40,50,60]],[[10,20,30],[40,50,60]]])\n",
        "print(arr)"
      ],
      "metadata": {
        "colab": {
          "base_uri": "https://localhost:8080/"
        },
        "id": "LblTNQopypsJ",
        "outputId": "e7f9a6a3-3edf-4d1f-9fef-df6ce6073edf"
      },
      "execution_count": null,
      "outputs": [
        {
          "output_type": "stream",
          "name": "stdout",
          "text": [
            "[[[10 20 30]\n",
            "  [40 50 60]]\n",
            "\n",
            " [[10 20 30]\n",
            "  [40 50 60]]]\n"
          ]
        }
      ]
    },
    {
      "cell_type": "markdown",
      "source": [
        "## **Check Number of Dimensions?**"
      ],
      "metadata": {
        "id": "3_VRXWKoy6E9"
      }
    },
    {
      "cell_type": "markdown",
      "source": [
        "NumPy Arrays provides the **ndim** **attribute** that **returns** an **integer** that tells us how many **dimensions** the array have."
      ],
      "metadata": {
        "id": "WLmYl914y8p9"
      }
    },
    {
      "cell_type": "code",
      "source": [
        "a = np.array(42)\n",
        "b = np.array([1, 2, 3, 4, 5])\n",
        "c = np.array([[1, 2, 3], [4, 5, 6]])\n",
        "d = np.array([[[1, 2, 3], [4, 5, 6]], [[1, 2, 3], [4, 5, 6]]])\n",
        "\n",
        "print(f\"Number of dimensions in Array is :\" ,a.ndim)\n",
        "print(f\"Number of dimensions in Array is :\" ,b.ndim)\n",
        "print(f\"Number of dimensions in Array is :\" ,c.ndim)\n",
        "print(f\"Number of dimensions in Array is :\" ,d.ndim)"
      ],
      "metadata": {
        "colab": {
          "base_uri": "https://localhost:8080/"
        },
        "id": "DeHdjeDty0uc",
        "outputId": "a1242fe2-b388-4726-ded3-627830d6ce0b"
      },
      "execution_count": null,
      "outputs": [
        {
          "output_type": "stream",
          "name": "stdout",
          "text": [
            "Number of dimensions in Array is : 0\n",
            "Number of dimensions in Array is : 1\n",
            "Number of dimensions in Array is : 2\n",
            "Number of dimensions in Array is : 3\n"
          ]
        }
      ]
    },
    {
      "cell_type": "markdown",
      "source": [
        "## **Higher Dimensional Arrays**"
      ],
      "metadata": {
        "id": "wl3IS2TizBGp"
      }
    },
    {
      "cell_type": "markdown",
      "source": [
        "An **array** can have **any number of dimensions**.\n",
        "\n",
        ">When the array is created, **you can define** the **number** of **dimensions** by using the **ndmin** argument."
      ],
      "metadata": {
        "id": "ZiRCnsNvzEbn"
      }
    },
    {
      "cell_type": "code",
      "source": [
        "arr = np.array([10,20,30,40,50], ndmin=5)\n",
        "\n",
        "print(arr)\n",
        "\n",
        "print(f\"Number of dimensions in Array is :\", arr.ndim)"
      ],
      "metadata": {
        "colab": {
          "base_uri": "https://localhost:8080/"
        },
        "id": "UXbsv30Jy-aK",
        "outputId": "c6df68d9-8ce3-4d7a-9193-b7e4e8ff0cd8"
      },
      "execution_count": null,
      "outputs": [
        {
          "output_type": "stream",
          "name": "stdout",
          "text": [
            "[[[[[10 20 30 40 50]]]]]\n",
            "Number of dimensions in Array is : 5\n"
          ]
        }
      ]
    },
    {
      "cell_type": "code",
      "source": [],
      "metadata": {
        "id": "pkTt6fAKzG2A"
      },
      "execution_count": null,
      "outputs": []
    },
    {
      "cell_type": "markdown",
      "source": [
        "#  **NumPy Array Indexing**"
      ],
      "metadata": {
        "id": "1XhVVXOVzLdL"
      }
    },
    {
      "cell_type": "markdown",
      "source": [
        ">Array indexing is the same as accessing an array element.\n",
        "\n",
        ">You can access an array element by referring to its index number.\n",
        "\n",
        ">The indexes in NumPy arrays **start with 0**, meaning that the **first element **has index **0**, and the **second** has index **1** etc."
      ],
      "metadata": {
        "id": "QaKdgx0dzOLg"
      }
    },
    {
      "cell_type": "code",
      "source": [
        "#Access first element\n",
        "\n",
        "arr= np.array([10,20,30,40,50,60,70,80,90,100])\n",
        "\n",
        "print(arr[0])"
      ],
      "metadata": {
        "colab": {
          "base_uri": "https://localhost:8080/"
        },
        "id": "f9FArmrmzOzP",
        "outputId": "b2a05e96-7e1e-491d-cbbb-b198c7e08e3c"
      },
      "execution_count": null,
      "outputs": [
        {
          "output_type": "stream",
          "name": "stdout",
          "text": [
            "10\n"
          ]
        }
      ]
    },
    {
      "cell_type": "code",
      "source": [
        "#Access second element\n",
        "\n",
        "arr= np.array([10,20,30,40,50,60,70,80,90,100])\n",
        "\n",
        "print(arr[1])"
      ],
      "metadata": {
        "colab": {
          "base_uri": "https://localhost:8080/"
        },
        "id": "kl7RXvZ-zSyQ",
        "outputId": "1cdb3e23-d288-4d98-9cb9-524788fd8b52"
      },
      "execution_count": null,
      "outputs": [
        {
          "output_type": "stream",
          "name": "stdout",
          "text": [
            "20\n"
          ]
        }
      ]
    },
    {
      "cell_type": "code",
      "source": [
        "#Get third and fourth elements from the following array and add them.\n",
        "\n",
        "arr= np.array([10,20,30,40,50,60,70,80,90,100])\n",
        "\n",
        "print(arr[2]+arr[3])"
      ],
      "metadata": {
        "colab": {
          "base_uri": "https://localhost:8080/"
        },
        "id": "BQf6yRMpzUiO",
        "outputId": "92136ac1-589f-4b3c-95c5-060c0585937f"
      },
      "execution_count": null,
      "outputs": [
        {
          "output_type": "stream",
          "name": "stdout",
          "text": [
            "70\n"
          ]
        }
      ]
    },
    {
      "cell_type": "code",
      "source": [],
      "metadata": {
        "id": "HkSgM7cazWmi"
      },
      "execution_count": null,
      "outputs": []
    },
    {
      "cell_type": "markdown",
      "source": [
        "## **Access 2-D Arrays**\n",
        "To access elements from 2-D arrays we can use **comma separated integers** representing **the dimension** and the **index of the element.**\n",
        "\n",
        ">**dimension index also starts from 0**"
      ],
      "metadata": {
        "id": "DdgqS-P4U_E1"
      }
    },
    {
      "cell_type": "code",
      "source": [
        "arr = np.array([[10,20,30,40,50],[60,70,80,90,100]])\n",
        "\n",
        "print(f\"First element from first Dimension {arr[0,0]}\")"
      ],
      "metadata": {
        "id": "R50R1vedU8bY",
        "outputId": "cbab32b5-ac91-407d-d114-f3df3a2d56f5",
        "colab": {
          "base_uri": "https://localhost:8080/"
        }
      },
      "outputs": [
        {
          "output_type": "stream",
          "name": "stdout",
          "text": [
            "First element from first Dimension 10\n"
          ]
        }
      ],
      "execution_count": null
    },
    {
      "cell_type": "code",
      "source": [
        "arr = np.array([[10,20,30,40,50],[60,70,80,90,100]])\n",
        "\n",
        "print(f\"First element from second Dimension {arr[1,0]}\")"
      ],
      "metadata": {
        "id": "ZgnPuR40VcYj",
        "outputId": "94cdda23-b893-44a2-a150-fdcc188048fd",
        "colab": {
          "base_uri": "https://localhost:8080/"
        }
      },
      "outputs": [
        {
          "output_type": "stream",
          "name": "stdout",
          "text": [
            "First element from second Dimension 60\n"
          ]
        }
      ],
      "execution_count": null
    },
    {
      "cell_type": "markdown",
      "source": [
        "## **Access 3-D Arrays**\n",
        "To access elements from 3-D arrays we can use **comma separated integers **representing the **dimensions** and the **index of the element.**"
      ],
      "metadata": {
        "id": "Mggvppt3V5OY"
      }
    },
    {
      "cell_type": "code",
      "source": [
        "arr = np.array([[[10,20,30],[40,50,60]],[[70,80,90],[100,200,300]]])\n",
        "\n",
        "print(arr)"
      ],
      "metadata": {
        "id": "qIQmxeB_V2Vz",
        "outputId": "09a4b182-7ae6-4f51-baa4-71bc52f3a1e4",
        "colab": {
          "base_uri": "https://localhost:8080/"
        }
      },
      "outputs": [
        {
          "output_type": "stream",
          "name": "stdout",
          "text": [
            "[[[ 10  20  30]\n",
            "  [ 40  50  60]]\n",
            "\n",
            " [[ 70  80  90]\n",
            "  [100 200 300]]]\n"
          ]
        }
      ],
      "execution_count": null
    },
    {
      "cell_type": "code",
      "source": [
        "#Access the third element of the second array of the first array:\n",
        "print(arr[0,1,2])"
      ],
      "metadata": {
        "id": "3MuCwCrNWYg3",
        "outputId": "073b49ea-80f7-41cd-e139-0199d3094bd5",
        "colab": {
          "base_uri": "https://localhost:8080/"
        }
      },
      "outputs": [
        {
          "output_type": "stream",
          "name": "stdout",
          "text": [
            "60\n"
          ]
        }
      ],
      "execution_count": null
    },
    {
      "cell_type": "code",
      "source": [
        "arr = np.array([[[[ 1,  2], [ 3,  4]],\n",
        "                 [[ 5,  6], [ 7,  8]]],\n",
        "\n",
        "                [[[ 9, 10], [11, 12]],\n",
        "                 [[13, 14], [15, 16]]]])\n",
        "arr"
      ],
      "metadata": {
        "id": "tve-MnoZ1XlU",
        "colab": {
          "base_uri": "https://localhost:8080/"
        },
        "outputId": "c09bb671-a827-4593-ab83-87a53d84e5f0"
      },
      "execution_count": null,
      "outputs": [
        {
          "output_type": "execute_result",
          "data": {
            "text/plain": [
              "array([[[[ 1,  2],\n",
              "         [ 3,  4]],\n",
              "\n",
              "        [[ 5,  6],\n",
              "         [ 7,  8]]],\n",
              "\n",
              "\n",
              "       [[[ 9, 10],\n",
              "         [11, 12]],\n",
              "\n",
              "        [[13, 14],\n",
              "         [15, 16]]]])"
            ]
          },
          "metadata": {},
          "execution_count": 64
        }
      ]
    },
    {
      "cell_type": "code",
      "source": [
        "res1 = arr[0,1,1,1]\n",
        "res2 = arr[1,0,1,1]\n",
        "res3 = arr[1,1,0,1]"
      ],
      "metadata": {
        "id": "PGDU9Qrf1Zsb"
      },
      "execution_count": null,
      "outputs": []
    },
    {
      "cell_type": "code",
      "source": [
        "res3"
      ],
      "metadata": {
        "colab": {
          "base_uri": "https://localhost:8080/"
        },
        "id": "wShtca4-2IOU",
        "outputId": "2fe1798e-b6c6-4769-fe06-86eb139b3df7"
      },
      "execution_count": null,
      "outputs": [
        {
          "output_type": "execute_result",
          "data": {
            "text/plain": [
              "np.int64(14)"
            ]
          },
          "metadata": {},
          "execution_count": 67
        }
      ]
    },
    {
      "cell_type": "markdown",
      "source": [
        "### **Explanation**\n",
        "**The first number represents the first dimension, which contains two arrays:**\n",
        "\n",
        "     [ [ 10,20,30 ] , [ 40,50,60] ]\n",
        "\n",
        "**and:**\n",
        "\n",
        "    [ [ 70,80,90 ] , [ 100,200,300 ] ]\n",
        "\n",
        "**Since we selected 0, we are left with the first array:**\n",
        "\n",
        "    [ [ 10,20,30 ] , [ 40,50,60] ]\n",
        "\n",
        "\n",
        "**The second number represents the second dimension, which also contains two arrays:**\n",
        "\n",
        "\n",
        "    [ 10,20,30 ]\n",
        "\n",
        "**and:**\n",
        "\n",
        "    [ 40,50,60]\n",
        "\n",
        "**Since we selected 1, we are left with the second array:**\n",
        "\n",
        "    [ 40,50,60]\n",
        "\n",
        "**The third number represents the third dimension (element) , which contains three values:**\n",
        "\n",
        "    40\n",
        "\n",
        "    50\n",
        "\n",
        "    60\n",
        "\n",
        "**Since we selected 2, we end up with the third value:**\n",
        "\n",
        "    60"
      ],
      "metadata": {
        "id": "Rc4UsnbPWwl8"
      }
    },
    {
      "cell_type": "markdown",
      "source": [
        "## **Negative Indexing**\n",
        "\n",
        ">Use negative indexing to access an array from the end."
      ],
      "metadata": {
        "id": "FJdB13YiYOvU"
      }
    },
    {
      "cell_type": "code",
      "source": [
        "arr = np.array([[10,20,30,40,50],[60,70,80,90,100]])\n",
        "\n",
        "print(f\"Last element from first Dimension {arr[0,-1]}\")"
      ],
      "metadata": {
        "id": "So_7sxvcWe3Z",
        "outputId": "c7c33919-6582-40f7-d7e4-c0ea84476c39",
        "colab": {
          "base_uri": "https://localhost:8080/"
        }
      },
      "outputs": [
        {
          "output_type": "stream",
          "name": "stdout",
          "text": [
            "Last element from first Dimension 50\n"
          ]
        }
      ],
      "execution_count": null
    },
    {
      "cell_type": "markdown",
      "source": [
        "# **NumPy Array Slicing**\n"
      ],
      "metadata": {
        "id": "QKYD7GLCYgc7"
      }
    },
    {
      "cell_type": "markdown",
      "source": [
        "\n",
        "**Slicing in python means taking elements from one given index to another given index.**\n",
        "\n",
        "We pass slice instead of index like this:\n",
        "\n",
        "    [start:end]\n",
        "\n",
        "We can also define the step, like this:\n",
        "\n",
        "    [start:end:step]\n",
        "\n",
        "If we **don't** pass **start** its considered **0**\n",
        "\n",
        "If we **don't** pass **end** its considered **length** of array **in that dimension**\n",
        "\n",
        "If we **don't** pass **step** its considered **1**"
      ],
      "metadata": {
        "id": "8g4pFxoezueM"
      }
    },
    {
      "cell_type": "code",
      "source": [
        "#Slice elements from index 1 to index 5 from the following array\n",
        "\n",
        "arr = np.array([1, 2, 3, 4, 5, 6, 7])\n",
        "\n",
        "print(arr[1:5:1])"
      ],
      "metadata": {
        "id": "-0iH6P9BYady",
        "outputId": "d416ac92-7b2c-442a-982a-8e696afbb049",
        "colab": {
          "base_uri": "https://localhost:8080/"
        }
      },
      "outputs": [
        {
          "output_type": "stream",
          "name": "stdout",
          "text": [
            "[2 3 4 5]\n"
          ]
        }
      ],
      "execution_count": null
    },
    {
      "cell_type": "markdown",
      "source": [
        "> **Note:** The result **includes** the **start** index, but **excludes** the **end** index."
      ],
      "metadata": {
        "id": "gQNdkVgMZUjj"
      }
    },
    {
      "cell_type": "code",
      "source": [
        "#Slice elements from index 4 to the end of the array:\n",
        "\n",
        "arr = np.array([1, 2, 3, 4, 5, 6, 7])\n",
        "\n",
        "print(arr[4:6:1])"
      ],
      "metadata": {
        "id": "2HCkeaBcZOZK",
        "outputId": "3dfb729b-b762-4e2b-cb61-9a3cc1ad6605",
        "colab": {
          "base_uri": "https://localhost:8080/"
        }
      },
      "outputs": [
        {
          "output_type": "stream",
          "name": "stdout",
          "text": [
            "[5 6]\n"
          ]
        }
      ],
      "execution_count": null
    },
    {
      "cell_type": "code",
      "source": [
        "#Slice elements from the beginning to index 4 (not included):\n",
        "\n",
        "arr = np.array([1, 2, 3, 4, 5, 6, 7])\n",
        "\n",
        "print(arr[:4:1])"
      ],
      "metadata": {
        "id": "vZRgiZq1Zg_i",
        "outputId": "61d00dca-acaf-4e9d-ad0c-6fa606506203",
        "colab": {
          "base_uri": "https://localhost:8080/"
        }
      },
      "outputs": [
        {
          "output_type": "stream",
          "name": "stdout",
          "text": [
            "[1 2 3 4]\n"
          ]
        }
      ],
      "execution_count": null
    },
    {
      "cell_type": "markdown",
      "source": [
        "# **Negative Slicing**\n"
      ],
      "metadata": {
        "id": "J9DeO2VBZsiE"
      }
    },
    {
      "cell_type": "markdown",
      "source": [
        "**Use the minus operator to refer to an index from the end**"
      ],
      "metadata": {
        "id": "15jjEQ93zykT"
      }
    },
    {
      "cell_type": "code",
      "source": [
        "#Slice from the index 3 from the end to index 1 from the end\n",
        "\n",
        "arr = np.array([1, 2, 3, 4, 5, 6, 7])\n",
        "\n",
        "print(arr[-3:-1])"
      ],
      "metadata": {
        "id": "ikFgPBRoZpxH",
        "outputId": "772cff42-a0ac-4b12-c429-099f42739368",
        "colab": {
          "base_uri": "https://localhost:8080/"
        }
      },
      "outputs": [
        {
          "output_type": "stream",
          "name": "stdout",
          "text": [
            "[5 6]\n"
          ]
        }
      ],
      "execution_count": null
    },
    {
      "cell_type": "markdown",
      "source": [
        "# **Slicing 2-D Arrays**\n"
      ],
      "metadata": {
        "id": "8C7h8wvXaAFJ"
      }
    },
    {
      "cell_type": "code",
      "source": [
        "#From the second element, slice elements from index 1 to index 4 (not included)\n",
        "\n",
        "arr = np.array([[10,20,30,40,50],[60,70,80,90,100]])\n",
        "\n",
        "print(arr[1,1:4])"
      ],
      "metadata": {
        "id": "_GC_K3bMaJpO",
        "outputId": "74ef1ff2-df52-49c7-fc2c-131b2783f7be",
        "colab": {
          "base_uri": "https://localhost:8080/"
        }
      },
      "outputs": [
        {
          "output_type": "stream",
          "name": "stdout",
          "text": [
            "[70 80 90]\n"
          ]
        }
      ],
      "execution_count": null
    },
    {
      "cell_type": "code",
      "source": [
        "#From both elements, return index 2:\n",
        "\n",
        "arr = np.array([[10,20,30,40,50],[60,70,80,90,100]])\n",
        "\n",
        "print(arr[0:2,2])"
      ],
      "metadata": {
        "id": "IjeDXufWawKq",
        "outputId": "343d51f4-6e9d-41f3-8fb8-a1391793ee13",
        "colab": {
          "base_uri": "https://localhost:8080/"
        }
      },
      "outputs": [
        {
          "output_type": "stream",
          "name": "stdout",
          "text": [
            "[30 80]\n"
          ]
        }
      ],
      "execution_count": null
    },
    {
      "cell_type": "code",
      "source": [
        "arr = np.array([[10,20,30,40,50],[60,70,80,90,100]])\n",
        "\n",
        "print(arr[0:2,1:4])"
      ],
      "metadata": {
        "id": "6InyU78ea8FR",
        "outputId": "c3a935cc-b1b6-47f8-aeb3-d21145f36b14",
        "colab": {
          "base_uri": "https://localhost:8080/"
        }
      },
      "outputs": [
        {
          "output_type": "stream",
          "name": "stdout",
          "text": [
            "[[20 30 40]\n",
            " [70 80 90]]\n"
          ]
        }
      ],
      "execution_count": null
    },
    {
      "cell_type": "markdown",
      "source": [
        "# **NumPy Array Shape**\n"
      ],
      "metadata": {
        "id": "Nuqv_4H2h0dv"
      }
    },
    {
      "cell_type": "markdown",
      "source": [
        "The shape of an array is the number of elements in each dimension.\n",
        "\n",
        "NumPy arrays have an **attribute** called **shape** that **returns** a **tuple** with **each index** having the **number** of **corresponding** **elements**."
      ],
      "metadata": {
        "id": "YkqUlHozz1-Z"
      }
    },
    {
      "cell_type": "code",
      "source": [
        "#Print the shape of a 2-D array\n",
        "\n",
        "arr = np.array([[1, 2, 3, 4], [5, 6, 7, 8]])\n",
        "\n",
        "print(arr.shape)  #OUTPUT 2 >>> Two elements in first dimension , 4 >>> Four elements in second dimension"
      ],
      "metadata": {
        "id": "y12iXm4iftk7",
        "outputId": "3b4858dc-7c6e-44bc-a4e4-4452096546c1",
        "colab": {
          "base_uri": "https://localhost:8080/"
        }
      },
      "outputs": [
        {
          "output_type": "stream",
          "name": "stdout",
          "text": [
            "(2, 4)\n"
          ]
        }
      ],
      "execution_count": null
    },
    {
      "cell_type": "code",
      "source": [
        "# Create an array with 5 dimensions using ndmin using a vector with values 1,2,3,4 and verify that last dimension has value 4:\n",
        "\n",
        "arr = np.array([1,2,3,4] , ndmin=5)\n",
        "\n",
        "\n",
        "print('shape of array :', arr.shape)  #arr has 5 dimensions, in each dimension there is only one element except for the last dimension has 4 elements ([1, 2, 3, 4])."
      ],
      "metadata": {
        "id": "xX6lpyHZiG6W",
        "outputId": "87f25422-276a-44d1-841b-ce82298b07da",
        "colab": {
          "base_uri": "https://localhost:8080/"
        }
      },
      "outputs": [
        {
          "output_type": "stream",
          "name": "stdout",
          "text": [
            "shape of array : (1, 1, 1, 1, 4)\n"
          ]
        }
      ],
      "execution_count": null
    },
    {
      "cell_type": "code",
      "source": [
        "arr"
      ],
      "metadata": {
        "colab": {
          "base_uri": "https://localhost:8080/"
        },
        "id": "qzBp5M0x-MpH",
        "outputId": "cfdf8d26-c397-4a19-de38-227d5652b670"
      },
      "execution_count": null,
      "outputs": [
        {
          "output_type": "execute_result",
          "data": {
            "text/plain": [
              "array([[[[[1, 2, 3, 4]]]]])"
            ]
          },
          "metadata": {},
          "execution_count": 64
        }
      ]
    },
    {
      "cell_type": "markdown",
      "source": [
        "# **NumPy Array Reshaping**\n",
        "\n"
      ],
      "metadata": {
        "id": "72tqFxoclXJ4"
      }
    },
    {
      "cell_type": "markdown",
      "source": [
        "> By reshaping we can **add** or **remove** **dimensions** or **change** **number** of elements in **each** **dimension**.\n",
        "\n",
        "**Reshape From 1-D to 2-D**\n",
        "the outermost dimension will have 2 arrays, each with 6 elements:"
      ],
      "metadata": {
        "id": "T6rdRhEQz4wG"
      }
    },
    {
      "cell_type": "code",
      "source": [
        "#Convert the following 1-D array with 12 elements into a 2-D array\n",
        "arr = np.array([1, 2, 3, 4, 5, 6, 7, 8, 9, 10, 11, 12])\n",
        "\n",
        "newarr = arr.reshape(2, 6)\n",
        "\n",
        "print(newarr)"
      ],
      "metadata": {
        "id": "40qbGjNnm_Yd",
        "outputId": "4cfb27e5-e3c9-4490-f77e-d8df3b7baf47",
        "colab": {
          "base_uri": "https://localhost:8080/"
        }
      },
      "outputs": [
        {
          "output_type": "stream",
          "name": "stdout",
          "text": [
            "[[ 1  2  3  4  5  6]\n",
            " [ 7  8  9 10 11 12]]\n"
          ]
        }
      ],
      "execution_count": null
    },
    {
      "cell_type": "markdown",
      "source": [
        "## **Reshape From 1-D to 3-D**\n",
        "The outermost dimension will have 2 arrays that contains 2 arrays, each with 3 elements:"
      ],
      "metadata": {
        "id": "RfksPtW5nqdT"
      }
    },
    {
      "cell_type": "code",
      "source": [
        "#Convert the following 1-D array with 12 elements into a 3-D array\n",
        "\n",
        "arr = np.array([1, 2, 3, 4, 5, 6, 7, 8, 9, 10, 11, 12])\n",
        "\n",
        "newarr = arr.reshape(2,2,3)\n",
        "\n",
        "print(newarr)"
      ],
      "metadata": {
        "id": "PmX5Zt6lnOgT",
        "outputId": "b9fdb484-40d5-4e2f-ce65-e8f710737b9d",
        "colab": {
          "base_uri": "https://localhost:8080/"
        }
      },
      "outputs": [
        {
          "output_type": "stream",
          "name": "stdout",
          "text": [
            "[[[ 1  2  3]\n",
            "  [ 4  5  6]]\n",
            "\n",
            " [[ 7  8  9]\n",
            "  [10 11 12]]]\n"
          ]
        }
      ],
      "execution_count": null
    },
    {
      "cell_type": "code",
      "source": [
        "newarr.shape"
      ],
      "metadata": {
        "colab": {
          "base_uri": "https://localhost:8080/"
        },
        "id": "62jInBCd-2aD",
        "outputId": "e33235ca-17da-42b9-9b58-fb43dad96c04"
      },
      "execution_count": null,
      "outputs": [
        {
          "output_type": "execute_result",
          "data": {
            "text/plain": [
              "(2, 2, 3)"
            ]
          },
          "metadata": {},
          "execution_count": 66
        }
      ]
    },
    {
      "cell_type": "code",
      "source": [
        "arr = np.array([1, 2, 3, 4, 5, 6, 7, 8])\n",
        "\n",
        "print(arr.reshape(2, 4))   #The example returns the original array, so it is a view"
      ],
      "metadata": {
        "id": "OTOzyH_3oBO6",
        "outputId": "fdb204b0-6d2c-45b8-d44e-0f5d8d0e9692",
        "colab": {
          "base_uri": "https://localhost:8080/"
        }
      },
      "outputs": [
        {
          "output_type": "stream",
          "name": "stdout",
          "text": [
            "[[1 2 3 4]\n",
            " [5 6 7 8]]\n"
          ]
        }
      ],
      "execution_count": null
    },
    {
      "cell_type": "markdown",
      "source": [
        "# **Flattening the arrays**\n"
      ],
      "metadata": {
        "id": "-DqkZgr7rEzv"
      }
    },
    {
      "cell_type": "markdown",
      "source": [
        "\n",
        "**Flattening array means converting a multidimensional array into a 1D array.**\n",
        "\n",
        "We can use **reshape(-1)** to do this."
      ],
      "metadata": {
        "id": "c847OExY0A1s"
      }
    },
    {
      "cell_type": "code",
      "source": [
        "arr = np.array([[[10,20,30],[40,50,60]],[[70,80,90],[100,200,300]]])\n",
        "print(arr)\n",
        "\n",
        "\n",
        "newarr = arr.reshape(-1)\n",
        "print(newarr)"
      ],
      "metadata": {
        "id": "5KsMDW-CrBuw",
        "outputId": "034056fd-d6ad-4096-ad34-7d804c5d2259",
        "colab": {
          "base_uri": "https://localhost:8080/"
        }
      },
      "outputs": [
        {
          "output_type": "stream",
          "name": "stdout",
          "text": [
            "[[[ 10  20  30]\n",
            "  [ 40  50  60]]\n",
            "\n",
            " [[ 70  80  90]\n",
            "  [100 200 300]]]\n",
            "[ 10  20  30  40  50  60  70  80  90 100 200 300]\n"
          ]
        }
      ],
      "execution_count": null
    }
  ]
}