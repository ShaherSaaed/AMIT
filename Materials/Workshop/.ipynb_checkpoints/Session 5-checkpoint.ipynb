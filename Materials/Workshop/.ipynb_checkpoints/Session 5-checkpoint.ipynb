{
 "cells": [
  {
   "cell_type": "markdown",
   "metadata": {},
   "source": [
    "# Classes (user defined datatypes)"
   ]
  },
  {
   "cell_type": "markdown",
   "metadata": {},
   "source": [
    "**Classes are containers that can contain any object of any datatype which we call --> \"attributes\"**"
   ]
  },
  {
   "cell_type": "code",
   "execution_count": 1,
   "metadata": {},
   "outputs": [
    {
     "data": {
      "text/plain": [
       "'name'"
      ]
     },
     "execution_count": 1,
     "metadata": {},
     "output_type": "execute_result"
    }
   ],
   "source": [
    "class Person:\n",
    "    name = \"name\"\n",
    "    age = -1 \n",
    "    nationality = \"Nationality\"\n",
    "    addresses = [\"Cairo\", \"Alex\"]\n",
    "\n",
    "Person.name"
   ]
  },
  {
   "cell_type": "markdown",
   "metadata": {},
   "source": [
    "**Classes can also contain functions which we call --> \"Methods\"**"
   ]
  },
  {
   "cell_type": "code",
   "execution_count": 2,
   "metadata": {},
   "outputs": [
    {
     "data": {
      "text/plain": [
       "'This is a user defined datatype'"
      ]
     },
     "execution_count": 2,
     "metadata": {},
     "output_type": "execute_result"
    }
   ],
   "source": [
    "class Person:\n",
    "    name = \"name\"\n",
    "    age = -1 \n",
    "    nationality = \"Egyptian\"\n",
    "    \n",
    "    def info():\n",
    "        return \"This is a user defined datatype\"\n",
    "\n",
    "Person.info()"
   ]
  },
  {
   "cell_type": "markdown",
   "metadata": {},
   "source": [
    "**Objects**"
   ]
  },
  {
   "cell_type": "code",
   "execution_count": 4,
   "metadata": {
    "scrolled": true
   },
   "outputs": [
    {
     "name": "stdout",
     "output_type": "stream",
     "text": [
      "name\n",
      "ali\n",
      "----------\n",
      "-1\n",
      "50\n",
      "----------\n",
      "Nationality\n",
      "Egyptian\n"
     ]
    }
   ],
   "source": [
    "class Person:\n",
    "    name = \"name\"\n",
    "    age = -1 \n",
    "    nationality = \"Nationality\"\n",
    "    \n",
    "    def info():\n",
    "        return \"This is a user defined datatype\"\n",
    "\n",
    "ali = Person()\n",
    "\n",
    "print(ali.name)\n",
    "ali.name = \"ali\"\n",
    "print(ali.name)\n",
    "\n",
    "print(\"----------\")\n",
    "\n",
    "print(ali.age)\n",
    "ali.age = 50\n",
    "print(ali.age)\n",
    "\n",
    "print(\"----------\")\n",
    "\n",
    "print(ali.nationality)\n",
    "ali.nationality = \"Egyptian\"\n",
    "print(ali.nationality)"
   ]
  },
  {
   "cell_type": "code",
   "execution_count": 8,
   "metadata": {},
   "outputs": [
    {
     "data": {
      "text/plain": [
       "'Ali'"
      ]
     },
     "execution_count": 8,
     "metadata": {},
     "output_type": "execute_result"
    }
   ],
   "source": [
    "class Person:\n",
    "    name = \"name\"\n",
    "    age = -1 \n",
    "    nationality = \"Nationality\"\n",
    "    \n",
    "    def info():\n",
    "        return \"This is a user defined datatype\"\n",
    "\n",
    "def update(p, name, age, nationality):\n",
    "    p.name = name\n",
    "    p.age = age\n",
    "    p.nationality = nationality\n",
    "\n",
    "ali = Person()\n",
    "\n",
    "update(ali, \"Ali\", 50, \"Egyptian\")\n",
    "ali.name"
   ]
  },
  {
   "cell_type": "markdown",
   "metadata": {},
   "source": [
    "**Passing objects as parameters**"
   ]
  },
  {
   "cell_type": "code",
   "execution_count": 16,
   "metadata": {
    "scrolled": true
   },
   "outputs": [
    {
     "name": "stdout",
     "output_type": "stream",
     "text": [
      "name -1 Nationality\n",
      "----------\n",
      "Ali 50 Egyptian\n"
     ]
    }
   ],
   "source": [
    "class Person:\n",
    "    name = \"name\"\n",
    "    age = -1 \n",
    "    nationality = \"Nationality\"\n",
    "    \n",
    "    def update(_, obj, name, age, nationality):\n",
    "        obj.name = name\n",
    "        obj.age = age\n",
    "        obj.nationality = nationality\n",
    "    \n",
    "    def info():\n",
    "        return \"This is a user defined datatype\"\n",
    "\n",
    "ali = Person()\n",
    "\n",
    "print(ali.name, ali.age, ali.nationality, end=\"\\n----------\\n\")\n",
    "\n",
    "ali.update(ali, \"Ali\", 50, \"Egyptian\")\n",
    "\n",
    "print(ali.name, ali.age, ali.nationality)\n"
   ]
  },
  {
   "cell_type": "code",
   "execution_count": 3,
   "metadata": {},
   "outputs": [
    {
     "name": "stdout",
     "output_type": "stream",
     "text": [
      "name -1 Nationality\n",
      "----------\n",
      "Ali 50 Egyptian\n"
     ]
    }
   ],
   "source": [
    "# when an object calls a method it passes itself as the firt argument by default\n",
    "class Person:\n",
    "    name = \"name\"\n",
    "    age = -1 \n",
    "    nationality = \"Nationality\"\n",
    "    \n",
    "    \n",
    "    def update(obj, name, age, nationality):\n",
    "        obj.name = name\n",
    "        obj.age = age\n",
    "        obj.nationality = nationality\n",
    "    \n",
    "    def info():\n",
    "        return \"This is a user defined datatype\"\n",
    "\n",
    "person1 = Person()\n",
    "\n",
    "print(person1.name, person1.age, person1.nationality, end=\"\\n----------\\n\")\n",
    "\n",
    "person1.update(\"Ali\", 50, \"Egyptian\")\n",
    "\n",
    "print(person1.name, person1.age, person1.nationality)\n"
   ]
  },
  {
   "cell_type": "markdown",
   "metadata": {},
   "source": [
    "**self clause**"
   ]
  },
  {
   "cell_type": "code",
   "execution_count": 8,
   "metadata": {},
   "outputs": [
    {
     "name": "stdout",
     "output_type": "stream",
     "text": [
      "name -1 Nationality\n",
      "----------\n",
      "Ali 50 Egyptian\n"
     ]
    }
   ],
   "source": [
    "# use self when denoting the object you are calling methods with\n",
    "class Person:\n",
    "    name = \"name\"\n",
    "    age = -1 \n",
    "    nationality = \"Nationality\"\n",
    "    \n",
    "    def update(self, name, age, nationality):\n",
    "        self.name = name\n",
    "        self.age = age\n",
    "        self.nationality = nationality\n",
    "    \n",
    "    def info():\n",
    "        return \"This is a user defined datatype\"\n",
    "\n",
    "person1 = Person()\n",
    "\n",
    "print(person1.name, person1.age, person1.nationality, end=\"\\n----------\\n\")\n",
    "\n",
    "person1.update(\"Ali\", 50, \"Egyptian\")\n",
    "\n",
    "print(person1.name, person1.age, person1.nationality)\n"
   ]
  },
  {
   "cell_type": "markdown",
   "metadata": {},
   "source": [
    "**Constructor**"
   ]
  },
  {
   "cell_type": "code",
   "execution_count": 9,
   "metadata": {},
   "outputs": [
    {
     "name": "stdout",
     "output_type": "stream",
     "text": [
      "ali 50 Egyptian\n"
     ]
    }
   ],
   "source": [
    "# instead of calling update function each time we create an object, define \n",
    "# a constructor and pass arguments during object creation instead of update function \n",
    "class Person:\n",
    "    name = \"name\"\n",
    "    age = -1 \n",
    "    nationality = \"Nationality\"\n",
    "    \n",
    "    def __init__(self, name, age, nationality):\n",
    "        self.name = name\n",
    "        self.age = age\n",
    "        self.nationality = nationality\n",
    "    \n",
    "    def info():\n",
    "        return \"This is a user defined datatype\"\n",
    "\n",
    "person1 = Person(\"ali\", 50, \"Egyptian\")\n",
    "\n",
    "print(person1.name, person1.age, person1.nationality)"
   ]
  },
  {
   "cell_type": "code",
   "execution_count": 10,
   "metadata": {},
   "outputs": [
    {
     "name": "stdout",
     "output_type": "stream",
     "text": [
      "This is a constructor\n"
     ]
    }
   ],
   "source": [
    "# another example\n",
    "class Person:\n",
    "    name = \"name\"\n",
    "    age = -1 \n",
    "    nationality = \"Nationality\"\n",
    "    \n",
    "    def __init__(self):\n",
    "        print(\"This is a constructor\")\n",
    "    \n",
    "    def info():\n",
    "        return \"This is a user defined datatype\"\n",
    "\n",
    "ali = Person()"
   ]
  },
  {
   "cell_type": "markdown",
   "metadata": {},
   "source": [
    "# Adding attributes to the class\n",
    "There are two types of attributes:\n",
    "1. Class Attributes\n",
    "2. Instance Attributes"
   ]
  },
  {
   "cell_type": "markdown",
   "metadata": {},
   "source": [
    "**Class Attributes**"
   ]
  },
  {
   "cell_type": "code",
   "execution_count": 12,
   "metadata": {},
   "outputs": [
    {
     "name": "stdout",
     "output_type": "stream",
     "text": [
      "name\n",
      "name\n"
     ]
    }
   ],
   "source": [
    "# the first way is to define the attributes during defining the class\n",
    "class Person:\n",
    "    name = \"name\"\n",
    "    age = -1\n",
    "    nationality = \"Nationality\"\n",
    "    def __init__(self):\n",
    "        pass\n",
    "        \n",
    "\n",
    "print(Person.name) # class attribute can be accessed by class name\n",
    "\n",
    "person1 = Person()\n",
    "print(person1.name) # class attribute can also be accessed by class name"
   ]
  },
  {
   "cell_type": "code",
   "execution_count": 13,
   "metadata": {},
   "outputs": [
    {
     "data": {
      "text/plain": [
       "3"
      ]
     },
     "execution_count": 13,
     "metadata": {},
     "output_type": "execute_result"
    }
   ],
   "source": [
    "# Example\n",
    "class Person:\n",
    "    num_of_people = 0\n",
    "    def __init__(self, n, a, nationality):\n",
    "        self.name = n\n",
    "        self.age = a\n",
    "        self.nationality = nationality\n",
    "        Person.num_of_people += 1\n",
    "        \n",
    "    \n",
    "person1 = Person(\"Ali\", 50, \"Egyptian\")\n",
    "person2 = Person(\"Mark\", 40, \"American\")\n",
    "person3 = Person(\"Lee\", 46, \"Chinese\")\n",
    "\n",
    "Person.num_of_people"
   ]
  },
  {
   "cell_type": "markdown",
   "metadata": {},
   "source": [
    "**Instance Attributes**"
   ]
  },
  {
   "cell_type": "code",
   "execution_count": 44,
   "metadata": {},
   "outputs": [],
   "source": [
    "# the second way is to use the object to create new attributes (but these attributes will be \n",
    "#                                                               specific to these objects only)\n",
    "\n",
    "class Person:\n",
    "    def __init__(self):\n",
    "        self.name = \"name\"\n",
    "        self.age = -1\n",
    "        self.nationality = \"Nationality\"\n",
    "        \n",
    "\n",
    "person.name # This will give an error\n",
    "ali = Person()"
   ]
  },
  {
   "cell_type": "markdown",
   "metadata": {},
   "source": [
    "**Instance and class attributes with the same name**\n",
    "\n",
    "if there is a class attribute and an instance attribute with the same name then they are considered to be different attributes "
   ]
  },
  {
   "cell_type": "code",
   "execution_count": 16,
   "metadata": {},
   "outputs": [
    {
     "name": "stdout",
     "output_type": "stream",
     "text": [
      "name\n",
      "Ali\n"
     ]
    }
   ],
   "source": [
    "# the first way is to define the attributes during defining the class\n",
    "class Person:\n",
    "    name = \"name\"\n",
    "    def __init__(self, name):\n",
    "        self.name = name\n",
    "\n",
    "\n",
    "person1 = Person(\"Ali\")\n",
    "\n",
    "print(Person.name)\n",
    "print(person1.name)"
   ]
  },
  {
   "cell_type": "markdown",
   "metadata": {},
   "source": [
    "# Assignments 1"
   ]
  },
  {
   "cell_type": "markdown",
   "metadata": {
    "collapsed": true
   },
   "source": [
    "# task :\n",
    "    \n",
    "####    make a calculator class that add , subtract and multiply two numbers"
   ]
  },
  {
   "cell_type": "code",
   "execution_count": 67,
   "metadata": {},
   "outputs": [],
   "source": [
    "class calc():\n",
    "    def __init__(self,a,b):\n",
    "        self.a=a\n",
    "        self.b=b\n",
    "    \n",
    "    \n",
    "    def add(self):\n",
    "        return self.a + self.b\n",
    "    \n",
    "    def sub(self):\n",
    "        return self.a - self.b\n",
    "    \n",
    "      \n",
    "    def mult(self):\n",
    "        return self.a * self.b"
   ]
  },
  {
   "cell_type": "code",
   "execution_count": 71,
   "metadata": {},
   "outputs": [
    {
     "name": "stdout",
     "output_type": "stream",
     "text": [
      "Addition ==> 11 \n",
      "multiplication ==> -1 \n",
      "power ==> 30\n"
     ]
    }
   ],
   "source": [
    "ca = calc(5,6)\n",
    "\n",
    "addition = ca.add()\n",
    "substraction = ca.sub()\n",
    "muiltiplication = ca.mult()\n",
    "\n",
    "print(\"Addition ==> {} \\nmultiplication ==> {} \\npower ==> {}\".format(addition, substraction, muiltiplication))"
   ]
  },
  {
   "cell_type": "markdown",
   "metadata": {},
   "source": [
    "# Instance Methods, Class Methods, Static Methods"
   ]
  },
  {
   "cell_type": "markdown",
   "metadata": {},
   "source": [
    "**Instance Methods**\n",
    "\n",
    "Can access Instance & Class Attributes"
   ]
  },
  {
   "cell_type": "code",
   "execution_count": 99,
   "metadata": {},
   "outputs": [
    {
     "name": "stdout",
     "output_type": "stream",
     "text": [
      "Ali\n",
      "Mohammed\n",
      "Omar\n"
     ]
    }
   ],
   "source": [
    "class Student:\n",
    "    school_name = \"ABC Internation Schools\"\n",
    "    def __init__(self, name, age):\n",
    "        self.name = name\n",
    "        self.age = age\n",
    "\n",
    "    def change_name(self, name):\n",
    "        self.name = name\n",
    "    \n",
    "    def change_school(self, sc_name):\n",
    "        Person.school_name = sc_name\n",
    "\n",
    "student1 = Student(\"Ali\", 50)\n",
    "print(student1.name)\n",
    "\n",
    "student1.change_name(\"Mohammed\") # Like instance attributes they can be accessed by instances\n",
    "print(student1.name)\n",
    "\n",
    "Student.change_name(student1, \"Omar\") # They can also be accessed by Class, but you must pass instance as an argument\n",
    "print(student1.name)"
   ]
  },
  {
   "cell_type": "markdown",
   "metadata": {},
   "source": [
    "**Class Methods**\n",
    "\n",
    "access or modify the class state. It can modify the class state by changing the value of a class ariable that would apply across all the class objects."
   ]
  },
  {
   "cell_type": "code",
   "execution_count": 88,
   "metadata": {},
   "outputs": [
    {
     "name": "stdout",
     "output_type": "stream",
     "text": [
      "ABC Internation Schools\n",
      "EFG Schools\n"
     ]
    }
   ],
   "source": [
    "class Student:\n",
    "    school_name = \"ABC Internation Schools\"\n",
    "    def __init__(self, name, age):\n",
    "        self.name = name\n",
    "        self.age = age\n",
    "        \n",
    "    @classmethod\n",
    "    def change_school(cls, sc_name):\n",
    "        cls.school_name = sc_name\n",
    "    \n",
    "    def change_name(self, name):\n",
    "        self.name = name\n",
    "\n",
    "print(Student.school_name)\n",
    "Student.change_school(\"EFG Schools\")\n",
    "print(Student.school_name)"
   ]
  },
  {
   "cell_type": "markdown",
   "metadata": {},
   "source": [
    "**Another Example of Class Methods**"
   ]
  },
  {
   "cell_type": "code",
   "execution_count": 60,
   "metadata": {},
   "outputs": [
    {
     "data": {
      "text/plain": [
       "'EFG Schools'"
      ]
     },
     "execution_count": 60,
     "metadata": {},
     "output_type": "execute_result"
    }
   ],
   "source": [
    "class Student:\n",
    "    num_of_students = 0\n",
    "    school_name = \"ABC Internation Schools\"\n",
    "    def __init__(self, name, age):\n",
    "        self.name = name\n",
    "        self.age = age\n",
    "        self.add()\n",
    "        \n",
    "    @classmethod\n",
    "    def change_school(cls, sc_name):\n",
    "        cls.school_name = sc_name\n",
    "        \n",
    "    @classmethod\n",
    "    def add(cls):\n",
    "        cls.num_of_students += 1\n",
    "    \n",
    "    def change_name(self, name):\n",
    "        self.name = name\n",
    "\n",
    "Student.change_school(\"EFG Schools\")\n",
    "Student.school_name"
   ]
  },
  {
   "cell_type": "code",
   "execution_count": 61,
   "metadata": {},
   "outputs": [
    {
     "data": {
      "text/plain": [
       "1"
      ]
     },
     "execution_count": 61,
     "metadata": {},
     "output_type": "execute_result"
    }
   ],
   "source": [
    "s = Student(\"ali\", 20)\n",
    "Student.num_of_students"
   ]
  },
  {
   "cell_type": "markdown",
   "metadata": {},
   "source": [
    "**Static Methods**\n",
    "\n",
    "don’t have access to the attributes of an object (instance variables) nor class attributes (class \n",
    "variables). However, they can be helpful in utility such as conversion form one type to another.\n"
   ]
  },
  {
   "cell_type": "code",
   "execution_count": 85,
   "metadata": {},
   "outputs": [
    {
     "data": {
      "text/plain": [
       "'ABC Internation Schools'"
      ]
     },
     "execution_count": 85,
     "metadata": {},
     "output_type": "execute_result"
    }
   ],
   "source": [
    "class Student:\n",
    "    school_name = \"ABC Internation Schools\"\n",
    "    def __init__(self, name, age):\n",
    "        self.name = name\n",
    "        self.age = age\n",
    "        \n",
    "    @staticmethod\n",
    "    def change_school(sc_name):\n",
    "        school_name = sc_name\n",
    "\n",
    "Student.change_school(\"EFG Schools\")\n",
    "Student.school_name\n",
    "\n",
    "# may be you would like to try to create instances of the class then pass these instances as \n",
    "# parameters to the static function but not as cls or self"
   ]
  },
  {
   "cell_type": "markdown",
   "metadata": {},
   "source": [
    "# Encapsulation\n",
    "1. Public Attributes\n",
    "2. Private Attributes\n",
    "3. Protected Attributes"
   ]
  },
  {
   "cell_type": "markdown",
   "metadata": {},
   "source": [
    "**Private attributes**"
   ]
  },
  {
   "cell_type": "code",
   "execution_count": 79,
   "metadata": {},
   "outputs": [
    {
     "data": {
      "text/plain": [
       "'public attribute'"
      ]
     },
     "execution_count": 79,
     "metadata": {},
     "output_type": "execute_result"
    }
   ],
   "source": [
    "class C:\n",
    "    __x = \"private attribute\" # private attribute\n",
    "    x = \"public attribute\" # public attribute \n",
    "    def __init__(self, name):\n",
    "        self.__name = name # private attribute\n",
    "\n",
    "o = C(\"ali\")\n",
    "# o.__name \n",
    "# o.__x\n",
    "o.x"
   ]
  },
  {
   "cell_type": "code",
   "execution_count": 17,
   "metadata": {},
   "outputs": [
    {
     "name": "stdout",
     "output_type": "stream",
     "text": [
      "Ali\n"
     ]
    },
    {
     "data": {
      "text/plain": [
       "'Mohammed'"
      ]
     },
     "execution_count": 17,
     "metadata": {},
     "output_type": "execute_result"
    }
   ],
   "source": [
    "# the first way is to define the attributes during defining the class\n",
    "class Person:\n",
    "    \n",
    "    def __init__(self, name, age, nationality):\n",
    "        self.__name = name\n",
    "        self.__age = age\n",
    "        self.__nationality = nationality\n",
    "    \n",
    "    def get_name(self):\n",
    "        return self.__name\n",
    "\n",
    "o = Person(\"Ali\", 50, \"Egyptian\")\n",
    "o.__name = \"Mohammed\"\n",
    "print(o.get_name())\n",
    "# print(o.name)\n",
    "o.__name"
   ]
  },
  {
   "cell_type": "markdown",
   "metadata": {},
   "source": [
    "**Protected Attributes**"
   ]
  },
  {
   "cell_type": "code",
   "execution_count": 90,
   "metadata": {},
   "outputs": [
    {
     "name": "stdout",
     "output_type": "stream",
     "text": [
      "public attribute\n",
      "30\n"
     ]
    }
   ],
   "source": [
    "class Parent:\n",
    "    __x = \"private attribute\" # private attribute\n",
    "    x = \"public attribute\" # public attribute \n",
    "    def __init__(self, name, age):\n",
    "        self.__name = name # private attribute\n",
    "        self._age = age\n",
    "\n",
    "class Child(Parent):\n",
    "    pass\n",
    "\n",
    "\n",
    "o = Child(\"ali\", 30)\n",
    "# print(o.__name) \n",
    "# print(o.__x)\n",
    "print(o.x)\n",
    "print(o._age)"
   ]
  },
  {
   "cell_type": "markdown",
   "metadata": {},
   "source": [
    "# Inheretance "
   ]
  },
  {
   "cell_type": "code",
   "execution_count": 1,
   "metadata": {},
   "outputs": [
    {
     "name": "stdout",
     "output_type": "stream",
     "text": [
      "Full name: Mohammed Ali\n"
     ]
    }
   ],
   "source": [
    "class Person: \n",
    "    def __init__(self, first_name, last_name):\n",
    "        self.first_name = first_name\n",
    "        self.last_name = last_name \n",
    "    def full_name(self):\n",
    "        print(\"Full name: {} {}\".format(self.first_name, self.last_name))\n",
    "\n",
    "person1 = Person(\"Mohammed\", \"Ali\")\n",
    "person1.full_name()"
   ]
  },
  {
   "cell_type": "code",
   "execution_count": 2,
   "metadata": {
    "scrolled": true
   },
   "outputs": [
    {
     "ename": "NameError",
     "evalue": "name 'person' is not defined",
     "output_type": "error",
     "traceback": [
      "\u001b[1;31m---------------------------------------------------------------------------\u001b[0m",
      "\u001b[1;31mNameError\u001b[0m                                 Traceback (most recent call last)",
      "Cell \u001b[1;32mIn[2], line 1\u001b[0m\n\u001b[1;32m----> 1\u001b[0m \u001b[38;5;28;01mclass\u001b[39;00m \u001b[38;5;21;01mStudent\u001b[39;00m(\u001b[43mperson\u001b[49m):\n\u001b[0;32m      2\u001b[0m     \u001b[38;5;28;01mdef\u001b[39;00m \u001b[38;5;21m__init__\u001b[39m(\u001b[38;5;28mself\u001b[39m, first_name, last_name, major):\n\u001b[0;32m      3\u001b[0m         \u001b[38;5;28msuper\u001b[39m()\u001b[38;5;241m.\u001b[39m\u001b[38;5;21m__init__\u001b[39m(first_name, last_name)\n",
      "\u001b[1;31mNameError\u001b[0m: name 'person' is not defined"
     ]
    }
   ],
   "source": [
    "class Student(person):\n",
    "    def __init__(self, first_name, last_name, major):\n",
    "        super().__init__(first_name, last_name)\n",
    "        self.major = major\n",
    "    \n",
    "    def student_info(self):\n",
    "        self.full_name()\n",
    "        print(\"Major: {}\".format(self.major))\n",
    "\n",
    "student1 = Student(\"Mohammed\", \"Ali\", \"Boxer\")\n",
    "student1.student_info()"
   ]
  },
  {
   "cell_type": "markdown",
   "metadata": {},
   "source": [
    "**Another Example**"
   ]
  },
  {
   "cell_type": "code",
   "execution_count": 51,
   "metadata": {},
   "outputs": [],
   "source": [
    "class Vehicle():\n",
    "    \n",
    "    def __init__(self, speed, color):\n",
    "        self.color = color\n",
    "        self.speed = speed\n",
    "    \n",
    "    def what_color(self):\n",
    "        print('my color is: ' + self.color)\n",
    "        \n",
    "    def drive(self):\n",
    "        print('Driving with speed: ' + str(self.speed))\n",
    "\n",
    "\n",
    "class Car(Vehicle):\n",
    "    def drive(self):\n",
    "        print('start with ur key and power me on')\n",
    "        \n",
    "               \n",
    "class Plane(Vehicle):\n",
    "    \n",
    "    def drive(self):\n",
    "        super().drive()\n",
    "        print('Im Flying')\n",
    "    "
   ]
  },
  {
   "cell_type": "code",
   "execution_count": 53,
   "metadata": {},
   "outputs": [
    {
     "name": "stdout",
     "output_type": "stream",
     "text": [
      "start with ur key and power me on\n"
     ]
    }
   ],
   "source": [
    "mitsupishi = Car(100, 'red')\n",
    "\n",
    "mitsupishi.drive()"
   ]
  },
  {
   "cell_type": "code",
   "execution_count": 54,
   "metadata": {},
   "outputs": [
    {
     "name": "stdout",
     "output_type": "stream",
     "text": [
      "Driving with speed: 700\n",
      "Im Flying\n"
     ]
    }
   ],
   "source": [
    "plane1 = Plane(700, 'white')\n",
    "plane1.drive()"
   ]
  },
  {
   "cell_type": "markdown",
   "metadata": {},
   "source": [
    "# Assignment 2\n",
    "\n",
    "make a class called Advanced Calculator that inherits class Calc, and add in the child class a function that returns the power of two numbers "
   ]
  },
  {
   "cell_type": "code",
   "execution_count": 55,
   "metadata": {},
   "outputs": [],
   "source": [
    "class Calc():\n",
    "    def __init__(self,a,b):\n",
    "        self.a=a\n",
    "        self.b=b\n",
    "    \n",
    "    \n",
    "    def add(self):\n",
    "        return self.a+self.b\n",
    "    \n",
    "    def sub(self):\n",
    "        return self.a-self.b\n",
    "    \n",
    "      \n",
    "    def mult(self):\n",
    "        return self.a*self.b\n",
    "    \n",
    "class AdvancedCalc(calc):\n",
    "    def power(self):\n",
    "        return self.a ** self.b"
   ]
  },
  {
   "cell_type": "code",
   "execution_count": 56,
   "metadata": {
    "scrolled": true
   },
   "outputs": [
    {
     "name": "stdout",
     "output_type": "stream",
     "text": [
      "Addition ==> 50 \n",
      "multiplication ==> 600 \n",
      "power ==> 1073741824000000000000000000000000000000\n"
     ]
    }
   ],
   "source": [
    "o = advanced_calc(20,30)\n",
    "\n",
    "addition = o.add()\n",
    "multiplication = o.mult()\n",
    "power = o.power()\n",
    "\n",
    "print(\"Addition ==> {} \\nmultiplication ==> {} \\npower ==> {}\".format(addition, multiplication, power))"
   ]
  },
  {
   "cell_type": "code",
   "execution_count": null,
   "metadata": {},
   "outputs": [],
   "source": []
  }
 ],
 "metadata": {
  "kernelspec": {
   "display_name": "Python 3 (ipykernel)",
   "language": "python",
   "name": "python3"
  },
  "language_info": {
   "codemirror_mode": {
    "name": "ipython",
    "version": 3
   },
   "file_extension": ".py",
   "mimetype": "text/x-python",
   "name": "python",
   "nbconvert_exporter": "python",
   "pygments_lexer": "ipython3",
   "version": "3.10.9"
  }
 },
 "nbformat": 4,
 "nbformat_minor": 2
}
